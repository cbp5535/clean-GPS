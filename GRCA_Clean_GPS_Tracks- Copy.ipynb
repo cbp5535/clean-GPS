{
 "cells": [
  {
   "cell_type": "markdown",
   "source": [
    "Setup: The purpose of this code is to clean GPS device point data in recreation and tourism settings. In order to successfully run the code you will need:\n",
    "\n",
    "(i) GPS device data\n",
    "(ii) a shapefile of your study location\n",
    "\n",
    "If necessary, you may also need:\n",
    "\n",
    "(i) a shapefile of a buffer area for GPS device dropbox areas\n",
    "(ii) a shapefile of a buffer area for GPS device data download areas\n",
    "\n",
    "The setup assumes that all GPS tracks and files are saved and stored in the same folder with the appropriate projection system."
   ],
   "metadata": {
    "collapsed": false
   }
  },
  {
   "cell_type": "code",
   "execution_count": 1,
   "outputs": [
    {
     "name": "stdout",
     "output_type": "stream",
     "text": [
      "arcpy version: 3.1.2\n",
      "pandas version: 1.4.4\n"
     ]
    }
   ],
   "source": [
    "import os\n",
    "import arcpy\n",
    "import pandas as pd\n",
    "from arcgis.features import GeoAccessor, GeoSeriesAccessor\n",
    "\n",
    "# Get and print the version of arcpy (version used 3.1.2)\n",
    "print(f\"arcpy version: {arcpy.GetInstallInfo()['Version']}\")\n",
    "\n",
    "# Get and print the version of pandas (version used 1.4.4)\n",
    "print(f\"pandas version: {pd.__version__}\")"
   ],
   "metadata": {
    "collapsed": false,
    "ExecuteTime": {
     "end_time": "2024-06-09T21:04:23.803142500Z",
     "start_time": "2024-06-09T21:04:18.231573200Z"
    }
   }
  },
  {
   "cell_type": "code",
   "execution_count": 2,
   "outputs": [],
   "source": [
    "###Set up key paths\n",
    "\n",
    "##Base directory folder to retrieve files from and save completed files to for the project\n",
    "base_dir = r\"C:\\Users\\colby\\OneDrive\\Documents\\Research\\Grand Canyon\\Raw_GPS_23\"\n",
    "\n",
    "##Folder name for the folder containing the GPS data (must be within base directory)\n",
    "folder_with_data = \"GRCA_GPS_TRACKS_2023\"\n",
    "\n",
    "##The geodatabase you wish to use to temporarily store and work with files as you clean the data\n",
    "target_gdb = r\"C:\\Users\\colby\\OneDrive - The Pennsylvania State University\\Documents\\ArcGIS\\Projects\\TTRA_Presentation\\TTRA_Presentation.gdb\""
   ],
   "metadata": {
    "collapsed": false,
    "ExecuteTime": {
     "end_time": "2024-06-09T21:04:23.819782700Z",
     "start_time": "2024-06-09T21:04:23.807148Z"
    }
   }
  },
  {
   "cell_type": "code",
   "execution_count": 3,
   "outputs": [],
   "source": [
    "##Identify location of relevant shapefiles\n",
    "\n",
    "##Shapefile of the destination boundary for your study site. Procedure for doing this involved creating a polygon around National Park Service-provided roads and trails in the South Rim and removing entrances/Forest service roads outside the park caught by polygon creation by hand.\n",
    "destination_boundary = os.path.join(base_dir, \"GRCA_SRim_Boundary\")\n",
    "\n",
    "#For some studies, drop boxes may be located within the study boundary. If necessary, create an appropriately sized polygon for removing those points so that they do not generate noise, either by hand or using the buffer tool from the point. In this case, we used the buffer tool set at 150m.\n",
    "dropbox_buffer = os.path.join(base_dir, \"Dropbox_Buffer\")\n",
    "\n",
    "#For some studies, data in GPS devices may be uploaded within the study site and devices may record \"ghost\" points when they are uploaded at researcher facilities. If necessary, create an appropriately sized polygon for removing points from those locations so that they do not generate noise, either by hand or using the buffer tool from the point. In this case, we used the buffer tool set at 75m from the worker cabins we downloaded points from.\n",
    "download_buffer = os.path.join(base_dir, \"Cabin_Buffer\")"
   ],
   "metadata": {
    "collapsed": false,
    "ExecuteTime": {
     "end_time": "2024-06-09T21:04:23.845122500Z",
     "start_time": "2024-06-09T21:04:23.823104100Z"
    }
   }
  },
  {
   "cell_type": "code",
   "execution_count": 4,
   "outputs": [],
   "source": [
    "##Set your arcpy environment and permit overwrite\n",
    "\n",
    "arcpy.env.workspace = target_gdb\n",
    "arcpy.env.overwriteOutput = True"
   ],
   "metadata": {
    "collapsed": false,
    "ExecuteTime": {
     "end_time": "2024-06-09T21:04:24.016587800Z",
     "start_time": "2024-06-09T21:04:23.837122700Z"
    }
   }
  },
  {
   "cell_type": "markdown",
   "source": [
    "Section 1: In this section you will do the high level importing and cleaning of your data. This will include importing all of your data into your geodatabase, pre-processing your fields, and removing points based on spatial parameters (i.e., destination boundary, dropbox boundary, download area boundary) relevant to your study site, as applicable."
   ],
   "metadata": {
    "collapsed": false
   }
  },
  {
   "cell_type": "code",
   "execution_count": 5,
   "outputs": [
    {
     "data": {
      "text/plain": "<Result 'C:\\\\Users\\\\colby\\\\OneDrive - The Pennsylvania State University\\\\Documents\\\\ArcGIS\\\\Projects\\\\TTRA_Presentation\\\\TTRA_Presentation.gdb'>",
      "text/html": "<div class='gpresult'><h2>Messages</h2><div id='messages' data-messages='[\"Start Time: Sunday, June 9, 2024 5:04:25 PM\",\"Searching folder C:\\\\Users\\\\colby\\\\OneDrive\\\\Documents\\\\Research\\\\Grand Canyon\\\\Raw_GPS_23\\\\GRCA_GPS_TRACKS_2023 for source datasets...\",\"----------------------------------------\",\"Source file: C:\\\\Users\\\\colby\\\\OneDrive\\\\Documents\\\\Research\\\\Grand Canyon\\\\Raw_GPS_23\\\\GRCA_GPS_TRACKS_2023\\\\010112.shp\",\"----------------------------------------\",\"Source file: C:\\\\Users\\\\colby\\\\OneDrive\\\\Documents\\\\Research\\\\Grand Canyon\\\\Raw_GPS_23\\\\GRCA_GPS_TRACKS_2023\\\\010412.shp\",\"----------------------------------------\",\"Source file: C:\\\\Users\\\\colby\\\\OneDrive\\\\Documents\\\\Research\\\\Grand Canyon\\\\Raw_GPS_23\\\\GRCA_GPS_TRACKS_2023\\\\010812.shp\",\"----------------------------------------\",\"Source file: C:\\\\Users\\\\colby\\\\OneDrive\\\\Documents\\\\Research\\\\Grand Canyon\\\\Raw_GPS_23\\\\GRCA_GPS_TRACKS_2023\\\\010912.shp\",\"----------------------------------------\",\"Source file: C:\\\\Users\\\\colby\\\\OneDrive\\\\Documents\\\\Research\\\\Grand Canyon\\\\Raw_GPS_23\\\\GRCA_GPS_TRACKS_2023\\\\011212.shp\",\"----------------------------------------\",\"Source file: C:\\\\Users\\\\colby\\\\OneDrive\\\\Documents\\\\Research\\\\Grand Canyon\\\\Raw_GPS_23\\\\GRCA_GPS_TRACKS_2023\\\\011312.shp\",\"----------------------------------------\",\"Source file: C:\\\\Users\\\\colby\\\\OneDrive\\\\Documents\\\\Research\\\\Grand Canyon\\\\Raw_GPS_23\\\\GRCA_GPS_TRACKS_2023\\\\011712.shp\",\"----------------------------------------\",\"Source file: C:\\\\Users\\\\colby\\\\OneDrive\\\\Documents\\\\Research\\\\Grand Canyon\\\\Raw_GPS_23\\\\GRCA_GPS_TRACKS_2023\\\\012112.shp\",\"----------------------------------------\",\"Source file: C:\\\\Users\\\\colby\\\\OneDrive\\\\Documents\\\\Research\\\\Grand Canyon\\\\Raw_GPS_23\\\\GRCA_GPS_TRACKS_2023\\\\012412.shp\",\"----------------------------------------\",\"Source file: C:\\\\Users\\\\colby\\\\OneDrive\\\\Documents\\\\Research\\\\Grand Canyon\\\\Raw_GPS_23\\\\GRCA_GPS_TRACKS_2023\\\\012812.shp\",\"----------------------------------------\",\"Source file: C:\\\\Users\\\\colby\\\\OneDrive\\\\Documents\\\\Research\\\\Grand Canyon\\\\Raw_GPS_23\\\\GRCA_GPS_TRACKS_2023\\\\013012.shp\",\"----------------------------------------\",\"Source file: C:\\\\Users\\\\colby\\\\OneDrive\\\\Documents\\\\Research\\\\Grand Canyon\\\\Raw_GPS_23\\\\GRCA_GPS_TRACKS_2023\\\\015012.shp\",\"----------------------------------------\",\"Source file: C:\\\\Users\\\\colby\\\\OneDrive\\\\Documents\\\\Research\\\\Grand Canyon\\\\Raw_GPS_23\\\\GRCA_GPS_TRACKS_2023\\\\015112.shp\",\"----------------------------------------\",\"Source file: C:\\\\Users\\\\colby\\\\OneDrive\\\\Documents\\\\Research\\\\Grand Canyon\\\\Raw_GPS_23\\\\GRCA_GPS_TRACKS_2023\\\\015412.shp\",\"----------------------------------------\",\"Source file: C:\\\\Users\\\\colby\\\\OneDrive\\\\Documents\\\\Research\\\\Grand Canyon\\\\Raw_GPS_23\\\\GRCA_GPS_TRACKS_2023\\\\015512.shp\",\"----------------------------------------\",\"Source file: C:\\\\Users\\\\colby\\\\OneDrive\\\\Documents\\\\Research\\\\Grand Canyon\\\\Raw_GPS_23\\\\GRCA_GPS_TRACKS_2023\\\\015612.shp\",\"----------------------------------------\",\"Source file: C:\\\\Users\\\\colby\\\\OneDrive\\\\Documents\\\\Research\\\\Grand Canyon\\\\Raw_GPS_23\\\\GRCA_GPS_TRACKS_2023\\\\015812.shp\",\"----------------------------------------\",\"Source file: C:\\\\Users\\\\colby\\\\OneDrive\\\\Documents\\\\Research\\\\Grand Canyon\\\\Raw_GPS_23\\\\GRCA_GPS_TRACKS_2023\\\\015912.shp\",\"----------------------------------------\",\"Source file: C:\\\\Users\\\\colby\\\\OneDrive\\\\Documents\\\\Research\\\\Grand Canyon\\\\Raw_GPS_23\\\\GRCA_GPS_TRACKS_2023\\\\016012.shp\",\"----------------------------------------\",\"Source file: C:\\\\Users\\\\colby\\\\OneDrive\\\\Documents\\\\Research\\\\Grand Canyon\\\\Raw_GPS_23\\\\GRCA_GPS_TRACKS_2023\\\\016112.shp\",\"----------------------------------------\",\"Source file: C:\\\\Users\\\\colby\\\\OneDrive\\\\Documents\\\\Research\\\\Grand Canyon\\\\Raw_GPS_23\\\\GRCA_GPS_TRACKS_2023\\\\016212.shp\",\"----------------------------------------\",\"Source file: C:\\\\Users\\\\colby\\\\OneDrive\\\\Documents\\\\Research\\\\Grand Canyon\\\\Raw_GPS_23\\\\GRCA_GPS_TRACKS_2023\\\\016312.shp\",\"----------------------------------------\",\"Source file: C:\\\\Users\\\\colby\\\\OneDrive\\\\Documents\\\\Research\\\\Grand Canyon\\\\Raw_GPS_23\\\\GRCA_GPS_TRACKS_2023\\\\016412.shp\",\"----------------------------------------\",\"Source file: C:\\\\Users\\\\colby\\\\OneDrive\\\\Documents\\\\Research\\\\Grand Canyon\\\\Raw_GPS_23\\\\GRCA_GPS_TRACKS_2023\\\\016712.shp\",\"----------------------------------------\",\"Source file: C:\\\\Users\\\\colby\\\\OneDrive\\\\Documents\\\\Research\\\\Grand Canyon\\\\Raw_GPS_23\\\\GRCA_GPS_TRACKS_2023\\\\016812.shp\",\"----------------------------------------\",\"Source file: C:\\\\Users\\\\colby\\\\OneDrive\\\\Documents\\\\Research\\\\Grand Canyon\\\\Raw_GPS_23\\\\GRCA_GPS_TRACKS_2023\\\\016912.shp\",\"----------------------------------------\",\"Source file: C:\\\\Users\\\\colby\\\\OneDrive\\\\Documents\\\\Research\\\\Grand Canyon\\\\Raw_GPS_23\\\\GRCA_GPS_TRACKS_2023\\\\017012.shp\",\"----------------------------------------\",\"Source file: C:\\\\Users\\\\colby\\\\OneDrive\\\\Documents\\\\Research\\\\Grand Canyon\\\\Raw_GPS_23\\\\GRCA_GPS_TRACKS_2023\\\\017212.shp\",\"----------------------------------------\",\"Source file: C:\\\\Users\\\\colby\\\\OneDrive\\\\Documents\\\\Research\\\\Grand Canyon\\\\Raw_GPS_23\\\\GRCA_GPS_TRACKS_2023\\\\019512.shp\",\"----------------------------------------\",\"Source file: C:\\\\Users\\\\colby\\\\OneDrive\\\\Documents\\\\Research\\\\Grand Canyon\\\\Raw_GPS_23\\\\GRCA_GPS_TRACKS_2023\\\\019812.shp\",\"----------------------------------------\",\"Source file: C:\\\\Users\\\\colby\\\\OneDrive\\\\Documents\\\\Research\\\\Grand Canyon\\\\Raw_GPS_23\\\\GRCA_GPS_TRACKS_2023\\\\019912.shp\",\"----------------------------------------\",\"Source file: C:\\\\Users\\\\colby\\\\OneDrive\\\\Documents\\\\Research\\\\Grand Canyon\\\\Raw_GPS_23\\\\GRCA_GPS_TRACKS_2023\\\\021112.shp\",\"----------------------------------------\",\"Source file: C:\\\\Users\\\\colby\\\\OneDrive\\\\Documents\\\\Research\\\\Grand Canyon\\\\Raw_GPS_23\\\\GRCA_GPS_TRACKS_2023\\\\021212.shp\",\"----------------------------------------\",\"Source file: C:\\\\Users\\\\colby\\\\OneDrive\\\\Documents\\\\Research\\\\Grand Canyon\\\\Raw_GPS_23\\\\GRCA_GPS_TRACKS_2023\\\\021312.shp\",\"----------------------------------------\",\"Source file: C:\\\\Users\\\\colby\\\\OneDrive\\\\Documents\\\\Research\\\\Grand Canyon\\\\Raw_GPS_23\\\\GRCA_GPS_TRACKS_2023\\\\021712.shp\",\"----------------------------------------\",\"Source file: C:\\\\Users\\\\colby\\\\OneDrive\\\\Documents\\\\Research\\\\Grand Canyon\\\\Raw_GPS_23\\\\GRCA_GPS_TRACKS_2023\\\\021812.shp\",\"----------------------------------------\",\"Source file: C:\\\\Users\\\\colby\\\\OneDrive\\\\Documents\\\\Research\\\\Grand Canyon\\\\Raw_GPS_23\\\\GRCA_GPS_TRACKS_2023\\\\022212.shp\",\"----------------------------------------\",\"Source file: C:\\\\Users\\\\colby\\\\OneDrive\\\\Documents\\\\Research\\\\Grand Canyon\\\\Raw_GPS_23\\\\GRCA_GPS_TRACKS_2023\\\\022312.shp\",\"----------------------------------------\",\"Source file: C:\\\\Users\\\\colby\\\\OneDrive\\\\Documents\\\\Research\\\\Grand Canyon\\\\Raw_GPS_23\\\\GRCA_GPS_TRACKS_2023\\\\022412.shp\",\"----------------------------------------\",\"Source file: C:\\\\Users\\\\colby\\\\OneDrive\\\\Documents\\\\Research\\\\Grand Canyon\\\\Raw_GPS_23\\\\GRCA_GPS_TRACKS_2023\\\\025012.shp\",\"----------------------------------------\",\"Source file: C:\\\\Users\\\\colby\\\\OneDrive\\\\Documents\\\\Research\\\\Grand Canyon\\\\Raw_GPS_23\\\\GRCA_GPS_TRACKS_2023\\\\025412.shp\",\"----------------------------------------\",\"Source file: C:\\\\Users\\\\colby\\\\OneDrive\\\\Documents\\\\Research\\\\Grand Canyon\\\\Raw_GPS_23\\\\GRCA_GPS_TRACKS_2023\\\\025612.shp\",\"----------------------------------------\",\"Source file: C:\\\\Users\\\\colby\\\\OneDrive\\\\Documents\\\\Research\\\\Grand Canyon\\\\Raw_GPS_23\\\\GRCA_GPS_TRACKS_2023\\\\026012.shp\",\"----------------------------------------\",\"Source file: C:\\\\Users\\\\colby\\\\OneDrive\\\\Documents\\\\Research\\\\Grand Canyon\\\\Raw_GPS_23\\\\GRCA_GPS_TRACKS_2023\\\\026022.shp\",\"----------------------------------------\",\"Source file: C:\\\\Users\\\\colby\\\\OneDrive\\\\Documents\\\\Research\\\\Grand Canyon\\\\Raw_GPS_23\\\\GRCA_GPS_TRACKS_2023\\\\026212.shp\",\"----------------------------------------\",\"Source file: C:\\\\Users\\\\colby\\\\OneDrive\\\\Documents\\\\Research\\\\Grand Canyon\\\\Raw_GPS_23\\\\GRCA_GPS_TRACKS_2023\\\\026412.shp\",\"----------------------------------------\",\"Source file: C:\\\\Users\\\\colby\\\\OneDrive\\\\Documents\\\\Research\\\\Grand Canyon\\\\Raw_GPS_23\\\\GRCA_GPS_TRACKS_2023\\\\026812.shp\",\"----------------------------------------\",\"Source file: C:\\\\Users\\\\colby\\\\OneDrive\\\\Documents\\\\Research\\\\Grand Canyon\\\\Raw_GPS_23\\\\GRCA_GPS_TRACKS_2023\\\\026912.shp\",\"----------------------------------------\",\"Source file: C:\\\\Users\\\\colby\\\\OneDrive\\\\Documents\\\\Research\\\\Grand Canyon\\\\Raw_GPS_23\\\\GRCA_GPS_TRACKS_2023\\\\027012.shp\",\"----------------------------------------\",\"Source file: C:\\\\Users\\\\colby\\\\OneDrive\\\\Documents\\\\Research\\\\Grand Canyon\\\\Raw_GPS_23\\\\GRCA_GPS_TRACKS_2023\\\\027112.shp\",\"----------------------------------------\",\"Source file: C:\\\\Users\\\\colby\\\\OneDrive\\\\Documents\\\\Research\\\\Grand Canyon\\\\Raw_GPS_23\\\\GRCA_GPS_TRACKS_2023\\\\027212.shp\",\"----------------------------------------\",\"Source file: C:\\\\Users\\\\colby\\\\OneDrive\\\\Documents\\\\Research\\\\Grand Canyon\\\\Raw_GPS_23\\\\GRCA_GPS_TRACKS_2023\\\\027412.shp\",\"----------------------------------------\",\"Source file: C:\\\\Users\\\\colby\\\\OneDrive\\\\Documents\\\\Research\\\\Grand Canyon\\\\Raw_GPS_23\\\\GRCA_GPS_TRACKS_2023\\\\029512.shp\",\"----------------------------------------\",\"Source file: C:\\\\Users\\\\colby\\\\OneDrive\\\\Documents\\\\Research\\\\Grand Canyon\\\\Raw_GPS_23\\\\GRCA_GPS_TRACKS_2023\\\\029712.shp\",\"----------------------------------------\",\"Source file: C:\\\\Users\\\\colby\\\\OneDrive\\\\Documents\\\\Research\\\\Grand Canyon\\\\Raw_GPS_23\\\\GRCA_GPS_TRACKS_2023\\\\029812.shp\",\"----------------------------------------\",\"Source file: C:\\\\Users\\\\colby\\\\OneDrive\\\\Documents\\\\Research\\\\Grand Canyon\\\\Raw_GPS_23\\\\GRCA_GPS_TRACKS_2023\\\\051312.shp\",\"----------------------------------------\",\"Source file: C:\\\\Users\\\\colby\\\\OneDrive\\\\Documents\\\\Research\\\\Grand Canyon\\\\Raw_GPS_23\\\\GRCA_GPS_TRACKS_2023\\\\051812.shp\",\"----------------------------------------\",\"Source file: C:\\\\Users\\\\colby\\\\OneDrive\\\\Documents\\\\Research\\\\Grand Canyon\\\\Raw_GPS_23\\\\GRCA_GPS_TRACKS_2023\\\\052112.shp\",\"----------------------------------------\",\"Source file: C:\\\\Users\\\\colby\\\\OneDrive\\\\Documents\\\\Research\\\\Grand Canyon\\\\Raw_GPS_23\\\\GRCA_GPS_TRACKS_2023\\\\052312.shp\",\"----------------------------------------\",\"Source file: C:\\\\Users\\\\colby\\\\OneDrive\\\\Documents\\\\Research\\\\Grand Canyon\\\\Raw_GPS_23\\\\GRCA_GPS_TRACKS_2023\\\\052322.shp\",\"----------------------------------------\",\"Source file: C:\\\\Users\\\\colby\\\\OneDrive\\\\Documents\\\\Research\\\\Grand Canyon\\\\Raw_GPS_23\\\\GRCA_GPS_TRACKS_2023\\\\052412.shp\",\"----------------------------------------\",\"Source file: C:\\\\Users\\\\colby\\\\OneDrive\\\\Documents\\\\Research\\\\Grand Canyon\\\\Raw_GPS_23\\\\GRCA_GPS_TRACKS_2023\\\\055012.shp\",\"----------------------------------------\",\"Source file: C:\\\\Users\\\\colby\\\\OneDrive\\\\Documents\\\\Research\\\\Grand Canyon\\\\Raw_GPS_23\\\\GRCA_GPS_TRACKS_2023\\\\055412.shp\",\"----------------------------------------\",\"Source file: C:\\\\Users\\\\colby\\\\OneDrive\\\\Documents\\\\Research\\\\Grand Canyon\\\\Raw_GPS_23\\\\GRCA_GPS_TRACKS_2023\\\\055512.shp\",\"----------------------------------------\",\"Source file: C:\\\\Users\\\\colby\\\\OneDrive\\\\Documents\\\\Research\\\\Grand Canyon\\\\Raw_GPS_23\\\\GRCA_GPS_TRACKS_2023\\\\055522.shp\",\"----------------------------------------\",\"Source file: C:\\\\Users\\\\colby\\\\OneDrive\\\\Documents\\\\Research\\\\Grand Canyon\\\\Raw_GPS_23\\\\GRCA_GPS_TRACKS_2023\\\\055912.shp\",\"----------------------------------------\",\"Source file: C:\\\\Users\\\\colby\\\\OneDrive\\\\Documents\\\\Research\\\\Grand Canyon\\\\Raw_GPS_23\\\\GRCA_GPS_TRACKS_2023\\\\056412.shp\",\"----------------------------------------\",\"Source file: C:\\\\Users\\\\colby\\\\OneDrive\\\\Documents\\\\Research\\\\Grand Canyon\\\\Raw_GPS_23\\\\GRCA_GPS_TRACKS_2023\\\\056712.shp\",\"----------------------------------------\",\"Source file: C:\\\\Users\\\\colby\\\\OneDrive\\\\Documents\\\\Research\\\\Grand Canyon\\\\Raw_GPS_23\\\\GRCA_GPS_TRACKS_2023\\\\057012.shp\",\"----------------------------------------\",\"Source file: C:\\\\Users\\\\colby\\\\OneDrive\\\\Documents\\\\Research\\\\Grand Canyon\\\\Raw_GPS_23\\\\GRCA_GPS_TRACKS_2023\\\\059512.shp\",\"----------------------------------------\",\"Source file: C:\\\\Users\\\\colby\\\\OneDrive\\\\Documents\\\\Research\\\\Grand Canyon\\\\Raw_GPS_23\\\\GRCA_GPS_TRACKS_2023\\\\059712.shp\",\"----------------------------------------\",\"Source file: C:\\\\Users\\\\colby\\\\OneDrive\\\\Documents\\\\Research\\\\Grand Canyon\\\\Raw_GPS_23\\\\GRCA_GPS_TRACKS_2023\\\\070912.shp\",\"----------------------------------------\",\"Source file: C:\\\\Users\\\\colby\\\\OneDrive\\\\Documents\\\\Research\\\\Grand Canyon\\\\Raw_GPS_23\\\\GRCA_GPS_TRACKS_2023\\\\071112.shp\",\"----------------------------------------\",\"Source file: C:\\\\Users\\\\colby\\\\OneDrive\\\\Documents\\\\Research\\\\Grand Canyon\\\\Raw_GPS_23\\\\GRCA_GPS_TRACKS_2023\\\\071312.shp\",\"----------------------------------------\",\"Source file: C:\\\\Users\\\\colby\\\\OneDrive\\\\Documents\\\\Research\\\\Grand Canyon\\\\Raw_GPS_23\\\\GRCA_GPS_TRACKS_2023\\\\071812.shp\",\"----------------------------------------\",\"Source file: C:\\\\Users\\\\colby\\\\OneDrive\\\\Documents\\\\Research\\\\Grand Canyon\\\\Raw_GPS_23\\\\GRCA_GPS_TRACKS_2023\\\\071912.shp\",\"----------------------------------------\",\"Source file: C:\\\\Users\\\\colby\\\\OneDrive\\\\Documents\\\\Research\\\\Grand Canyon\\\\Raw_GPS_23\\\\GRCA_GPS_TRACKS_2023\\\\072012.shp\",\"----------------------------------------\",\"Source file: C:\\\\Users\\\\colby\\\\OneDrive\\\\Documents\\\\Research\\\\Grand Canyon\\\\Raw_GPS_23\\\\GRCA_GPS_TRACKS_2023\\\\072112.shp\",\"----------------------------------------\",\"Source file: C:\\\\Users\\\\colby\\\\OneDrive\\\\Documents\\\\Research\\\\Grand Canyon\\\\Raw_GPS_23\\\\GRCA_GPS_TRACKS_2023\\\\075112.shp\",\"----------------------------------------\",\"Source file: C:\\\\Users\\\\colby\\\\OneDrive\\\\Documents\\\\Research\\\\Grand Canyon\\\\Raw_GPS_23\\\\GRCA_GPS_TRACKS_2023\\\\075412.shp\",\"----------------------------------------\",\"Source file: C:\\\\Users\\\\colby\\\\OneDrive\\\\Documents\\\\Research\\\\Grand Canyon\\\\Raw_GPS_23\\\\GRCA_GPS_TRACKS_2023\\\\075512.shp\",\"----------------------------------------\",\"Source file: C:\\\\Users\\\\colby\\\\OneDrive\\\\Documents\\\\Research\\\\Grand Canyon\\\\Raw_GPS_23\\\\GRCA_GPS_TRACKS_2023\\\\075912.shp\",\"----------------------------------------\",\"Source file: C:\\\\Users\\\\colby\\\\OneDrive\\\\Documents\\\\Research\\\\Grand Canyon\\\\Raw_GPS_23\\\\GRCA_GPS_TRACKS_2023\\\\076312.shp\",\"----------------------------------------\",\"Source file: C:\\\\Users\\\\colby\\\\OneDrive\\\\Documents\\\\Research\\\\Grand Canyon\\\\Raw_GPS_23\\\\GRCA_GPS_TRACKS_2023\\\\076712.shp\",\"----------------------------------------\",\"Source file: C:\\\\Users\\\\colby\\\\OneDrive\\\\Documents\\\\Research\\\\Grand Canyon\\\\Raw_GPS_23\\\\GRCA_GPS_TRACKS_2023\\\\079512.shp\",\"----------------------------------------\",\"Source file: C:\\\\Users\\\\colby\\\\OneDrive\\\\Documents\\\\Research\\\\Grand Canyon\\\\Raw_GPS_23\\\\GRCA_GPS_TRACKS_2023\\\\079812.shp\",\"----------------------------------------\",\"Source file: C:\\\\Users\\\\colby\\\\OneDrive\\\\Documents\\\\Research\\\\Grand Canyon\\\\Raw_GPS_23\\\\GRCA_GPS_TRACKS_2023\\\\079912.shp\",\"----------------------------------------\",\"Source file: C:\\\\Users\\\\colby\\\\OneDrive\\\\Documents\\\\Research\\\\Grand Canyon\\\\Raw_GPS_23\\\\GRCA_GPS_TRACKS_2023\\\\090912.shp\",\"----------------------------------------\",\"Source file: C:\\\\Users\\\\colby\\\\OneDrive\\\\Documents\\\\Research\\\\Grand Canyon\\\\Raw_GPS_23\\\\GRCA_GPS_TRACKS_2023\\\\091112.shp\",\"----------------------------------------\",\"Source file: C:\\\\Users\\\\colby\\\\OneDrive\\\\Documents\\\\Research\\\\Grand Canyon\\\\Raw_GPS_23\\\\GRCA_GPS_TRACKS_2023\\\\091212.shp\",\"----------------------------------------\",\"Source file: C:\\\\Users\\\\colby\\\\OneDrive\\\\Documents\\\\Research\\\\Grand Canyon\\\\Raw_GPS_23\\\\GRCA_GPS_TRACKS_2023\\\\091912.shp\",\"----------------------------------------\",\"Source file: C:\\\\Users\\\\colby\\\\OneDrive\\\\Documents\\\\Research\\\\Grand Canyon\\\\Raw_GPS_23\\\\GRCA_GPS_TRACKS_2023\\\\092012.shp\",\"----------------------------------------\",\"Source file: C:\\\\Users\\\\colby\\\\OneDrive\\\\Documents\\\\Research\\\\Grand Canyon\\\\Raw_GPS_23\\\\GRCA_GPS_TRACKS_2023\\\\092022.shp\",\"----------------------------------------\",\"Source file: C:\\\\Users\\\\colby\\\\OneDrive\\\\Documents\\\\Research\\\\Grand Canyon\\\\Raw_GPS_23\\\\GRCA_GPS_TRACKS_2023\\\\092122.shp\",\"----------------------------------------\",\"Source file: C:\\\\Users\\\\colby\\\\OneDrive\\\\Documents\\\\Research\\\\Grand Canyon\\\\Raw_GPS_23\\\\GRCA_GPS_TRACKS_2023\\\\092212.shp\",\"----------------------------------------\",\"Source file: C:\\\\Users\\\\colby\\\\OneDrive\\\\Documents\\\\Research\\\\Grand Canyon\\\\Raw_GPS_23\\\\GRCA_GPS_TRACKS_2023\\\\092412.shp\",\"----------------------------------------\",\"Source file: C:\\\\Users\\\\colby\\\\OneDrive\\\\Documents\\\\Research\\\\Grand Canyon\\\\Raw_GPS_23\\\\GRCA_GPS_TRACKS_2023\\\\093012.shp\",\"----------------------------------------\",\"Source file: C:\\\\Users\\\\colby\\\\OneDrive\\\\Documents\\\\Research\\\\Grand Canyon\\\\Raw_GPS_23\\\\GRCA_GPS_TRACKS_2023\\\\095112.shp\",\"----------------------------------------\",\"Source file: C:\\\\Users\\\\colby\\\\OneDrive\\\\Documents\\\\Research\\\\Grand Canyon\\\\Raw_GPS_23\\\\GRCA_GPS_TRACKS_2023\\\\095512.shp\",\"----------------------------------------\",\"Source file: C:\\\\Users\\\\colby\\\\OneDrive\\\\Documents\\\\Research\\\\Grand Canyon\\\\Raw_GPS_23\\\\GRCA_GPS_TRACKS_2023\\\\095612.shp\",\"----------------------------------------\",\"Source file: C:\\\\Users\\\\colby\\\\OneDrive\\\\Documents\\\\Research\\\\Grand Canyon\\\\Raw_GPS_23\\\\GRCA_GPS_TRACKS_2023\\\\095812.shp\",\"----------------------------------------\",\"Source file: C:\\\\Users\\\\colby\\\\OneDrive\\\\Documents\\\\Research\\\\Grand Canyon\\\\Raw_GPS_23\\\\GRCA_GPS_TRACKS_2023\\\\095912.shp\",\"----------------------------------------\",\"Source file: C:\\\\Users\\\\colby\\\\OneDrive\\\\Documents\\\\Research\\\\Grand Canyon\\\\Raw_GPS_23\\\\GRCA_GPS_TRACKS_2023\\\\096012.shp\",\"----------------------------------------\",\"Source file: C:\\\\Users\\\\colby\\\\OneDrive\\\\Documents\\\\Research\\\\Grand Canyon\\\\Raw_GPS_23\\\\GRCA_GPS_TRACKS_2023\\\\096312.shp\",\"----------------------------------------\",\"Source file: C:\\\\Users\\\\colby\\\\OneDrive\\\\Documents\\\\Research\\\\Grand Canyon\\\\Raw_GPS_23\\\\GRCA_GPS_TRACKS_2023\\\\096712.shp\",\"----------------------------------------\",\"Source file: C:\\\\Users\\\\colby\\\\OneDrive\\\\Documents\\\\Research\\\\Grand Canyon\\\\Raw_GPS_23\\\\GRCA_GPS_TRACKS_2023\\\\096912.shp\",\"----------------------------------------\",\"Source file: C:\\\\Users\\\\colby\\\\OneDrive\\\\Documents\\\\Research\\\\Grand Canyon\\\\Raw_GPS_23\\\\GRCA_GPS_TRACKS_2023\\\\097012.shp\",\"----------------------------------------\",\"Source file: C:\\\\Users\\\\colby\\\\OneDrive\\\\Documents\\\\Research\\\\Grand Canyon\\\\Raw_GPS_23\\\\GRCA_GPS_TRACKS_2023\\\\097112.shp\",\"----------------------------------------\",\"Source file: C:\\\\Users\\\\colby\\\\OneDrive\\\\Documents\\\\Research\\\\Grand Canyon\\\\Raw_GPS_23\\\\GRCA_GPS_TRACKS_2023\\\\099812.shp\",\"----------------------------------------\",\"Source file: C:\\\\Users\\\\colby\\\\OneDrive\\\\Documents\\\\Research\\\\Grand Canyon\\\\Raw_GPS_23\\\\GRCA_GPS_TRACKS_2023\\\\099822.shp\",\"----------------------------------------\",\"Source file: C:\\\\Users\\\\colby\\\\OneDrive\\\\Documents\\\\Research\\\\Grand Canyon\\\\Raw_GPS_23\\\\GRCA_GPS_TRACKS_2023\\\\099912.shp\",\"----------------------------------------\",\"Source file: C:\\\\Users\\\\colby\\\\OneDrive\\\\Documents\\\\Research\\\\Grand Canyon\\\\Raw_GPS_23\\\\GRCA_GPS_TRACKS_2023\\\\110912.shp\",\"----------------------------------------\",\"Source file: C:\\\\Users\\\\colby\\\\OneDrive\\\\Documents\\\\Research\\\\Grand Canyon\\\\Raw_GPS_23\\\\GRCA_GPS_TRACKS_2023\\\\111112.shp\",\"----------------------------------------\",\"Source file: C:\\\\Users\\\\colby\\\\OneDrive\\\\Documents\\\\Research\\\\Grand Canyon\\\\Raw_GPS_23\\\\GRCA_GPS_TRACKS_2023\\\\111212.shp\",\"----------------------------------------\",\"Source file: C:\\\\Users\\\\colby\\\\OneDrive\\\\Documents\\\\Research\\\\Grand Canyon\\\\Raw_GPS_23\\\\GRCA_GPS_TRACKS_2023\\\\111712.shp\",\"----------------------------------------\",\"Source file: C:\\\\Users\\\\colby\\\\OneDrive\\\\Documents\\\\Research\\\\Grand Canyon\\\\Raw_GPS_23\\\\GRCA_GPS_TRACKS_2023\\\\111912.shp\",\"----------------------------------------\",\"Source file: C:\\\\Users\\\\colby\\\\OneDrive\\\\Documents\\\\Research\\\\Grand Canyon\\\\Raw_GPS_23\\\\GRCA_GPS_TRACKS_2023\\\\112012.shp\",\"----------------------------------------\",\"Source file: C:\\\\Users\\\\colby\\\\OneDrive\\\\Documents\\\\Research\\\\Grand Canyon\\\\Raw_GPS_23\\\\GRCA_GPS_TRACKS_2023\\\\112112.shp\",\"----------------------------------------\",\"Source file: C:\\\\Users\\\\colby\\\\OneDrive\\\\Documents\\\\Research\\\\Grand Canyon\\\\Raw_GPS_23\\\\GRCA_GPS_TRACKS_2023\\\\112412.shp\",\"----------------------------------------\",\"Source file: C:\\\\Users\\\\colby\\\\OneDrive\\\\Documents\\\\Research\\\\Grand Canyon\\\\Raw_GPS_23\\\\GRCA_GPS_TRACKS_2023\\\\113012.shp\",\"----------------------------------------\",\"Source file: C:\\\\Users\\\\colby\\\\OneDrive\\\\Documents\\\\Research\\\\Grand Canyon\\\\Raw_GPS_23\\\\GRCA_GPS_TRACKS_2023\\\\115012.shp\",\"----------------------------------------\",\"Source file: C:\\\\Users\\\\colby\\\\OneDrive\\\\Documents\\\\Research\\\\Grand Canyon\\\\Raw_GPS_23\\\\GRCA_GPS_TRACKS_2023\\\\115112.shp\",\"----------------------------------------\",\"Source file: C:\\\\Users\\\\colby\\\\OneDrive\\\\Documents\\\\Research\\\\Grand Canyon\\\\Raw_GPS_23\\\\GRCA_GPS_TRACKS_2023\\\\115512.shp\",\"----------------------------------------\",\"Source file: C:\\\\Users\\\\colby\\\\OneDrive\\\\Documents\\\\Research\\\\Grand Canyon\\\\Raw_GPS_23\\\\GRCA_GPS_TRACKS_2023\\\\115812.shp\",\"----------------------------------------\",\"Source file: C:\\\\Users\\\\colby\\\\OneDrive\\\\Documents\\\\Research\\\\Grand Canyon\\\\Raw_GPS_23\\\\GRCA_GPS_TRACKS_2023\\\\115912.shp\",\"----------------------------------------\",\"Source file: C:\\\\Users\\\\colby\\\\OneDrive\\\\Documents\\\\Research\\\\Grand Canyon\\\\Raw_GPS_23\\\\GRCA_GPS_TRACKS_2023\\\\116012.shp\",\"----------------------------------------\",\"Source file: C:\\\\Users\\\\colby\\\\OneDrive\\\\Documents\\\\Research\\\\Grand Canyon\\\\Raw_GPS_23\\\\GRCA_GPS_TRACKS_2023\\\\116312.shp\",\"----------------------------------------\",\"Source file: C:\\\\Users\\\\colby\\\\OneDrive\\\\Documents\\\\Research\\\\Grand Canyon\\\\Raw_GPS_23\\\\GRCA_GPS_TRACKS_2023\\\\116712.shp\",\"----------------------------------------\",\"Source file: C:\\\\Users\\\\colby\\\\OneDrive\\\\Documents\\\\Research\\\\Grand Canyon\\\\Raw_GPS_23\\\\GRCA_GPS_TRACKS_2023\\\\117012.shp\",\"----------------------------------------\",\"Source file: C:\\\\Users\\\\colby\\\\OneDrive\\\\Documents\\\\Research\\\\Grand Canyon\\\\Raw_GPS_23\\\\GRCA_GPS_TRACKS_2023\\\\117112.shp\",\"----------------------------------------\",\"Source file: C:\\\\Users\\\\colby\\\\OneDrive\\\\Documents\\\\Research\\\\Grand Canyon\\\\Raw_GPS_23\\\\GRCA_GPS_TRACKS_2023\\\\119812.shp\",\"----------------------------------------\",\"Source file: C:\\\\Users\\\\colby\\\\OneDrive\\\\Documents\\\\Research\\\\Grand Canyon\\\\Raw_GPS_23\\\\GRCA_GPS_TRACKS_2023\\\\130912.shp\",\"----------------------------------------\",\"Source file: C:\\\\Users\\\\colby\\\\OneDrive\\\\Documents\\\\Research\\\\Grand Canyon\\\\Raw_GPS_23\\\\GRCA_GPS_TRACKS_2023\\\\131112.shp\",\"----------------------------------------\",\"Source file: C:\\\\Users\\\\colby\\\\OneDrive\\\\Documents\\\\Research\\\\Grand Canyon\\\\Raw_GPS_23\\\\GRCA_GPS_TRACKS_2023\\\\131212.shp\",\"----------------------------------------\",\"Source file: C:\\\\Users\\\\colby\\\\OneDrive\\\\Documents\\\\Research\\\\Grand Canyon\\\\Raw_GPS_23\\\\GRCA_GPS_TRACKS_2023\\\\131712.shp\",\"----------------------------------------\",\"Source file: C:\\\\Users\\\\colby\\\\OneDrive\\\\Documents\\\\Research\\\\Grand Canyon\\\\Raw_GPS_23\\\\GRCA_GPS_TRACKS_2023\\\\131912.shp\",\"----------------------------------------\",\"Source file: C:\\\\Users\\\\colby\\\\OneDrive\\\\Documents\\\\Research\\\\Grand Canyon\\\\Raw_GPS_23\\\\GRCA_GPS_TRACKS_2023\\\\132112.shp\",\"----------------------------------------\",\"Source file: C:\\\\Users\\\\colby\\\\OneDrive\\\\Documents\\\\Research\\\\Grand Canyon\\\\Raw_GPS_23\\\\GRCA_GPS_TRACKS_2023\\\\132212.shp\",\"----------------------------------------\",\"Source file: C:\\\\Users\\\\colby\\\\OneDrive\\\\Documents\\\\Research\\\\Grand Canyon\\\\Raw_GPS_23\\\\GRCA_GPS_TRACKS_2023\\\\132312.shp\",\"----------------------------------------\",\"Source file: C:\\\\Users\\\\colby\\\\OneDrive\\\\Documents\\\\Research\\\\Grand Canyon\\\\Raw_GPS_23\\\\GRCA_GPS_TRACKS_2023\\\\132412.shp\",\"----------------------------------------\",\"Source file: C:\\\\Users\\\\colby\\\\OneDrive\\\\Documents\\\\Research\\\\Grand Canyon\\\\Raw_GPS_23\\\\GRCA_GPS_TRACKS_2023\\\\133012.shp\",\"----------------------------------------\",\"Source file: C:\\\\Users\\\\colby\\\\OneDrive\\\\Documents\\\\Research\\\\Grand Canyon\\\\Raw_GPS_23\\\\GRCA_GPS_TRACKS_2023\\\\135012.shp\",\"----------------------------------------\",\"Source file: C:\\\\Users\\\\colby\\\\OneDrive\\\\Documents\\\\Research\\\\Grand Canyon\\\\Raw_GPS_23\\\\GRCA_GPS_TRACKS_2023\\\\135112.shp\",\"----------------------------------------\",\"Source file: C:\\\\Users\\\\colby\\\\OneDrive\\\\Documents\\\\Research\\\\Grand Canyon\\\\Raw_GPS_23\\\\GRCA_GPS_TRACKS_2023\\\\135512.shp\",\"----------------------------------------\",\"Source file: C:\\\\Users\\\\colby\\\\OneDrive\\\\Documents\\\\Research\\\\Grand Canyon\\\\Raw_GPS_23\\\\GRCA_GPS_TRACKS_2023\\\\135812.shp\",\"----------------------------------------\",\"Source file: C:\\\\Users\\\\colby\\\\OneDrive\\\\Documents\\\\Research\\\\Grand Canyon\\\\Raw_GPS_23\\\\GRCA_GPS_TRACKS_2023\\\\135912.shp\",\"----------------------------------------\",\"Source file: C:\\\\Users\\\\colby\\\\OneDrive\\\\Documents\\\\Research\\\\Grand Canyon\\\\Raw_GPS_23\\\\GRCA_GPS_TRACKS_2023\\\\136312.shp\",\"----------------------------------------\",\"Source file: C:\\\\Users\\\\colby\\\\OneDrive\\\\Documents\\\\Research\\\\Grand Canyon\\\\Raw_GPS_23\\\\GRCA_GPS_TRACKS_2023\\\\136712.shp\",\"----------------------------------------\",\"Source file: C:\\\\Users\\\\colby\\\\OneDrive\\\\Documents\\\\Research\\\\Grand Canyon\\\\Raw_GPS_23\\\\GRCA_GPS_TRACKS_2023\\\\136912.shp\",\"----------------------------------------\",\"Source file: C:\\\\Users\\\\colby\\\\OneDrive\\\\Documents\\\\Research\\\\Grand Canyon\\\\Raw_GPS_23\\\\GRCA_GPS_TRACKS_2023\\\\137012.shp\",\"----------------------------------------\",\"Source file: C:\\\\Users\\\\colby\\\\OneDrive\\\\Documents\\\\Research\\\\Grand Canyon\\\\Raw_GPS_23\\\\GRCA_GPS_TRACKS_2023\\\\137112.shp\",\"----------------------------------------\",\"Source file: C:\\\\Users\\\\colby\\\\OneDrive\\\\Documents\\\\Research\\\\Grand Canyon\\\\Raw_GPS_23\\\\GRCA_GPS_TRACKS_2023\\\\139812.shp\",\"----------------------------------------\",\"Source file: C:\\\\Users\\\\colby\\\\OneDrive\\\\Documents\\\\Research\\\\Grand Canyon\\\\Raw_GPS_23\\\\GRCA_GPS_TRACKS_2023\\\\139912.shp\",\"----------------------------------------\",\"Source file: C:\\\\Users\\\\colby\\\\OneDrive\\\\Documents\\\\Research\\\\Grand Canyon\\\\Raw_GPS_23\\\\GRCA_GPS_TRACKS_2023\\\\150912.shp\",\"----------------------------------------\",\"Source file: C:\\\\Users\\\\colby\\\\OneDrive\\\\Documents\\\\Research\\\\Grand Canyon\\\\Raw_GPS_23\\\\GRCA_GPS_TRACKS_2023\\\\151212.shp\",\"----------------------------------------\",\"Source file: C:\\\\Users\\\\colby\\\\OneDrive\\\\Documents\\\\Research\\\\Grand Canyon\\\\Raw_GPS_23\\\\GRCA_GPS_TRACKS_2023\\\\152212.shp\",\"----------------------------------------\",\"Source file: C:\\\\Users\\\\colby\\\\OneDrive\\\\Documents\\\\Research\\\\Grand Canyon\\\\Raw_GPS_23\\\\GRCA_GPS_TRACKS_2023\\\\153012.shp\",\"----------------------------------------\",\"Source file: C:\\\\Users\\\\colby\\\\OneDrive\\\\Documents\\\\Research\\\\Grand Canyon\\\\Raw_GPS_23\\\\GRCA_GPS_TRACKS_2023\\\\155012.shp\",\"----------------------------------------\",\"Source file: C:\\\\Users\\\\colby\\\\OneDrive\\\\Documents\\\\Research\\\\Grand Canyon\\\\Raw_GPS_23\\\\GRCA_GPS_TRACKS_2023\\\\155112.shp\",\"----------------------------------------\",\"Source file: C:\\\\Users\\\\colby\\\\OneDrive\\\\Documents\\\\Research\\\\Grand Canyon\\\\Raw_GPS_23\\\\GRCA_GPS_TRACKS_2023\\\\155812.shp\",\"----------------------------------------\",\"Source file: C:\\\\Users\\\\colby\\\\OneDrive\\\\Documents\\\\Research\\\\Grand Canyon\\\\Raw_GPS_23\\\\GRCA_GPS_TRACKS_2023\\\\157112.shp\",\"----------------------------------------\",\"Source file: C:\\\\Users\\\\colby\\\\OneDrive\\\\Documents\\\\Research\\\\Grand Canyon\\\\Raw_GPS_23\\\\GRCA_GPS_TRACKS_2023\\\\159812.shp\",\"----------------------------------------\",\"Source file: C:\\\\Users\\\\colby\\\\OneDrive\\\\Documents\\\\Research\\\\Grand Canyon\\\\Raw_GPS_23\\\\GRCA_GPS_TRACKS_2023\\\\159912.shp\",\"----------------------------------------\",\"Source file: C:\\\\Users\\\\colby\\\\OneDrive\\\\Documents\\\\Research\\\\Grand Canyon\\\\Raw_GPS_23\\\\GRCA_GPS_TRACKS_2023\\\\170412.shp\",\"----------------------------------------\",\"Source file: C:\\\\Users\\\\colby\\\\OneDrive\\\\Documents\\\\Research\\\\Grand Canyon\\\\Raw_GPS_23\\\\GRCA_GPS_TRACKS_2023\\\\170912.shp\",\"----------------------------------------\",\"Source file: C:\\\\Users\\\\colby\\\\OneDrive\\\\Documents\\\\Research\\\\Grand Canyon\\\\Raw_GPS_23\\\\GRCA_GPS_TRACKS_2023\\\\171112.shp\",\"----------------------------------------\",\"Source file: C:\\\\Users\\\\colby\\\\OneDrive\\\\Documents\\\\Research\\\\Grand Canyon\\\\Raw_GPS_23\\\\GRCA_GPS_TRACKS_2023\\\\171212.shp\",\"----------------------------------------\",\"Source file: C:\\\\Users\\\\colby\\\\OneDrive\\\\Documents\\\\Research\\\\Grand Canyon\\\\Raw_GPS_23\\\\GRCA_GPS_TRACKS_2023\\\\171712.shp\",\"----------------------------------------\",\"Source file: C:\\\\Users\\\\colby\\\\OneDrive\\\\Documents\\\\Research\\\\Grand Canyon\\\\Raw_GPS_23\\\\GRCA_GPS_TRACKS_2023\\\\171912.shp\",\"----------------------------------------\",\"Source file: C:\\\\Users\\\\colby\\\\OneDrive\\\\Documents\\\\Research\\\\Grand Canyon\\\\Raw_GPS_23\\\\GRCA_GPS_TRACKS_2023\\\\172012.shp\",\"----------------------------------------\",\"Source file: C:\\\\Users\\\\colby\\\\OneDrive\\\\Documents\\\\Research\\\\Grand Canyon\\\\Raw_GPS_23\\\\GRCA_GPS_TRACKS_2023\\\\172112.shp\",\"----------------------------------------\",\"Source file: C:\\\\Users\\\\colby\\\\OneDrive\\\\Documents\\\\Research\\\\Grand Canyon\\\\Raw_GPS_23\\\\GRCA_GPS_TRACKS_2023\\\\172212.shp\",\"----------------------------------------\",\"Source file: C:\\\\Users\\\\colby\\\\OneDrive\\\\Documents\\\\Research\\\\Grand Canyon\\\\Raw_GPS_23\\\\GRCA_GPS_TRACKS_2023\\\\172312.shp\",\"----------------------------------------\",\"Source file: C:\\\\Users\\\\colby\\\\OneDrive\\\\Documents\\\\Research\\\\Grand Canyon\\\\Raw_GPS_23\\\\GRCA_GPS_TRACKS_2023\\\\172412.shp\",\"----------------------------------------\",\"Source file: C:\\\\Users\\\\colby\\\\OneDrive\\\\Documents\\\\Research\\\\Grand Canyon\\\\Raw_GPS_23\\\\GRCA_GPS_TRACKS_2023\\\\173012.shp\",\"----------------------------------------\",\"Source file: C:\\\\Users\\\\colby\\\\OneDrive\\\\Documents\\\\Research\\\\Grand Canyon\\\\Raw_GPS_23\\\\GRCA_GPS_TRACKS_2023\\\\175012.shp\",\"----------------------------------------\",\"Source file: C:\\\\Users\\\\colby\\\\OneDrive\\\\Documents\\\\Research\\\\Grand Canyon\\\\Raw_GPS_23\\\\GRCA_GPS_TRACKS_2023\\\\175112.shp\",\"----------------------------------------\",\"Source file: C:\\\\Users\\\\colby\\\\OneDrive\\\\Documents\\\\Research\\\\Grand Canyon\\\\Raw_GPS_23\\\\GRCA_GPS_TRACKS_2023\\\\175512.shp\",\"----------------------------------------\",\"Source file: C:\\\\Users\\\\colby\\\\OneDrive\\\\Documents\\\\Research\\\\Grand Canyon\\\\Raw_GPS_23\\\\GRCA_GPS_TRACKS_2023\\\\175612.shp\",\"----------------------------------------\",\"Source file: C:\\\\Users\\\\colby\\\\OneDrive\\\\Documents\\\\Research\\\\Grand Canyon\\\\Raw_GPS_23\\\\GRCA_GPS_TRACKS_2023\\\\175812.shp\",\"----------------------------------------\",\"Source file: C:\\\\Users\\\\colby\\\\OneDrive\\\\Documents\\\\Research\\\\Grand Canyon\\\\Raw_GPS_23\\\\GRCA_GPS_TRACKS_2023\\\\176312.shp\",\"----------------------------------------\",\"Source file: C:\\\\Users\\\\colby\\\\OneDrive\\\\Documents\\\\Research\\\\Grand Canyon\\\\Raw_GPS_23\\\\GRCA_GPS_TRACKS_2023\\\\176712.shp\",\"----------------------------------------\",\"Source file: C:\\\\Users\\\\colby\\\\OneDrive\\\\Documents\\\\Research\\\\Grand Canyon\\\\Raw_GPS_23\\\\GRCA_GPS_TRACKS_2023\\\\177012.shp\",\"----------------------------------------\",\"Source file: C:\\\\Users\\\\colby\\\\OneDrive\\\\Documents\\\\Research\\\\Grand Canyon\\\\Raw_GPS_23\\\\GRCA_GPS_TRACKS_2023\\\\179812.shp\",\"----------------------------------------\",\"Source file: C:\\\\Users\\\\colby\\\\OneDrive\\\\Documents\\\\Research\\\\Grand Canyon\\\\Raw_GPS_23\\\\GRCA_GPS_TRACKS_2023\\\\179912.shp\",\"----------------------------------------\",\"Source file: C:\\\\Users\\\\colby\\\\OneDrive\\\\Documents\\\\Research\\\\Grand Canyon\\\\Raw_GPS_23\\\\GRCA_GPS_TRACKS_2023\\\\190412.shp\",\"----------------------------------------\",\"Source file: C:\\\\Users\\\\colby\\\\OneDrive\\\\Documents\\\\Research\\\\Grand Canyon\\\\Raw_GPS_23\\\\GRCA_GPS_TRACKS_2023\\\\191112.shp\",\"----------------------------------------\",\"Source file: C:\\\\Users\\\\colby\\\\OneDrive\\\\Documents\\\\Research\\\\Grand Canyon\\\\Raw_GPS_23\\\\GRCA_GPS_TRACKS_2023\\\\191712.shp\",\"----------------------------------------\",\"Source file: C:\\\\Users\\\\colby\\\\OneDrive\\\\Documents\\\\Research\\\\Grand Canyon\\\\Raw_GPS_23\\\\GRCA_GPS_TRACKS_2023\\\\191912.shp\",\"----------------------------------------\",\"Source file: C:\\\\Users\\\\colby\\\\OneDrive\\\\Documents\\\\Research\\\\Grand Canyon\\\\Raw_GPS_23\\\\GRCA_GPS_TRACKS_2023\\\\192012.shp\",\"----------------------------------------\",\"Source file: C:\\\\Users\\\\colby\\\\OneDrive\\\\Documents\\\\Research\\\\Grand Canyon\\\\Raw_GPS_23\\\\GRCA_GPS_TRACKS_2023\\\\192112.shp\",\"----------------------------------------\",\"Source file: C:\\\\Users\\\\colby\\\\OneDrive\\\\Documents\\\\Research\\\\Grand Canyon\\\\Raw_GPS_23\\\\GRCA_GPS_TRACKS_2023\\\\192212.shp\",\"----------------------------------------\",\"Source file: C:\\\\Users\\\\colby\\\\OneDrive\\\\Documents\\\\Research\\\\Grand Canyon\\\\Raw_GPS_23\\\\GRCA_GPS_TRACKS_2023\\\\192312.shp\",\"----------------------------------------\",\"Source file: C:\\\\Users\\\\colby\\\\OneDrive\\\\Documents\\\\Research\\\\Grand Canyon\\\\Raw_GPS_23\\\\GRCA_GPS_TRACKS_2023\\\\192412.shp\",\"----------------------------------------\",\"Source file: C:\\\\Users\\\\colby\\\\OneDrive\\\\Documents\\\\Research\\\\Grand Canyon\\\\Raw_GPS_23\\\\GRCA_GPS_TRACKS_2023\\\\193012.shp\",\"----------------------------------------\",\"Source file: C:\\\\Users\\\\colby\\\\OneDrive\\\\Documents\\\\Research\\\\Grand Canyon\\\\Raw_GPS_23\\\\GRCA_GPS_TRACKS_2023\\\\195012.shp\",\"----------------------------------------\",\"Source file: C:\\\\Users\\\\colby\\\\OneDrive\\\\Documents\\\\Research\\\\Grand Canyon\\\\Raw_GPS_23\\\\GRCA_GPS_TRACKS_2023\\\\195112.shp\",\"----------------------------------------\",\"Source file: C:\\\\Users\\\\colby\\\\OneDrive\\\\Documents\\\\Research\\\\Grand Canyon\\\\Raw_GPS_23\\\\GRCA_GPS_TRACKS_2023\\\\195512.shp\",\"----------------------------------------\",\"Source file: C:\\\\Users\\\\colby\\\\OneDrive\\\\Documents\\\\Research\\\\Grand Canyon\\\\Raw_GPS_23\\\\GRCA_GPS_TRACKS_2023\\\\195612.shp\",\"----------------------------------------\",\"Source file: C:\\\\Users\\\\colby\\\\OneDrive\\\\Documents\\\\Research\\\\Grand Canyon\\\\Raw_GPS_23\\\\GRCA_GPS_TRACKS_2023\\\\196312.shp\",\"----------------------------------------\",\"Source file: C:\\\\Users\\\\colby\\\\OneDrive\\\\Documents\\\\Research\\\\Grand Canyon\\\\Raw_GPS_23\\\\GRCA_GPS_TRACKS_2023\\\\196712.shp\",\"----------------------------------------\",\"Source file: C:\\\\Users\\\\colby\\\\OneDrive\\\\Documents\\\\Research\\\\Grand Canyon\\\\Raw_GPS_23\\\\GRCA_GPS_TRACKS_2023\\\\197012.shp\",\"----------------------------------------\",\"Source file: C:\\\\Users\\\\colby\\\\OneDrive\\\\Documents\\\\Research\\\\Grand Canyon\\\\Raw_GPS_23\\\\GRCA_GPS_TRACKS_2023\\\\197112.shp\",\"----------------------------------------\",\"Source file: C:\\\\Users\\\\colby\\\\OneDrive\\\\Documents\\\\Research\\\\Grand Canyon\\\\Raw_GPS_23\\\\GRCA_GPS_TRACKS_2023\\\\199812.shp\",\"----------------------------------------\",\"Source file: C:\\\\Users\\\\colby\\\\OneDrive\\\\Documents\\\\Research\\\\Grand Canyon\\\\Raw_GPS_23\\\\GRCA_GPS_TRACKS_2023\\\\199912.shp\",\"----------------------------------------\",\"Source file: C:\\\\Users\\\\colby\\\\OneDrive\\\\Documents\\\\Research\\\\Grand Canyon\\\\Raw_GPS_23\\\\GRCA_GPS_TRACKS_2023\\\\210412.shp\",\"----------------------------------------\",\"Source file: C:\\\\Users\\\\colby\\\\OneDrive\\\\Documents\\\\Research\\\\Grand Canyon\\\\Raw_GPS_23\\\\GRCA_GPS_TRACKS_2023\\\\211112.shp\",\"----------------------------------------\",\"Source file: C:\\\\Users\\\\colby\\\\OneDrive\\\\Documents\\\\Research\\\\Grand Canyon\\\\Raw_GPS_23\\\\GRCA_GPS_TRACKS_2023\\\\211712.shp\",\"----------------------------------------\",\"Source file: C:\\\\Users\\\\colby\\\\OneDrive\\\\Documents\\\\Research\\\\Grand Canyon\\\\Raw_GPS_23\\\\GRCA_GPS_TRACKS_2023\\\\211912.shp\",\"----------------------------------------\",\"Source file: C:\\\\Users\\\\colby\\\\OneDrive\\\\Documents\\\\Research\\\\Grand Canyon\\\\Raw_GPS_23\\\\GRCA_GPS_TRACKS_2023\\\\212012.shp\",\"----------------------------------------\",\"Source file: C:\\\\Users\\\\colby\\\\OneDrive\\\\Documents\\\\Research\\\\Grand Canyon\\\\Raw_GPS_23\\\\GRCA_GPS_TRACKS_2023\\\\212112.shp\",\"----------------------------------------\",\"Source file: C:\\\\Users\\\\colby\\\\OneDrive\\\\Documents\\\\Research\\\\Grand Canyon\\\\Raw_GPS_23\\\\GRCA_GPS_TRACKS_2023\\\\212212.shp\",\"----------------------------------------\",\"Source file: C:\\\\Users\\\\colby\\\\OneDrive\\\\Documents\\\\Research\\\\Grand Canyon\\\\Raw_GPS_23\\\\GRCA_GPS_TRACKS_2023\\\\212312.shp\",\"----------------------------------------\",\"Source file: C:\\\\Users\\\\colby\\\\OneDrive\\\\Documents\\\\Research\\\\Grand Canyon\\\\Raw_GPS_23\\\\GRCA_GPS_TRACKS_2023\\\\212412.shp\",\"----------------------------------------\",\"Source file: C:\\\\Users\\\\colby\\\\OneDrive\\\\Documents\\\\Research\\\\Grand Canyon\\\\Raw_GPS_23\\\\GRCA_GPS_TRACKS_2023\\\\213012.shp\",\"----------------------------------------\",\"Source file: C:\\\\Users\\\\colby\\\\OneDrive\\\\Documents\\\\Research\\\\Grand Canyon\\\\Raw_GPS_23\\\\GRCA_GPS_TRACKS_2023\\\\215012.shp\",\"----------------------------------------\",\"Source file: C:\\\\Users\\\\colby\\\\OneDrive\\\\Documents\\\\Research\\\\Grand Canyon\\\\Raw_GPS_23\\\\GRCA_GPS_TRACKS_2023\\\\215112.shp\",\"----------------------------------------\",\"Source file: C:\\\\Users\\\\colby\\\\OneDrive\\\\Documents\\\\Research\\\\Grand Canyon\\\\Raw_GPS_23\\\\GRCA_GPS_TRACKS_2023\\\\215512.shp\",\"----------------------------------------\",\"Source file: C:\\\\Users\\\\colby\\\\OneDrive\\\\Documents\\\\Research\\\\Grand Canyon\\\\Raw_GPS_23\\\\GRCA_GPS_TRACKS_2023\\\\215612.shp\",\"----------------------------------------\",\"Source file: C:\\\\Users\\\\colby\\\\OneDrive\\\\Documents\\\\Research\\\\Grand Canyon\\\\Raw_GPS_23\\\\GRCA_GPS_TRACKS_2023\\\\216312.shp\",\"----------------------------------------\",\"Source file: C:\\\\Users\\\\colby\\\\OneDrive\\\\Documents\\\\Research\\\\Grand Canyon\\\\Raw_GPS_23\\\\GRCA_GPS_TRACKS_2023\\\\216712.shp\",\"----------------------------------------\",\"Source file: C:\\\\Users\\\\colby\\\\OneDrive\\\\Documents\\\\Research\\\\Grand Canyon\\\\Raw_GPS_23\\\\GRCA_GPS_TRACKS_2023\\\\217012.shp\",\"----------------------------------------\",\"Source file: C:\\\\Users\\\\colby\\\\OneDrive\\\\Documents\\\\Research\\\\Grand Canyon\\\\Raw_GPS_23\\\\GRCA_GPS_TRACKS_2023\\\\217112.shp\",\"----------------------------------------\",\"Source file: C:\\\\Users\\\\colby\\\\OneDrive\\\\Documents\\\\Research\\\\Grand Canyon\\\\Raw_GPS_23\\\\GRCA_GPS_TRACKS_2023\\\\219812.shp\",\"----------------------------------------\",\"Source file: C:\\\\Users\\\\colby\\\\OneDrive\\\\Documents\\\\Research\\\\Grand Canyon\\\\Raw_GPS_23\\\\GRCA_GPS_TRACKS_2023\\\\219912.shp\",\"----------------------------------------\",\"Source file: C:\\\\Users\\\\colby\\\\OneDrive\\\\Documents\\\\Research\\\\Grand Canyon\\\\Raw_GPS_23\\\\GRCA_GPS_TRACKS_2023\\\\230412.shp\",\"----------------------------------------\",\"Source file: C:\\\\Users\\\\colby\\\\OneDrive\\\\Documents\\\\Research\\\\Grand Canyon\\\\Raw_GPS_23\\\\GRCA_GPS_TRACKS_2023\\\\231112.shp\",\"----------------------------------------\",\"Source file: C:\\\\Users\\\\colby\\\\OneDrive\\\\Documents\\\\Research\\\\Grand Canyon\\\\Raw_GPS_23\\\\GRCA_GPS_TRACKS_2023\\\\231712.shp\",\"----------------------------------------\",\"Source file: C:\\\\Users\\\\colby\\\\OneDrive\\\\Documents\\\\Research\\\\Grand Canyon\\\\Raw_GPS_23\\\\GRCA_GPS_TRACKS_2023\\\\231912.shp\",\"----------------------------------------\",\"Source file: C:\\\\Users\\\\colby\\\\OneDrive\\\\Documents\\\\Research\\\\Grand Canyon\\\\Raw_GPS_23\\\\GRCA_GPS_TRACKS_2023\\\\232112.shp\",\"----------------------------------------\",\"Source file: C:\\\\Users\\\\colby\\\\OneDrive\\\\Documents\\\\Research\\\\Grand Canyon\\\\Raw_GPS_23\\\\GRCA_GPS_TRACKS_2023\\\\232212.shp\",\"----------------------------------------\",\"Source file: C:\\\\Users\\\\colby\\\\OneDrive\\\\Documents\\\\Research\\\\Grand Canyon\\\\Raw_GPS_23\\\\GRCA_GPS_TRACKS_2023\\\\232312.shp\",\"----------------------------------------\",\"Source file: C:\\\\Users\\\\colby\\\\OneDrive\\\\Documents\\\\Research\\\\Grand Canyon\\\\Raw_GPS_23\\\\GRCA_GPS_TRACKS_2023\\\\232412.shp\",\"----------------------------------------\",\"Source file: C:\\\\Users\\\\colby\\\\OneDrive\\\\Documents\\\\Research\\\\Grand Canyon\\\\Raw_GPS_23\\\\GRCA_GPS_TRACKS_2023\\\\233012.shp\",\"----------------------------------------\",\"Source file: C:\\\\Users\\\\colby\\\\OneDrive\\\\Documents\\\\Research\\\\Grand Canyon\\\\Raw_GPS_23\\\\GRCA_GPS_TRACKS_2023\\\\235012.shp\",\"----------------------------------------\",\"Source file: C:\\\\Users\\\\colby\\\\OneDrive\\\\Documents\\\\Research\\\\Grand Canyon\\\\Raw_GPS_23\\\\GRCA_GPS_TRACKS_2023\\\\235512.shp\",\"----------------------------------------\",\"Source file: C:\\\\Users\\\\colby\\\\OneDrive\\\\Documents\\\\Research\\\\Grand Canyon\\\\Raw_GPS_23\\\\GRCA_GPS_TRACKS_2023\\\\235612.shp\",\"----------------------------------------\",\"Source file: C:\\\\Users\\\\colby\\\\OneDrive\\\\Documents\\\\Research\\\\Grand Canyon\\\\Raw_GPS_23\\\\GRCA_GPS_TRACKS_2023\\\\236012.shp\",\"----------------------------------------\",\"Source file: C:\\\\Users\\\\colby\\\\OneDrive\\\\Documents\\\\Research\\\\Grand Canyon\\\\Raw_GPS_23\\\\GRCA_GPS_TRACKS_2023\\\\236312.shp\",\"----------------------------------------\",\"Source file: C:\\\\Users\\\\colby\\\\OneDrive\\\\Documents\\\\Research\\\\Grand Canyon\\\\Raw_GPS_23\\\\GRCA_GPS_TRACKS_2023\\\\236412.shp\",\"----------------------------------------\",\"Source file: C:\\\\Users\\\\colby\\\\OneDrive\\\\Documents\\\\Research\\\\Grand Canyon\\\\Raw_GPS_23\\\\GRCA_GPS_TRACKS_2023\\\\236712.shp\",\"----------------------------------------\",\"Source file: C:\\\\Users\\\\colby\\\\OneDrive\\\\Documents\\\\Research\\\\Grand Canyon\\\\Raw_GPS_23\\\\GRCA_GPS_TRACKS_2023\\\\237012.shp\",\"----------------------------------------\",\"Source file: C:\\\\Users\\\\colby\\\\OneDrive\\\\Documents\\\\Research\\\\Grand Canyon\\\\Raw_GPS_23\\\\GRCA_GPS_TRACKS_2023\\\\237112.shp\",\"----------------------------------------\",\"Source file: C:\\\\Users\\\\colby\\\\OneDrive\\\\Documents\\\\Research\\\\Grand Canyon\\\\Raw_GPS_23\\\\GRCA_GPS_TRACKS_2023\\\\237212.shp\",\"----------------------------------------\",\"Source file: C:\\\\Users\\\\colby\\\\OneDrive\\\\Documents\\\\Research\\\\Grand Canyon\\\\Raw_GPS_23\\\\GRCA_GPS_TRACKS_2023\\\\239812.shp\",\"----------------------------------------\",\"Source file: C:\\\\Users\\\\colby\\\\OneDrive\\\\Documents\\\\Research\\\\Grand Canyon\\\\Raw_GPS_23\\\\GRCA_GPS_TRACKS_2023\\\\239912.shp\",\"----------------------------------------\",\"Source file: C:\\\\Users\\\\colby\\\\OneDrive\\\\Documents\\\\Research\\\\Grand Canyon\\\\Raw_GPS_23\\\\GRCA_GPS_TRACKS_2023\\\\239922.shp\",\"Succeeded at Sunday, June 9, 2024 5:07:48 PM (Elapsed Time: 3 minutes 23 seconds)\"]' data-show='true'><div id = 'default' /></div></div>"
     },
     "execution_count": 5,
     "metadata": {},
     "output_type": "execute_result"
    }
   ],
   "source": [
    "###Import data. In order for this to work, all data must be recorded as a shape file.\n",
    "in_data = os.path.join(base_dir, folder_with_data)\n",
    "filter = \"*.shp\"\n",
    "\n",
    "arcpy.intelligence.BatchImportData(in_data, target_gdb, filter)"
   ],
   "metadata": {
    "collapsed": false,
    "ExecuteTime": {
     "end_time": "2024-06-09T21:07:48.963812600Z",
     "start_time": "2024-06-09T21:04:24.013575800Z"
    }
   }
  },
  {
   "cell_type": "code",
   "execution_count": 6,
   "outputs": [
    {
     "data": {
      "text/plain": "<Result 'C:\\\\Users\\\\colby\\\\OneDrive - The Pennsylvania State University\\\\Documents\\\\ArcGIS\\\\Projects\\\\TTRA_Presentation\\\\TTRA_Presentation.gdb\\\\raw_points'>",
      "text/html": "<div class='gpresult'><h2>Messages</h2><div id='messages' data-messages='[\"Start Time: Sunday, June 9, 2024 5:09:22 PM\",\"Succeeded at Sunday, June 9, 2024 5:10:46 PM (Elapsed Time: 1 minutes 24 seconds)\"]' data-show='true'><div id = 'default' /></div></div>"
     },
     "execution_count": 6,
     "metadata": {},
     "output_type": "execute_result"
    }
   ],
   "source": [
    "### Combine all separate shapefiles for each unique device/participant into one file\n",
    "\n",
    "##Set the workspace\n",
    "workspace = target_gdb\n",
    "\n",
    "#Making an empty list to put filepaths to feature classes in\n",
    "feature_classes = []\n",
    "\n",
    "#Walking workspace recursively checking type, and appending filepath to list\n",
    "for dirpath, dirnames, filenames in arcpy.da.Walk(workspace,datatype=\"FeatureClass\", type=\"Point\"):\n",
    "    for filename in filenames:\n",
    "        desc = arcpy.Describe(os.path.join(dirpath, filename))\n",
    "        if desc.shapeType == \"Point\":\n",
    "            feature_classes.append(os.path.join(dirpath, filename))\n",
    "\n",
    "#Filename for saving\n",
    "output = \"raw_points\"\n",
    "\n",
    "#merging my list of feature classes to a new dataset\n",
    "arcpy.Merge_management(feature_classes, output)"
   ],
   "metadata": {
    "collapsed": false,
    "ExecuteTime": {
     "end_time": "2024-06-09T21:10:46.902072100Z",
     "start_time": "2024-06-09T21:07:48.966901300Z"
    }
   }
  },
  {
   "cell_type": "code",
   "execution_count": 7,
   "outputs": [
    {
     "data": {
      "text/plain": "         OBJECTID  tident                ltime  \\\n0               1  010112  2023/05/23 09:40:05   \n1               2  010112  2023/05/23 09:40:20   \n2               3  010112  2023/05/23 09:40:34   \n3               4  010112  2023/05/23 09:40:49   \n4               5  010112  2023/05/23 09:41:05   \n...           ...     ...                  ...   \n1456027   1456028  239922  2023/06/24 17:30:16   \n1456028   1456029  239922  2023/06/24 17:30:31   \n1456029   1456030  239922  2023/06/24 17:30:46   \n1456030   1456031  239922  2023/06/24 17:31:01   \n1456031   1456032  239922  2023/06/24 17:31:16   \n\n                                                     SHAPE  \n0        {\"x\": 425226.1964999996, \"y\": 3988277.36350000...  \n1        {\"x\": 425227.1490000002, \"y\": 3988277.47619999...  \n2        {\"x\": 425226.8783, \"y\": 3988277.6180000007, \"s...  \n3        {\"x\": 425226.35730000027, \"y\": 3988277.6317, \"...  \n4        {\"x\": 425225.7078999998, \"y\": 3988277.63719999...  \n...                                                    ...  \n1456027  {\"x\": 397641.2697999999, \"y\": 3990550.77590000...  \n1456028  {\"x\": 397639.67449999973, \"y\": 3990549.2974999...  \n1456029  {\"x\": 397638.59970000014, \"y\": 3990549.0776000...  \n1456030  {\"x\": 397637.48840000015, \"y\": 3990550.9037999...  \n1456031  {\"x\": 397636.4590999996, \"y\": 3990553.28700000...  \n\n[1456032 rows x 4 columns]",
      "text/html": "<div>\n<style scoped>\n    .dataframe tbody tr th:only-of-type {\n        vertical-align: middle;\n    }\n\n    .dataframe tbody tr th {\n        vertical-align: top;\n    }\n\n    .dataframe thead th {\n        text-align: right;\n    }\n</style>\n<table border=\"1\" class=\"dataframe\">\n  <thead>\n    <tr style=\"text-align: right;\">\n      <th></th>\n      <th>OBJECTID</th>\n      <th>tident</th>\n      <th>ltime</th>\n      <th>SHAPE</th>\n    </tr>\n  </thead>\n  <tbody>\n    <tr>\n      <th>0</th>\n      <td>1</td>\n      <td>010112</td>\n      <td>2023/05/23 09:40:05</td>\n      <td>{\"x\": 425226.1964999996, \"y\": 3988277.36350000...</td>\n    </tr>\n    <tr>\n      <th>1</th>\n      <td>2</td>\n      <td>010112</td>\n      <td>2023/05/23 09:40:20</td>\n      <td>{\"x\": 425227.1490000002, \"y\": 3988277.47619999...</td>\n    </tr>\n    <tr>\n      <th>2</th>\n      <td>3</td>\n      <td>010112</td>\n      <td>2023/05/23 09:40:34</td>\n      <td>{\"x\": 425226.8783, \"y\": 3988277.6180000007, \"s...</td>\n    </tr>\n    <tr>\n      <th>3</th>\n      <td>4</td>\n      <td>010112</td>\n      <td>2023/05/23 09:40:49</td>\n      <td>{\"x\": 425226.35730000027, \"y\": 3988277.6317, \"...</td>\n    </tr>\n    <tr>\n      <th>4</th>\n      <td>5</td>\n      <td>010112</td>\n      <td>2023/05/23 09:41:05</td>\n      <td>{\"x\": 425225.7078999998, \"y\": 3988277.63719999...</td>\n    </tr>\n    <tr>\n      <th>...</th>\n      <td>...</td>\n      <td>...</td>\n      <td>...</td>\n      <td>...</td>\n    </tr>\n    <tr>\n      <th>1456027</th>\n      <td>1456028</td>\n      <td>239922</td>\n      <td>2023/06/24 17:30:16</td>\n      <td>{\"x\": 397641.2697999999, \"y\": 3990550.77590000...</td>\n    </tr>\n    <tr>\n      <th>1456028</th>\n      <td>1456029</td>\n      <td>239922</td>\n      <td>2023/06/24 17:30:31</td>\n      <td>{\"x\": 397639.67449999973, \"y\": 3990549.2974999...</td>\n    </tr>\n    <tr>\n      <th>1456029</th>\n      <td>1456030</td>\n      <td>239922</td>\n      <td>2023/06/24 17:30:46</td>\n      <td>{\"x\": 397638.59970000014, \"y\": 3990549.0776000...</td>\n    </tr>\n    <tr>\n      <th>1456030</th>\n      <td>1456031</td>\n      <td>239922</td>\n      <td>2023/06/24 17:31:01</td>\n      <td>{\"x\": 397637.48840000015, \"y\": 3990550.9037999...</td>\n    </tr>\n    <tr>\n      <th>1456031</th>\n      <td>1456032</td>\n      <td>239922</td>\n      <td>2023/06/24 17:31:16</td>\n      <td>{\"x\": 397636.4590999996, \"y\": 3990553.28700000...</td>\n    </tr>\n  </tbody>\n</table>\n<p>1456032 rows × 4 columns</p>\n</div>"
     },
     "execution_count": 7,
     "metadata": {},
     "output_type": "execute_result"
    }
   ],
   "source": [
    "##It is unnecessary to retain most fields recorded by GPS devices, however, specific needs for each project may vary. Below are the minimum necessary fields to run the code.\n",
    "\n",
    "process_raw = os.path.join(target_gdb, \"raw_points\")\n",
    "\n",
    "raw_points = pd.DataFrame.spatial.from_featureclass(process_raw)\n",
    "\n",
    "##Select the field for the object identification (OID) created by ArcGIS\n",
    "OID = \"OBJECTID\"\n",
    "\n",
    "##Select the field for group identification (GID), which refers the participant's unique ID\n",
    "GID = \"tident\"\n",
    "\n",
    "##Select the field(s) for time\n",
    "time= \"ltime\"\n",
    "\n",
    "##Select the field from\n",
    "shape = \"SHAPE\"\n",
    "\n",
    "##Retained fields\n",
    "retained_fields = [OID,GID,time,shape]\n",
    "\n",
    "##Create dataframe of necessary points only\n",
    "raw_points = raw_points[retained_fields]\n",
    "\n",
    "##Export datapoints back to geodatabase\n",
    "raw_points.spatial.to_featureclass(os.path.join(target_gdb, \"processed_points\"))\n",
    "\n",
    "##Print pandas dataframe\n",
    "raw_points"
   ],
   "metadata": {
    "collapsed": false,
    "ExecuteTime": {
     "end_time": "2024-06-09T21:13:01.388317500Z",
     "start_time": "2024-06-09T21:10:46.907628800Z"
    }
   }
  },
  {
   "cell_type": "code",
   "execution_count": 8,
   "outputs": [
    {
     "data": {
      "text/plain": "<Result 'C:\\\\Users\\\\colby\\\\OneDrive - The Pennsylvania State University\\\\Documents\\\\ArcGIS\\\\Projects\\\\TTRA_Presentation\\\\TTRA_Presentation.gdb\\\\processed_points'>",
      "text/html": "<div class='gpresult'><h2>Messages</h2><div id='messages' data-messages='[\"Start Time: Sunday, June 9, 2024 5:13:01 PM\",\"Adding ltime_converted to processed_points...\",\"Succeeded at Sunday, June 9, 2024 5:14:37 PM (Elapsed Time: 1 minutes 35 seconds)\"]' data-show='true'><div id = 'default' /></div></div>"
     },
     "execution_count": 8,
     "metadata": {},
     "output_type": "execute_result"
    }
   ],
   "source": [
    "# Use Convert Time Field to convert “ltime” to Date format (labeling may vary). Input time format may vary by device.\n",
    "\n",
    "in_table = \"processed_points\"\n",
    "input_time_field = time\n",
    "input_time_format = \"yyyy/MM/dd HH:mm:ss\"\n",
    "output_time_field = \"ltime_converted\"\n",
    "\n",
    "arcpy.management.ConvertTimeField(in_table, input_time_field, input_time_format, output_time_field)"
   ],
   "metadata": {
    "collapsed": false,
    "ExecuteTime": {
     "end_time": "2024-06-09T21:14:37.456293100Z",
     "start_time": "2024-06-09T21:13:01.405753700Z"
    }
   }
  },
  {
   "cell_type": "code",
   "execution_count": 9,
   "outputs": [
    {
     "data": {
      "text/plain": "<Result 'C:\\\\Users\\\\colby\\\\OneDrive - The Pennsylvania State University\\\\Documents\\\\ArcGIS\\\\Projects\\\\TTRA_Presentation\\\\TTRA_Presentation.gdb\\\\processed_points_clip'>",
      "text/html": "<div class='gpresult'><h2>Messages</h2><div id='messages' data-messages='[\"Start Time: Sunday, June 9, 2024 5:14:37 PM\",\"Analyzing input features...\",\"Dissolving clip features...\",\"Clipping input features...\",\"Succeeded at Sunday, June 9, 2024 5:15:04 PM (Elapsed Time: 27.04 seconds)\"]' data-show='true'><div id = 'default' /></div></div>"
     },
     "execution_count": 9,
     "metadata": {},
     "output_type": "execute_result"
    }
   ],
   "source": [
    "# Clip new merged shapefile using a polygon of the study area (with the survey locations cut out of the polygon – use continue feature tool)\n",
    "\n",
    "in_features = \"processed_points\"\n",
    "clip_features = destination_boundary\n",
    "out_feature_class = \"processed_points_clip\"\n",
    "\n",
    "arcpy.analysis.Clip(in_features, clip_features, out_feature_class)"
   ],
   "metadata": {
    "collapsed": false,
    "ExecuteTime": {
     "end_time": "2024-06-09T21:15:04.779237Z",
     "start_time": "2024-06-09T21:14:37.459393800Z"
    }
   }
  },
  {
   "cell_type": "code",
   "execution_count": 10,
   "outputs": [
    {
     "data": {
      "text/plain": "<Result 'C:\\\\Users\\\\colby\\\\OneDrive - The Pennsylvania State University\\\\Documents\\\\ArcGIS\\\\Projects\\\\TTRA_Presentation\\\\TTRA_Presentation.gdb\\\\processed_points_clip_dropbox'>",
      "text/html": "<div class='gpresult'><h2>Messages</h2><div id='messages' data-messages='[\"Start Time: Sunday, June 9, 2024 5:15:05 PM\",\"Succeeded at Sunday, June 9, 2024 5:16:01 PM (Elapsed Time: 56.82 seconds)\"]' data-show='true'><div id = 'default' /></div></div>"
     },
     "execution_count": 10,
     "metadata": {},
     "output_type": "execute_result"
    }
   ],
   "source": [
    "## Remove points around dropbox using 150m buffer\n",
    "\n",
    "in_features = \"processed_points_clip\"\n",
    "erase_features = dropbox_buffer\n",
    "out_feature_class = \"processed_points_clip_dropbox\"\n",
    "\n",
    "arcpy.analysis.PairwiseErase(in_features, erase_features, out_feature_class)"
   ],
   "metadata": {
    "collapsed": false,
    "ExecuteTime": {
     "end_time": "2024-06-09T21:16:01.879883900Z",
     "start_time": "2024-06-09T21:15:04.782850100Z"
    }
   }
  },
  {
   "cell_type": "code",
   "execution_count": 11,
   "outputs": [
    {
     "data": {
      "text/plain": "<Result 'C:\\\\Users\\\\colby\\\\OneDrive - The Pennsylvania State University\\\\Documents\\\\ArcGIS\\\\Projects\\\\TTRA_Presentation\\\\TTRA_Presentation.gdb\\\\processed_points_clip_dropbox_cabin'>",
      "text/html": "<div class='gpresult'><h2>Messages</h2><div id='messages' data-messages='[\"Start Time: Sunday, June 9, 2024 5:16:02 PM\",\"Succeeded at Sunday, June 9, 2024 5:16:13 PM (Elapsed Time: 10.88 seconds)\"]' data-show='true'><div id = 'default' /></div></div>"
     },
     "execution_count": 11,
     "metadata": {},
     "output_type": "execute_result"
    }
   ],
   "source": [
    "###Remove points around cabin using 75m buffer\n",
    "\n",
    "in_features = \"processed_points_clip_dropbox\"\n",
    "erase_features = download_buffer\n",
    "out_feature_class = \"processed_points_clip_dropbox_cabin\"\n",
    "\n",
    "arcpy.analysis.PairwiseErase(in_features, erase_features, out_feature_class)"
   ],
   "metadata": {
    "collapsed": false,
    "ExecuteTime": {
     "end_time": "2024-06-09T21:16:13.039701600Z",
     "start_time": "2024-06-09T21:16:01.881892300Z"
    }
   }
  },
  {
   "cell_type": "markdown",
   "source": [
    "Section 2: The preceding section provides the highest level of data cleaning, however, the subsequent sections allow the researcher to dig deeper into errors that may occur from working with GPS devices. Section 2 relies on automatic commands to systematically remove points from likely errors (e.g., devices being turned off, noise). It will require defining assumptions that are pertinent to the set up of your GPS devices and reasonable behaviors of your participants."
   ],
   "metadata": {
    "collapsed": false
   }
  },
  {
   "cell_type": "code",
   "execution_count": 12,
   "outputs": [
    {
     "data": {
      "text/plain": "<Result 'C:\\\\Users\\\\colby\\\\OneDrive - The Pennsylvania State University\\\\Documents\\\\ArcGIS\\\\Projects\\\\TTRA_Presentation\\\\TTRA_Presentation.gdb\\\\processed_lines'>",
      "text/html": "<div class='gpresult'><h2>Messages</h2><div id='messages' data-messages='[\"Start Time: Sunday, June 9, 2024 5:16:13 PM\",\"No current project or map.\",\"No current project or map.\",\"Output layerfile exists C:\\\\Users\\\\colby\\\\OneDrive - The Pennsylvania State University\\\\Documents\\\\ArcGIS\\\\Projects\\\\TTRA_Presentation\\\\processed_lines.lyrx. Deleting...\",\"Deleting intermedate datasets...\",\"Succeeded at Sunday, June 9, 2024 5:21:53 PM (Elapsed Time: 5 minutes 40 seconds)\"]' data-show='true'><div id = 'default' /></div></div>"
     },
     "execution_count": 12,
     "metadata": {},
     "output_type": "execute_result"
    }
   ],
   "source": [
    "# Use the Points to Track Segments tool to create a new set of features where all points are converted to track segments. Use the participant identification number (in this case, “tident”) as the group field. Deselect Error On Duplicate Timestamps.\n",
    "\n",
    "in_features = \"processed_points_clip_dropbox_cabin\"\n",
    "date_field = \"ltime_converted\"\n",
    "out_feature_class = \"processed_lines\"\n",
    "group_field = GID\n",
    "include_velocity = \"INCLUDE_VELOCITY\"\n",
    "error_on_duplicate_timestamps = \"ALLOW_DUPLICATE_TIMESTAMPS\"\n",
    "\n",
    "arcpy.intelligence.PointsToTrackSegments(in_features, date_field, out_feature_class, group_field, error_on_duplicate_timestamps = \"ALLOW_DUPLICATE_TIMESTAMPS\")"
   ],
   "metadata": {
    "collapsed": false,
    "ExecuteTime": {
     "end_time": "2024-06-09T21:21:53.686957100Z",
     "start_time": "2024-06-09T21:16:13.045701700Z"
    }
   }
  },
  {
   "cell_type": "code",
   "execution_count": 13,
   "outputs": [],
   "source": [
    "##Assumptions:\n",
    "\n",
    "##The GPS devices used in this study relied on 15 second intervals and the fastest method for travel were by car', therefore, we assumed that distances between points above 465 meters (i.e., 70 mph) were likely due to error. Change the field preceding the \">\" sign to match the field indicating distance between points.\n",
    "\n",
    "speed_assumption = \"distance_m > 465\"\n",
    "\n",
    "##The GPS devices used in this study relied on 15 second intervals, therefore, we assumed that recordings with intervals above 20 seconds were indicators of error. Change the field preceding the \">\" sign to match the field indicating time between points.\n",
    "\n",
    "time_assumption = \"dt_sec > 20\""
   ],
   "metadata": {
    "collapsed": false,
    "ExecuteTime": {
     "end_time": "2024-06-09T21:21:53.701676700Z",
     "start_time": "2024-06-09T21:21:53.696210600Z"
    }
   }
  },
  {
   "cell_type": "code",
   "execution_count": 14,
   "outputs": [
    {
     "data": {
      "text/plain": "<Result 'processed_lines_Layer1'>",
      "text/html": "<div class='gpresult'><h2>Messages</h2><div id='messages' data-messages='[\"Start Time: Sunday, June 9, 2024 5:21:54 PM\",\"Succeeded at Sunday, June 9, 2024 5:21:55 PM (Elapsed Time: 0.58 seconds)\"]' data-show='true'><div id = 'default' /></div></div>"
     },
     "execution_count": 14,
     "metadata": {},
     "output_type": "execute_result"
    }
   ],
   "source": [
    "# Select all attributes (line segments) with a distance greater than 465 meters (traveling greater than 70 miles per hour). Delete the selection.\n",
    "\n",
    "in_layer_or_view = \"processed_lines\"\n",
    "selection_type = \"NEW_SELECTION\"\n",
    "where_clause = speed_assumption\n",
    "\n",
    "Distance_Selection = arcpy.management.SelectLayerByAttribute(in_layer_or_view, selection_type, where_clause)\n",
    "\n",
    "\n",
    "##Delete selected attributes.\n",
    "arcpy.management.DeleteFeatures(Distance_Selection)"
   ],
   "metadata": {
    "collapsed": false,
    "ExecuteTime": {
     "end_time": "2024-06-09T21:21:55.224765600Z",
     "start_time": "2024-06-09T21:21:53.721323500Z"
    }
   }
  },
  {
   "cell_type": "code",
   "execution_count": 15,
   "outputs": [
    {
     "data": {
      "text/plain": "<Result 'C:\\\\Users\\\\colby\\\\OneDrive - The Pennsylvania State University\\\\Documents\\\\ArcGIS\\\\Projects\\\\TTRA_Presentation\\\\TTRA_Presentation.gdb\\\\processed_lines'>",
      "text/html": "<div class='gpresult'><h2>Messages</h2><div id='messages' data-messages='[\"Start Time: Sunday, June 9, 2024 5:23:18 PM\",\"Succeeded at Sunday, June 9, 2024 5:23:33 PM (Elapsed Time: 15.21 seconds)\"]' data-show='true'><div id = 'default' /></div></div>"
     },
     "execution_count": 15,
     "metadata": {},
     "output_type": "execute_result"
    }
   ],
   "source": [
    "# Create new text fields equal to your group identification plus the unique point identification for each entry for further examination. First make sure your fields, such as identification, are text. These expressions should occur by default in your data by now, but revise them (i.e., the group ID, object ID) if they do not.\n",
    "\n",
    "in_table = \"processed_lines\"\n",
    "field = \"Text_OID\"\n",
    "expression = \"!OBJECTID!\"\n",
    "\n",
    "arcpy.management.CalculateField(in_table, field, expression, field_type = \"TEXT\")\n",
    "\n",
    "##Now make a field that combines Group Identification+OBJECTID.\n",
    "\n",
    "in_table = \"processed_lines\"\n",
    "field = \"ID_2\"\n",
    "expression = \"!group_id! + !Text_OID!\"\n",
    "\n",
    "arcpy.management.CalculateField(in_table, field, expression)\n",
    "\n",
    "###Remove Unnecessary Fields (again)\n",
    "\n",
    "in_table = \"processed_lines\"\n",
    "fields = [\"Text_OID\"]\n",
    "\n",
    "arcpy.DeleteField_management(in_table, fields)"
   ],
   "metadata": {
    "collapsed": false,
    "ExecuteTime": {
     "end_time": "2024-06-09T21:23:33.796239700Z",
     "start_time": "2024-06-09T21:21:55.229013900Z"
    }
   }
  },
  {
   "cell_type": "code",
   "execution_count": 16,
   "outputs": [
    {
     "data": {
      "text/plain": "<Result 'C:\\\\Users\\\\colby\\\\OneDrive - The Pennsylvania State University\\\\Documents\\\\ArcGIS\\\\Projects\\\\TTRA_Presentation\\\\TTRA_Presentation.gdb\\\\processed_points'>",
      "text/html": "<div class='gpresult'><h2>Messages</h2><div id='messages' data-messages='[\"Start Time: Sunday, June 9, 2024 5:23:33 PM\",\"Succeeded at Sunday, June 9, 2024 5:23:47 PM (Elapsed Time: 14.02 seconds)\"]' data-show='true'><div id = 'default' /></div></div>"
     },
     "execution_count": 16,
     "metadata": {},
     "output_type": "execute_result"
    }
   ],
   "source": [
    "# Use the Feature Vertices to Points tool to transform the line segments of participant feature classes to points. Again, stay working in the same geodatabase. Use start vertex as the Point Type. Add the new point-based feature classes to the map.\n",
    "\n",
    "in_features = \"processed_lines\"\n",
    "out_feature_class = \"processed_points\"\n",
    "point_location = \"START\"\n",
    "\n",
    "arcpy.management.FeatureVerticesToPoints(in_features, out_feature_class, point_location)"
   ],
   "metadata": {
    "collapsed": false,
    "ExecuteTime": {
     "end_time": "2024-06-09T21:23:47.918134100Z",
     "start_time": "2024-06-09T21:23:33.800573800Z"
    }
   }
  },
  {
   "cell_type": "code",
   "execution_count": 17,
   "outputs": [
    {
     "data": {
      "text/plain": "<Result 'processed_points_Layer1'>",
      "text/html": "<div class='gpresult'><h2>Messages</h2><div id='messages' data-messages='[\"Start Time: Sunday, June 9, 2024 5:23:48 PM\",\"Succeeded at Sunday, June 9, 2024 5:23:49 PM (Elapsed Time: 0.92 seconds)\"]' data-show='true'><div id = 'default' /></div></div>"
     },
     "execution_count": 17,
     "metadata": {},
     "output_type": "execute_result"
    }
   ],
   "source": [
    "# Use select by attributes to delete all rows (points) containing duration values greater than 20. This won't remove all errors, but it is a good start.\n",
    "\n",
    "in_layer_or_view = \"processed_points\"\n",
    "selection_type = \"NEW_SELECTION\"\n",
    "where_clause = time_assumption\n",
    "\n",
    "Time_Selection = arcpy.management.SelectLayerByAttribute(in_layer_or_view, selection_type, where_clause)\n",
    "\n",
    "arcpy.management.DeleteFeatures(Time_Selection)"
   ],
   "metadata": {
    "collapsed": false,
    "ExecuteTime": {
     "end_time": "2024-06-09T21:23:49.169672800Z",
     "start_time": "2024-06-09T21:23:47.921817400Z"
    }
   }
  },
  {
   "cell_type": "markdown",
   "source": [
    "Section 3: The preceding section is helpful for automatic removal of GPS tracks within ArcGIS Pro. However, GPS data can be noisy and may require some manual effort to identify lingering errors. For example, in the Grand Canyon study, some people left the study site for some time (e.g., to shop, camp outside the park boundaries) and the returned. Their data is still valuable, however, it could be mixed up with other data that is from device error (e.g., devices that recorded points in illogical destinations due to noise or topography), user error (e.g., a participant who appeared to have a device on them as they did a helicopter tour of the park) or researcher error (e.g., points recorded on GPS devices retrieved from visitor centers). The code below is intended to facilitate manual examination of data points that express unique or illogical behavior to help determine if they are valuable or warrant removal because they are derived from some form of error."
   ],
   "metadata": {
    "collapsed": false
   }
  },
  {
   "cell_type": "code",
   "execution_count": 18,
   "outputs": [
    {
     "data": {
      "text/plain": "           FID                      dtime               d_start_s  \\\n120        121 2023-05-23 09:43:05.000000  2023-05-23 09:43:05 AM   \n123        124 2023-05-23 09:43:20.000000  2023-05-23 09:43:20 AM   \n126        127 2023-05-23 09:43:35.000002  2023-05-23 09:43:35 AM   \n129        130 2023-05-23 09:43:50.000000  2023-05-23 09:43:50 AM   \n132        133 2023-05-23 09:44:05.000000  2023-05-23 09:44:05 AM   \n...        ...                        ...                     ...   \n119342  123004 2023-05-30 17:03:58.000000  2023-05-30 05:03:58 PM   \n119345  123007 2023-05-30 17:04:13.000002  2023-05-30 05:04:13 PM   \n119348  123010 2023-05-30 17:04:28.000000  2023-05-30 05:04:28 PM   \n119351  123013 2023-05-30 17:04:43.000000  2023-05-30 05:04:43 PM   \n119354  123016 2023-05-30 17:04:58.000000  2023-05-30 05:04:58 PM   \n\n                            d_end                 d_end_s  dt_sec    dt_min  \\\n120    2023-05-23 09:43:20.000000  2023-05-23 09:43:20 AM      15      0.25   \n123    2023-05-23 09:43:35.000002  2023-05-23 09:43:35 AM      15      0.25   \n126    2023-05-23 09:43:50.000000  2023-05-23 09:43:50 AM      14  0.233333   \n129    2023-05-23 09:44:05.000000  2023-05-23 09:44:05 AM      15      0.25   \n132    2023-05-23 09:44:20.000000  2023-05-23 09:44:20 AM      15      0.25   \n...                           ...                     ...     ...       ...   \n119342 2023-05-30 17:04:13.000002  2023-05-30 05:04:13 PM      15      0.25   \n119345 2023-05-30 17:04:28.000000  2023-05-30 05:04:28 PM      14  0.233333   \n119348 2023-05-30 17:04:43.000000  2023-05-30 05:04:43 PM      15      0.25   \n119351 2023-05-30 17:04:58.000000  2023-05-30 05:04:58 PM      15      0.25   \n119354 2023-05-30 17:05:13.000000  2023-05-30 05:05:13 PM      15      0.25   \n\n        distance_m  oid_start  oid_end  speed_mps  speed_mph  speed_kph  \\\n120     175.969048     318011   317746   11.73127  26.242147  42.232571   \n123      252.31622     317746   317011  16.821081   37.62775  60.555893   \n126     294.266755     317011   316746  21.019054  47.018362  75.668594   \n129     194.721218     316746   316207  12.981415  29.038645  46.733092   \n132     231.525945     316207   311746  15.435063   34.52731  55.566227   \n...            ...        ...      ...        ...        ...        ...   \n119342  287.925486       6798     6799  19.195032  42.938136  69.102117   \n119345  294.047063       6799     6164  21.003362   46.98326  75.612102   \n119348  282.096477       6164     6165  18.806432   42.06886  67.703155   \n119351  303.484176       6165     5228  20.232278  45.258393  72.836202   \n119354  280.761414       5228     5229  18.717428  41.869762  67.382739   \n\n        speed_knt                      GID                           ID_2  \\\n120     22.803712                   010112                      010112121   \n123     32.697491                   010112                      010112124   \n126     40.857678                   010112                      010112127   \n129     25.233793                   010112                      010112130   \n132     30.003293                   010112                      010112133   \n...           ...                      ...                            ...   \n119342  37.312072  Current Track: 30 MAY 2  Current Track: 30 MAY 2126042   \n119345  40.827174  Current Track: 30 MAY 2  Current Track: 30 MAY 2126045   \n119348  36.556694  Current Track: 30 MAY 2  Current Track: 30 MAY 2126048   \n119351  39.328312  Current Track: 30 MAY 2  Current Track: 30 MAY 2126051   \n119354  36.383684  Current Track: 30 MAY 2  Current Track: 30 MAY 2126054   \n\n        ORIG_FID                                              SHAPE  \n120          121  {\"x\": 425322.9512, \"y\": 3988475.3912000004, \"s...  \n123          124  {\"x\": 425241.1732999999, \"y\": 3988631.13770000...  \n126          127  {\"x\": 424998.49340000004, \"y\": 3988562.3785999...  \n129          130  {\"x\": 424826.56900000013, \"y\": 3988323.6786, \"...  \n132          133  {\"x\": 424646.99230000004, \"y\": 3988398.8019999...  \n...          ...                                                ...  \n119342    126042  {\"x\": 398834.1743000001, \"y\": 3988251.39489999...  \n119345    126045  {\"x\": 398816.4205, \"y\": 3987964.0963000003, \"s...  \n119348    126048  {\"x\": 398812.02660000045, \"y\": 3987670.1625999...  \n119351    126051  {\"x\": 398819.33550000004, \"y\": 3987388.2380999...  \n119354    126054  {\"x\": 398832.2775999997, \"y\": 3987085.11319999...  \n\n[351462 rows x 18 columns]",
      "text/html": "<div>\n<style scoped>\n    .dataframe tbody tr th:only-of-type {\n        vertical-align: middle;\n    }\n\n    .dataframe tbody tr th {\n        vertical-align: top;\n    }\n\n    .dataframe thead th {\n        text-align: right;\n    }\n</style>\n<table border=\"1\" class=\"dataframe\">\n  <thead>\n    <tr style=\"text-align: right;\">\n      <th></th>\n      <th>FID</th>\n      <th>dtime</th>\n      <th>d_start_s</th>\n      <th>d_end</th>\n      <th>d_end_s</th>\n      <th>dt_sec</th>\n      <th>dt_min</th>\n      <th>distance_m</th>\n      <th>oid_start</th>\n      <th>oid_end</th>\n      <th>speed_mps</th>\n      <th>speed_mph</th>\n      <th>speed_kph</th>\n      <th>speed_knt</th>\n      <th>GID</th>\n      <th>ID_2</th>\n      <th>ORIG_FID</th>\n      <th>SHAPE</th>\n    </tr>\n  </thead>\n  <tbody>\n    <tr>\n      <th>120</th>\n      <td>121</td>\n      <td>2023-05-23 09:43:05.000000</td>\n      <td>2023-05-23 09:43:05 AM</td>\n      <td>2023-05-23 09:43:20.000000</td>\n      <td>2023-05-23 09:43:20 AM</td>\n      <td>15</td>\n      <td>0.25</td>\n      <td>175.969048</td>\n      <td>318011</td>\n      <td>317746</td>\n      <td>11.73127</td>\n      <td>26.242147</td>\n      <td>42.232571</td>\n      <td>22.803712</td>\n      <td>010112</td>\n      <td>010112121</td>\n      <td>121</td>\n      <td>{\"x\": 425322.9512, \"y\": 3988475.3912000004, \"s...</td>\n    </tr>\n    <tr>\n      <th>123</th>\n      <td>124</td>\n      <td>2023-05-23 09:43:20.000000</td>\n      <td>2023-05-23 09:43:20 AM</td>\n      <td>2023-05-23 09:43:35.000002</td>\n      <td>2023-05-23 09:43:35 AM</td>\n      <td>15</td>\n      <td>0.25</td>\n      <td>252.31622</td>\n      <td>317746</td>\n      <td>317011</td>\n      <td>16.821081</td>\n      <td>37.62775</td>\n      <td>60.555893</td>\n      <td>32.697491</td>\n      <td>010112</td>\n      <td>010112124</td>\n      <td>124</td>\n      <td>{\"x\": 425241.1732999999, \"y\": 3988631.13770000...</td>\n    </tr>\n    <tr>\n      <th>126</th>\n      <td>127</td>\n      <td>2023-05-23 09:43:35.000002</td>\n      <td>2023-05-23 09:43:35 AM</td>\n      <td>2023-05-23 09:43:50.000000</td>\n      <td>2023-05-23 09:43:50 AM</td>\n      <td>14</td>\n      <td>0.233333</td>\n      <td>294.266755</td>\n      <td>317011</td>\n      <td>316746</td>\n      <td>21.019054</td>\n      <td>47.018362</td>\n      <td>75.668594</td>\n      <td>40.857678</td>\n      <td>010112</td>\n      <td>010112127</td>\n      <td>127</td>\n      <td>{\"x\": 424998.49340000004, \"y\": 3988562.3785999...</td>\n    </tr>\n    <tr>\n      <th>129</th>\n      <td>130</td>\n      <td>2023-05-23 09:43:50.000000</td>\n      <td>2023-05-23 09:43:50 AM</td>\n      <td>2023-05-23 09:44:05.000000</td>\n      <td>2023-05-23 09:44:05 AM</td>\n      <td>15</td>\n      <td>0.25</td>\n      <td>194.721218</td>\n      <td>316746</td>\n      <td>316207</td>\n      <td>12.981415</td>\n      <td>29.038645</td>\n      <td>46.733092</td>\n      <td>25.233793</td>\n      <td>010112</td>\n      <td>010112130</td>\n      <td>130</td>\n      <td>{\"x\": 424826.56900000013, \"y\": 3988323.6786, \"...</td>\n    </tr>\n    <tr>\n      <th>132</th>\n      <td>133</td>\n      <td>2023-05-23 09:44:05.000000</td>\n      <td>2023-05-23 09:44:05 AM</td>\n      <td>2023-05-23 09:44:20.000000</td>\n      <td>2023-05-23 09:44:20 AM</td>\n      <td>15</td>\n      <td>0.25</td>\n      <td>231.525945</td>\n      <td>316207</td>\n      <td>311746</td>\n      <td>15.435063</td>\n      <td>34.52731</td>\n      <td>55.566227</td>\n      <td>30.003293</td>\n      <td>010112</td>\n      <td>010112133</td>\n      <td>133</td>\n      <td>{\"x\": 424646.99230000004, \"y\": 3988398.8019999...</td>\n    </tr>\n    <tr>\n      <th>...</th>\n      <td>...</td>\n      <td>...</td>\n      <td>...</td>\n      <td>...</td>\n      <td>...</td>\n      <td>...</td>\n      <td>...</td>\n      <td>...</td>\n      <td>...</td>\n      <td>...</td>\n      <td>...</td>\n      <td>...</td>\n      <td>...</td>\n      <td>...</td>\n      <td>...</td>\n      <td>...</td>\n      <td>...</td>\n      <td>...</td>\n    </tr>\n    <tr>\n      <th>119342</th>\n      <td>123004</td>\n      <td>2023-05-30 17:03:58.000000</td>\n      <td>2023-05-30 05:03:58 PM</td>\n      <td>2023-05-30 17:04:13.000002</td>\n      <td>2023-05-30 05:04:13 PM</td>\n      <td>15</td>\n      <td>0.25</td>\n      <td>287.925486</td>\n      <td>6798</td>\n      <td>6799</td>\n      <td>19.195032</td>\n      <td>42.938136</td>\n      <td>69.102117</td>\n      <td>37.312072</td>\n      <td>Current Track: 30 MAY 2</td>\n      <td>Current Track: 30 MAY 2126042</td>\n      <td>126042</td>\n      <td>{\"x\": 398834.1743000001, \"y\": 3988251.39489999...</td>\n    </tr>\n    <tr>\n      <th>119345</th>\n      <td>123007</td>\n      <td>2023-05-30 17:04:13.000002</td>\n      <td>2023-05-30 05:04:13 PM</td>\n      <td>2023-05-30 17:04:28.000000</td>\n      <td>2023-05-30 05:04:28 PM</td>\n      <td>14</td>\n      <td>0.233333</td>\n      <td>294.047063</td>\n      <td>6799</td>\n      <td>6164</td>\n      <td>21.003362</td>\n      <td>46.98326</td>\n      <td>75.612102</td>\n      <td>40.827174</td>\n      <td>Current Track: 30 MAY 2</td>\n      <td>Current Track: 30 MAY 2126045</td>\n      <td>126045</td>\n      <td>{\"x\": 398816.4205, \"y\": 3987964.0963000003, \"s...</td>\n    </tr>\n    <tr>\n      <th>119348</th>\n      <td>123010</td>\n      <td>2023-05-30 17:04:28.000000</td>\n      <td>2023-05-30 05:04:28 PM</td>\n      <td>2023-05-30 17:04:43.000000</td>\n      <td>2023-05-30 05:04:43 PM</td>\n      <td>15</td>\n      <td>0.25</td>\n      <td>282.096477</td>\n      <td>6164</td>\n      <td>6165</td>\n      <td>18.806432</td>\n      <td>42.06886</td>\n      <td>67.703155</td>\n      <td>36.556694</td>\n      <td>Current Track: 30 MAY 2</td>\n      <td>Current Track: 30 MAY 2126048</td>\n      <td>126048</td>\n      <td>{\"x\": 398812.02660000045, \"y\": 3987670.1625999...</td>\n    </tr>\n    <tr>\n      <th>119351</th>\n      <td>123013</td>\n      <td>2023-05-30 17:04:43.000000</td>\n      <td>2023-05-30 05:04:43 PM</td>\n      <td>2023-05-30 17:04:58.000000</td>\n      <td>2023-05-30 05:04:58 PM</td>\n      <td>15</td>\n      <td>0.25</td>\n      <td>303.484176</td>\n      <td>6165</td>\n      <td>5228</td>\n      <td>20.232278</td>\n      <td>45.258393</td>\n      <td>72.836202</td>\n      <td>39.328312</td>\n      <td>Current Track: 30 MAY 2</td>\n      <td>Current Track: 30 MAY 2126051</td>\n      <td>126051</td>\n      <td>{\"x\": 398819.33550000004, \"y\": 3987388.2380999...</td>\n    </tr>\n    <tr>\n      <th>119354</th>\n      <td>123016</td>\n      <td>2023-05-30 17:04:58.000000</td>\n      <td>2023-05-30 05:04:58 PM</td>\n      <td>2023-05-30 17:05:13.000000</td>\n      <td>2023-05-30 05:05:13 PM</td>\n      <td>15</td>\n      <td>0.25</td>\n      <td>280.761414</td>\n      <td>5228</td>\n      <td>5229</td>\n      <td>18.717428</td>\n      <td>41.869762</td>\n      <td>67.382739</td>\n      <td>36.383684</td>\n      <td>Current Track: 30 MAY 2</td>\n      <td>Current Track: 30 MAY 2126054</td>\n      <td>126054</td>\n      <td>{\"x\": 398832.2775999997, \"y\": 3987085.11319999...</td>\n    </tr>\n  </tbody>\n</table>\n<p>351462 rows × 18 columns</p>\n</div>"
     },
     "execution_count": 18,
     "metadata": {},
     "output_type": "execute_result"
    }
   ],
   "source": [
    "##Parse .csv for analysis and create data labels for clarity indicating the labels for points, participant identification, and field for time\n",
    "\n",
    "processed_points_2 = os.path.join(target_gdb, \"processed_points\")\n",
    "\n",
    "df = pd.DataFrame.spatial.from_featureclass(processed_points_2)\n",
    "df.rename(columns={'OBJECTID':'FID','group_id': 'GID', 'd_start':'dtime'},inplace=True)\n",
    "\n",
    "##Convert time to proper time field format\n",
    "df['dtime'] = pd.to_datetime(df['dtime'])\n",
    "\n",
    "##Sort data by field and ID\n",
    "df.sort_values(by=['GID', 'dtime'], inplace=True)\n",
    "df\n",
    "\n",
    "##Dataframe copy\n",
    "\n",
    "seq_timedf = df.copy()\n",
    "seq_timedf"
   ],
   "metadata": {
    "collapsed": false,
    "ExecuteTime": {
     "end_time": "2024-06-09T21:23:58.762261900Z",
     "start_time": "2024-06-09T21:23:49.173137800Z"
    }
   }
  },
  {
   "cell_type": "code",
   "execution_count": 19,
   "outputs": [
    {
     "data": {
      "text/plain": "           FID                      dtime               d_start_s  \\\n120        121 2023-05-23 09:43:05.000000  2023-05-23 09:43:05 AM   \n123        124 2023-05-23 09:43:20.000000  2023-05-23 09:43:20 AM   \n126        127 2023-05-23 09:43:35.000002  2023-05-23 09:43:35 AM   \n129        130 2023-05-23 09:43:50.000000  2023-05-23 09:43:50 AM   \n132        133 2023-05-23 09:44:05.000000  2023-05-23 09:44:05 AM   \n...        ...                        ...                     ...   \n119342  123004 2023-05-30 17:03:58.000000  2023-05-30 05:03:58 PM   \n119345  123007 2023-05-30 17:04:13.000002  2023-05-30 05:04:13 PM   \n119348  123010 2023-05-30 17:04:28.000000  2023-05-30 05:04:28 PM   \n119351  123013 2023-05-30 17:04:43.000000  2023-05-30 05:04:43 PM   \n119354  123016 2023-05-30 17:04:58.000000  2023-05-30 05:04:58 PM   \n\n                            d_end                 d_end_s  dt_sec    dt_min  \\\n120    2023-05-23 09:43:20.000000  2023-05-23 09:43:20 AM      15      0.25   \n123    2023-05-23 09:43:35.000002  2023-05-23 09:43:35 AM      15      0.25   \n126    2023-05-23 09:43:50.000000  2023-05-23 09:43:50 AM      14  0.233333   \n129    2023-05-23 09:44:05.000000  2023-05-23 09:44:05 AM      15      0.25   \n132    2023-05-23 09:44:20.000000  2023-05-23 09:44:20 AM      15      0.25   \n...                           ...                     ...     ...       ...   \n119342 2023-05-30 17:04:13.000002  2023-05-30 05:04:13 PM      15      0.25   \n119345 2023-05-30 17:04:28.000000  2023-05-30 05:04:28 PM      14  0.233333   \n119348 2023-05-30 17:04:43.000000  2023-05-30 05:04:43 PM      15      0.25   \n119351 2023-05-30 17:04:58.000000  2023-05-30 05:04:58 PM      15      0.25   \n119354 2023-05-30 17:05:13.000000  2023-05-30 05:05:13 PM      15      0.25   \n\n        distance_m  oid_start  oid_end  speed_mps  speed_mph  speed_kph  \\\n120     175.969048     318011   317746   11.73127  26.242147  42.232571   \n123      252.31622     317746   317011  16.821081   37.62775  60.555893   \n126     294.266755     317011   316746  21.019054  47.018362  75.668594   \n129     194.721218     316746   316207  12.981415  29.038645  46.733092   \n132     231.525945     316207   311746  15.435063   34.52731  55.566227   \n...            ...        ...      ...        ...        ...        ...   \n119342  287.925486       6798     6799  19.195032  42.938136  69.102117   \n119345  294.047063       6799     6164  21.003362   46.98326  75.612102   \n119348  282.096477       6164     6165  18.806432   42.06886  67.703155   \n119351  303.484176       6165     5228  20.232278  45.258393  72.836202   \n119354  280.761414       5228     5229  18.717428  41.869762  67.382739   \n\n        speed_knt                      GID                           ID_2  \\\n120     22.803712                   010112                      010112121   \n123     32.697491                   010112                      010112124   \n126     40.857678                   010112                      010112127   \n129     25.233793                   010112                      010112130   \n132     30.003293                   010112                      010112133   \n...           ...                      ...                            ...   \n119342  37.312072  Current Track: 30 MAY 2  Current Track: 30 MAY 2126042   \n119345  40.827174  Current Track: 30 MAY 2  Current Track: 30 MAY 2126045   \n119348  36.556694  Current Track: 30 MAY 2  Current Track: 30 MAY 2126048   \n119351  39.328312  Current Track: 30 MAY 2  Current Track: 30 MAY 2126051   \n119354  36.383684  Current Track: 30 MAY 2  Current Track: 30 MAY 2126054   \n\n        ORIG_FID                                              SHAPE  \\\n120          121  {\"x\": 425322.9512, \"y\": 3988475.3912000004, \"s...   \n123          124  {\"x\": 425241.1732999999, \"y\": 3988631.13770000...   \n126          127  {\"x\": 424998.49340000004, \"y\": 3988562.3785999...   \n129          130  {\"x\": 424826.56900000013, \"y\": 3988323.6786, \"...   \n132          133  {\"x\": 424646.99230000004, \"y\": 3988398.8019999...   \n...          ...                                                ...   \n119342    126042  {\"x\": 398834.1743000001, \"y\": 3988251.39489999...   \n119345    126045  {\"x\": 398816.4205, \"y\": 3987964.0963000003, \"s...   \n119348    126048  {\"x\": 398812.02660000045, \"y\": 3987670.1625999...   \n119351    126051  {\"x\": 398819.33550000004, \"y\": 3987388.2380999...   \n119354    126054  {\"x\": 398832.2775999997, \"y\": 3987085.11319999...   \n\n                  GID_2                    dtime_2  \n120                   0 2023-05-23 09:43:20.000000  \n123                   0 2023-05-23 09:43:35.000002  \n126                   0 2023-05-23 09:43:50.000000  \n129                   0 2023-05-23 09:44:05.000000  \n132                   0 2023-05-23 09:44:20.000000  \n...                 ...                        ...  \n119342  Current Track:  2023-05-30 17:04:13.000002  \n119345  Current Track:  2023-05-30 17:04:28.000000  \n119348  Current Track:  2023-05-30 17:04:43.000000  \n119351  Current Track:  2023-05-30 17:04:58.000000  \n119354             <NA>                        NaT  \n\n[351462 rows x 20 columns]",
      "text/html": "<div>\n<style scoped>\n    .dataframe tbody tr th:only-of-type {\n        vertical-align: middle;\n    }\n\n    .dataframe tbody tr th {\n        vertical-align: top;\n    }\n\n    .dataframe thead th {\n        text-align: right;\n    }\n</style>\n<table border=\"1\" class=\"dataframe\">\n  <thead>\n    <tr style=\"text-align: right;\">\n      <th></th>\n      <th>FID</th>\n      <th>dtime</th>\n      <th>d_start_s</th>\n      <th>d_end</th>\n      <th>d_end_s</th>\n      <th>dt_sec</th>\n      <th>dt_min</th>\n      <th>distance_m</th>\n      <th>oid_start</th>\n      <th>oid_end</th>\n      <th>speed_mps</th>\n      <th>speed_mph</th>\n      <th>speed_kph</th>\n      <th>speed_knt</th>\n      <th>GID</th>\n      <th>ID_2</th>\n      <th>ORIG_FID</th>\n      <th>SHAPE</th>\n      <th>GID_2</th>\n      <th>dtime_2</th>\n    </tr>\n  </thead>\n  <tbody>\n    <tr>\n      <th>120</th>\n      <td>121</td>\n      <td>2023-05-23 09:43:05.000000</td>\n      <td>2023-05-23 09:43:05 AM</td>\n      <td>2023-05-23 09:43:20.000000</td>\n      <td>2023-05-23 09:43:20 AM</td>\n      <td>15</td>\n      <td>0.25</td>\n      <td>175.969048</td>\n      <td>318011</td>\n      <td>317746</td>\n      <td>11.73127</td>\n      <td>26.242147</td>\n      <td>42.232571</td>\n      <td>22.803712</td>\n      <td>010112</td>\n      <td>010112121</td>\n      <td>121</td>\n      <td>{\"x\": 425322.9512, \"y\": 3988475.3912000004, \"s...</td>\n      <td>0</td>\n      <td>2023-05-23 09:43:20.000000</td>\n    </tr>\n    <tr>\n      <th>123</th>\n      <td>124</td>\n      <td>2023-05-23 09:43:20.000000</td>\n      <td>2023-05-23 09:43:20 AM</td>\n      <td>2023-05-23 09:43:35.000002</td>\n      <td>2023-05-23 09:43:35 AM</td>\n      <td>15</td>\n      <td>0.25</td>\n      <td>252.31622</td>\n      <td>317746</td>\n      <td>317011</td>\n      <td>16.821081</td>\n      <td>37.62775</td>\n      <td>60.555893</td>\n      <td>32.697491</td>\n      <td>010112</td>\n      <td>010112124</td>\n      <td>124</td>\n      <td>{\"x\": 425241.1732999999, \"y\": 3988631.13770000...</td>\n      <td>0</td>\n      <td>2023-05-23 09:43:35.000002</td>\n    </tr>\n    <tr>\n      <th>126</th>\n      <td>127</td>\n      <td>2023-05-23 09:43:35.000002</td>\n      <td>2023-05-23 09:43:35 AM</td>\n      <td>2023-05-23 09:43:50.000000</td>\n      <td>2023-05-23 09:43:50 AM</td>\n      <td>14</td>\n      <td>0.233333</td>\n      <td>294.266755</td>\n      <td>317011</td>\n      <td>316746</td>\n      <td>21.019054</td>\n      <td>47.018362</td>\n      <td>75.668594</td>\n      <td>40.857678</td>\n      <td>010112</td>\n      <td>010112127</td>\n      <td>127</td>\n      <td>{\"x\": 424998.49340000004, \"y\": 3988562.3785999...</td>\n      <td>0</td>\n      <td>2023-05-23 09:43:50.000000</td>\n    </tr>\n    <tr>\n      <th>129</th>\n      <td>130</td>\n      <td>2023-05-23 09:43:50.000000</td>\n      <td>2023-05-23 09:43:50 AM</td>\n      <td>2023-05-23 09:44:05.000000</td>\n      <td>2023-05-23 09:44:05 AM</td>\n      <td>15</td>\n      <td>0.25</td>\n      <td>194.721218</td>\n      <td>316746</td>\n      <td>316207</td>\n      <td>12.981415</td>\n      <td>29.038645</td>\n      <td>46.733092</td>\n      <td>25.233793</td>\n      <td>010112</td>\n      <td>010112130</td>\n      <td>130</td>\n      <td>{\"x\": 424826.56900000013, \"y\": 3988323.6786, \"...</td>\n      <td>0</td>\n      <td>2023-05-23 09:44:05.000000</td>\n    </tr>\n    <tr>\n      <th>132</th>\n      <td>133</td>\n      <td>2023-05-23 09:44:05.000000</td>\n      <td>2023-05-23 09:44:05 AM</td>\n      <td>2023-05-23 09:44:20.000000</td>\n      <td>2023-05-23 09:44:20 AM</td>\n      <td>15</td>\n      <td>0.25</td>\n      <td>231.525945</td>\n      <td>316207</td>\n      <td>311746</td>\n      <td>15.435063</td>\n      <td>34.52731</td>\n      <td>55.566227</td>\n      <td>30.003293</td>\n      <td>010112</td>\n      <td>010112133</td>\n      <td>133</td>\n      <td>{\"x\": 424646.99230000004, \"y\": 3988398.8019999...</td>\n      <td>0</td>\n      <td>2023-05-23 09:44:20.000000</td>\n    </tr>\n    <tr>\n      <th>...</th>\n      <td>...</td>\n      <td>...</td>\n      <td>...</td>\n      <td>...</td>\n      <td>...</td>\n      <td>...</td>\n      <td>...</td>\n      <td>...</td>\n      <td>...</td>\n      <td>...</td>\n      <td>...</td>\n      <td>...</td>\n      <td>...</td>\n      <td>...</td>\n      <td>...</td>\n      <td>...</td>\n      <td>...</td>\n      <td>...</td>\n      <td>...</td>\n      <td>...</td>\n    </tr>\n    <tr>\n      <th>119342</th>\n      <td>123004</td>\n      <td>2023-05-30 17:03:58.000000</td>\n      <td>2023-05-30 05:03:58 PM</td>\n      <td>2023-05-30 17:04:13.000002</td>\n      <td>2023-05-30 05:04:13 PM</td>\n      <td>15</td>\n      <td>0.25</td>\n      <td>287.925486</td>\n      <td>6798</td>\n      <td>6799</td>\n      <td>19.195032</td>\n      <td>42.938136</td>\n      <td>69.102117</td>\n      <td>37.312072</td>\n      <td>Current Track: 30 MAY 2</td>\n      <td>Current Track: 30 MAY 2126042</td>\n      <td>126042</td>\n      <td>{\"x\": 398834.1743000001, \"y\": 3988251.39489999...</td>\n      <td>Current Track:</td>\n      <td>2023-05-30 17:04:13.000002</td>\n    </tr>\n    <tr>\n      <th>119345</th>\n      <td>123007</td>\n      <td>2023-05-30 17:04:13.000002</td>\n      <td>2023-05-30 05:04:13 PM</td>\n      <td>2023-05-30 17:04:28.000000</td>\n      <td>2023-05-30 05:04:28 PM</td>\n      <td>14</td>\n      <td>0.233333</td>\n      <td>294.047063</td>\n      <td>6799</td>\n      <td>6164</td>\n      <td>21.003362</td>\n      <td>46.98326</td>\n      <td>75.612102</td>\n      <td>40.827174</td>\n      <td>Current Track: 30 MAY 2</td>\n      <td>Current Track: 30 MAY 2126045</td>\n      <td>126045</td>\n      <td>{\"x\": 398816.4205, \"y\": 3987964.0963000003, \"s...</td>\n      <td>Current Track:</td>\n      <td>2023-05-30 17:04:28.000000</td>\n    </tr>\n    <tr>\n      <th>119348</th>\n      <td>123010</td>\n      <td>2023-05-30 17:04:28.000000</td>\n      <td>2023-05-30 05:04:28 PM</td>\n      <td>2023-05-30 17:04:43.000000</td>\n      <td>2023-05-30 05:04:43 PM</td>\n      <td>15</td>\n      <td>0.25</td>\n      <td>282.096477</td>\n      <td>6164</td>\n      <td>6165</td>\n      <td>18.806432</td>\n      <td>42.06886</td>\n      <td>67.703155</td>\n      <td>36.556694</td>\n      <td>Current Track: 30 MAY 2</td>\n      <td>Current Track: 30 MAY 2126048</td>\n      <td>126048</td>\n      <td>{\"x\": 398812.02660000045, \"y\": 3987670.1625999...</td>\n      <td>Current Track:</td>\n      <td>2023-05-30 17:04:43.000000</td>\n    </tr>\n    <tr>\n      <th>119351</th>\n      <td>123013</td>\n      <td>2023-05-30 17:04:43.000000</td>\n      <td>2023-05-30 05:04:43 PM</td>\n      <td>2023-05-30 17:04:58.000000</td>\n      <td>2023-05-30 05:04:58 PM</td>\n      <td>15</td>\n      <td>0.25</td>\n      <td>303.484176</td>\n      <td>6165</td>\n      <td>5228</td>\n      <td>20.232278</td>\n      <td>45.258393</td>\n      <td>72.836202</td>\n      <td>39.328312</td>\n      <td>Current Track: 30 MAY 2</td>\n      <td>Current Track: 30 MAY 2126051</td>\n      <td>126051</td>\n      <td>{\"x\": 398819.33550000004, \"y\": 3987388.2380999...</td>\n      <td>Current Track:</td>\n      <td>2023-05-30 17:04:58.000000</td>\n    </tr>\n    <tr>\n      <th>119354</th>\n      <td>123016</td>\n      <td>2023-05-30 17:04:58.000000</td>\n      <td>2023-05-30 05:04:58 PM</td>\n      <td>2023-05-30 17:05:13.000000</td>\n      <td>2023-05-30 05:05:13 PM</td>\n      <td>15</td>\n      <td>0.25</td>\n      <td>280.761414</td>\n      <td>5228</td>\n      <td>5229</td>\n      <td>18.717428</td>\n      <td>41.869762</td>\n      <td>67.382739</td>\n      <td>36.383684</td>\n      <td>Current Track: 30 MAY 2</td>\n      <td>Current Track: 30 MAY 2126054</td>\n      <td>126054</td>\n      <td>{\"x\": 398832.2775999997, \"y\": 3987085.11319999...</td>\n      <td>&lt;NA&gt;</td>\n      <td>NaT</td>\n    </tr>\n  </tbody>\n</table>\n<p>351462 rows × 20 columns</p>\n</div>"
     },
     "execution_count": 19,
     "metadata": {},
     "output_type": "execute_result"
    }
   ],
   "source": [
    "##Use the shift command to record the subsequently recorded point for each point from each participant\n",
    "\n",
    "seq_timedf.sort_values(by=['GID', 'dtime'], inplace=True)\n",
    "seq_timedf[['GID_2', 'dtime_2']] = seq_timedf.groupby('GID')[['GID', 'dtime']].shift(-1)\n",
    "seq_timedf['GID_2'] = seq_timedf['GID_2'].astype(str).str.split('.0')\n",
    "seq_timedf['GID_2'] = seq_timedf['GID_2'].str.get(0)\n",
    "seq_timedf"
   ],
   "metadata": {
    "collapsed": false,
    "ExecuteTime": {
     "end_time": "2024-06-09T21:24:00.003975200Z",
     "start_time": "2024-06-09T21:23:58.767170900Z"
    }
   }
  },
  {
   "cell_type": "code",
   "execution_count": 20,
   "outputs": [
    {
     "data": {
      "text/plain": "           FID                      dtime               d_start_s  \\\n120        121 2023-05-23 09:43:05.000000  2023-05-23 09:43:05 AM   \n123        124 2023-05-23 09:43:20.000000  2023-05-23 09:43:20 AM   \n126        127 2023-05-23 09:43:35.000002  2023-05-23 09:43:35 AM   \n129        130 2023-05-23 09:43:50.000000  2023-05-23 09:43:50 AM   \n132        133 2023-05-23 09:44:05.000000  2023-05-23 09:44:05 AM   \n...        ...                        ...                     ...   \n119342  123004 2023-05-30 17:03:58.000000  2023-05-30 05:03:58 PM   \n119345  123007 2023-05-30 17:04:13.000002  2023-05-30 05:04:13 PM   \n119348  123010 2023-05-30 17:04:28.000000  2023-05-30 05:04:28 PM   \n119351  123013 2023-05-30 17:04:43.000000  2023-05-30 05:04:43 PM   \n119354  123016 2023-05-30 17:04:58.000000  2023-05-30 05:04:58 PM   \n\n                            d_end                 d_end_s  dt_sec    dt_min  \\\n120    2023-05-23 09:43:20.000000  2023-05-23 09:43:20 AM      15      0.25   \n123    2023-05-23 09:43:35.000002  2023-05-23 09:43:35 AM      15      0.25   \n126    2023-05-23 09:43:50.000000  2023-05-23 09:43:50 AM      14  0.233333   \n129    2023-05-23 09:44:05.000000  2023-05-23 09:44:05 AM      15      0.25   \n132    2023-05-23 09:44:20.000000  2023-05-23 09:44:20 AM      15      0.25   \n...                           ...                     ...     ...       ...   \n119342 2023-05-30 17:04:13.000002  2023-05-30 05:04:13 PM      15      0.25   \n119345 2023-05-30 17:04:28.000000  2023-05-30 05:04:28 PM      14  0.233333   \n119348 2023-05-30 17:04:43.000000  2023-05-30 05:04:43 PM      15      0.25   \n119351 2023-05-30 17:04:58.000000  2023-05-30 05:04:58 PM      15      0.25   \n119354 2023-05-30 17:05:13.000000  2023-05-30 05:05:13 PM      15      0.25   \n\n        distance_m  oid_start  oid_end  ...  speed_kph  speed_knt  \\\n120     175.969048     318011   317746  ...  42.232571  22.803712   \n123      252.31622     317746   317011  ...  60.555893  32.697491   \n126     294.266755     317011   316746  ...  75.668594  40.857678   \n129     194.721218     316746   316207  ...  46.733092  25.233793   \n132     231.525945     316207   311746  ...  55.566227  30.003293   \n...            ...        ...      ...  ...        ...        ...   \n119342  287.925486       6798     6799  ...  69.102117  37.312072   \n119345  294.047063       6799     6164  ...  75.612102  40.827174   \n119348  282.096477       6164     6165  ...  67.703155  36.556694   \n119351  303.484176       6165     5228  ...  72.836202  39.328312   \n119354  280.761414       5228     5229  ...  67.382739  36.383684   \n\n                            GID                           ID_2 ORIG_FID  \\\n120                      010112                      010112121      121   \n123                      010112                      010112124      124   \n126                      010112                      010112127      127   \n129                      010112                      010112130      130   \n132                      010112                      010112133      133   \n...                         ...                            ...      ...   \n119342  Current Track: 30 MAY 2  Current Track: 30 MAY 2126042   126042   \n119345  Current Track: 30 MAY 2  Current Track: 30 MAY 2126045   126045   \n119348  Current Track: 30 MAY 2  Current Track: 30 MAY 2126048   126048   \n119351  Current Track: 30 MAY 2  Current Track: 30 MAY 2126051   126051   \n119354  Current Track: 30 MAY 2  Current Track: 30 MAY 2126054   126054   \n\n                                                    SHAPE  \\\n120     {\"x\": 425322.9512, \"y\": 3988475.3912000004, \"s...   \n123     {\"x\": 425241.1732999999, \"y\": 3988631.13770000...   \n126     {\"x\": 424998.49340000004, \"y\": 3988562.3785999...   \n129     {\"x\": 424826.56900000013, \"y\": 3988323.6786, \"...   \n132     {\"x\": 424646.99230000004, \"y\": 3988398.8019999...   \n...                                                   ...   \n119342  {\"x\": 398834.1743000001, \"y\": 3988251.39489999...   \n119345  {\"x\": 398816.4205, \"y\": 3987964.0963000003, \"s...   \n119348  {\"x\": 398812.02660000045, \"y\": 3987670.1625999...   \n119351  {\"x\": 398819.33550000004, \"y\": 3987388.2380999...   \n119354  {\"x\": 398832.2775999997, \"y\": 3987085.11319999...   \n\n                            GID_2                    dtime_2  \\\n120                      010112.0 2023-05-23 09:43:20.000000   \n123                      010112.0 2023-05-23 09:43:35.000002   \n126                      010112.0 2023-05-23 09:43:50.000000   \n129                      010112.0 2023-05-23 09:44:05.000000   \n132                      010112.0 2023-05-23 09:44:20.000000   \n...                           ...                        ...   \n119342  Current Track: 30 MAY 2.0 2023-05-30 17:04:13.000002   \n119345  Current Track: 30 MAY 2.0 2023-05-30 17:04:28.000000   \n119348  Current Track: 30 MAY 2.0 2023-05-30 17:04:43.000000   \n119351  Current Track: 30 MAY 2.0 2023-05-30 17:04:58.000000   \n119354  Current Track: 30 MAY 2.0                        NaT   \n\n                POI_timedelta POI_timedelta_filt  \n120           0 days 00:00:15                  0  \n123    0 days 00:00:15.000002                  0  \n126    0 days 00:00:14.999998                  0  \n129           0 days 00:00:15                  0  \n132           0 days 00:00:15                  0  \n...                       ...                ...  \n119342 0 days 00:00:15.000002                  0  \n119345 0 days 00:00:14.999998                  0  \n119348        0 days 00:00:15                  0  \n119351        0 days 00:00:15                  0  \n119354                    NaT                  0  \n\n[351462 rows x 22 columns]",
      "text/html": "<div>\n<style scoped>\n    .dataframe tbody tr th:only-of-type {\n        vertical-align: middle;\n    }\n\n    .dataframe tbody tr th {\n        vertical-align: top;\n    }\n\n    .dataframe thead th {\n        text-align: right;\n    }\n</style>\n<table border=\"1\" class=\"dataframe\">\n  <thead>\n    <tr style=\"text-align: right;\">\n      <th></th>\n      <th>FID</th>\n      <th>dtime</th>\n      <th>d_start_s</th>\n      <th>d_end</th>\n      <th>d_end_s</th>\n      <th>dt_sec</th>\n      <th>dt_min</th>\n      <th>distance_m</th>\n      <th>oid_start</th>\n      <th>oid_end</th>\n      <th>...</th>\n      <th>speed_kph</th>\n      <th>speed_knt</th>\n      <th>GID</th>\n      <th>ID_2</th>\n      <th>ORIG_FID</th>\n      <th>SHAPE</th>\n      <th>GID_2</th>\n      <th>dtime_2</th>\n      <th>POI_timedelta</th>\n      <th>POI_timedelta_filt</th>\n    </tr>\n  </thead>\n  <tbody>\n    <tr>\n      <th>120</th>\n      <td>121</td>\n      <td>2023-05-23 09:43:05.000000</td>\n      <td>2023-05-23 09:43:05 AM</td>\n      <td>2023-05-23 09:43:20.000000</td>\n      <td>2023-05-23 09:43:20 AM</td>\n      <td>15</td>\n      <td>0.25</td>\n      <td>175.969048</td>\n      <td>318011</td>\n      <td>317746</td>\n      <td>...</td>\n      <td>42.232571</td>\n      <td>22.803712</td>\n      <td>010112</td>\n      <td>010112121</td>\n      <td>121</td>\n      <td>{\"x\": 425322.9512, \"y\": 3988475.3912000004, \"s...</td>\n      <td>010112.0</td>\n      <td>2023-05-23 09:43:20.000000</td>\n      <td>0 days 00:00:15</td>\n      <td>0</td>\n    </tr>\n    <tr>\n      <th>123</th>\n      <td>124</td>\n      <td>2023-05-23 09:43:20.000000</td>\n      <td>2023-05-23 09:43:20 AM</td>\n      <td>2023-05-23 09:43:35.000002</td>\n      <td>2023-05-23 09:43:35 AM</td>\n      <td>15</td>\n      <td>0.25</td>\n      <td>252.31622</td>\n      <td>317746</td>\n      <td>317011</td>\n      <td>...</td>\n      <td>60.555893</td>\n      <td>32.697491</td>\n      <td>010112</td>\n      <td>010112124</td>\n      <td>124</td>\n      <td>{\"x\": 425241.1732999999, \"y\": 3988631.13770000...</td>\n      <td>010112.0</td>\n      <td>2023-05-23 09:43:35.000002</td>\n      <td>0 days 00:00:15.000002</td>\n      <td>0</td>\n    </tr>\n    <tr>\n      <th>126</th>\n      <td>127</td>\n      <td>2023-05-23 09:43:35.000002</td>\n      <td>2023-05-23 09:43:35 AM</td>\n      <td>2023-05-23 09:43:50.000000</td>\n      <td>2023-05-23 09:43:50 AM</td>\n      <td>14</td>\n      <td>0.233333</td>\n      <td>294.266755</td>\n      <td>317011</td>\n      <td>316746</td>\n      <td>...</td>\n      <td>75.668594</td>\n      <td>40.857678</td>\n      <td>010112</td>\n      <td>010112127</td>\n      <td>127</td>\n      <td>{\"x\": 424998.49340000004, \"y\": 3988562.3785999...</td>\n      <td>010112.0</td>\n      <td>2023-05-23 09:43:50.000000</td>\n      <td>0 days 00:00:14.999998</td>\n      <td>0</td>\n    </tr>\n    <tr>\n      <th>129</th>\n      <td>130</td>\n      <td>2023-05-23 09:43:50.000000</td>\n      <td>2023-05-23 09:43:50 AM</td>\n      <td>2023-05-23 09:44:05.000000</td>\n      <td>2023-05-23 09:44:05 AM</td>\n      <td>15</td>\n      <td>0.25</td>\n      <td>194.721218</td>\n      <td>316746</td>\n      <td>316207</td>\n      <td>...</td>\n      <td>46.733092</td>\n      <td>25.233793</td>\n      <td>010112</td>\n      <td>010112130</td>\n      <td>130</td>\n      <td>{\"x\": 424826.56900000013, \"y\": 3988323.6786, \"...</td>\n      <td>010112.0</td>\n      <td>2023-05-23 09:44:05.000000</td>\n      <td>0 days 00:00:15</td>\n      <td>0</td>\n    </tr>\n    <tr>\n      <th>132</th>\n      <td>133</td>\n      <td>2023-05-23 09:44:05.000000</td>\n      <td>2023-05-23 09:44:05 AM</td>\n      <td>2023-05-23 09:44:20.000000</td>\n      <td>2023-05-23 09:44:20 AM</td>\n      <td>15</td>\n      <td>0.25</td>\n      <td>231.525945</td>\n      <td>316207</td>\n      <td>311746</td>\n      <td>...</td>\n      <td>55.566227</td>\n      <td>30.003293</td>\n      <td>010112</td>\n      <td>010112133</td>\n      <td>133</td>\n      <td>{\"x\": 424646.99230000004, \"y\": 3988398.8019999...</td>\n      <td>010112.0</td>\n      <td>2023-05-23 09:44:20.000000</td>\n      <td>0 days 00:00:15</td>\n      <td>0</td>\n    </tr>\n    <tr>\n      <th>...</th>\n      <td>...</td>\n      <td>...</td>\n      <td>...</td>\n      <td>...</td>\n      <td>...</td>\n      <td>...</td>\n      <td>...</td>\n      <td>...</td>\n      <td>...</td>\n      <td>...</td>\n      <td>...</td>\n      <td>...</td>\n      <td>...</td>\n      <td>...</td>\n      <td>...</td>\n      <td>...</td>\n      <td>...</td>\n      <td>...</td>\n      <td>...</td>\n      <td>...</td>\n      <td>...</td>\n    </tr>\n    <tr>\n      <th>119342</th>\n      <td>123004</td>\n      <td>2023-05-30 17:03:58.000000</td>\n      <td>2023-05-30 05:03:58 PM</td>\n      <td>2023-05-30 17:04:13.000002</td>\n      <td>2023-05-30 05:04:13 PM</td>\n      <td>15</td>\n      <td>0.25</td>\n      <td>287.925486</td>\n      <td>6798</td>\n      <td>6799</td>\n      <td>...</td>\n      <td>69.102117</td>\n      <td>37.312072</td>\n      <td>Current Track: 30 MAY 2</td>\n      <td>Current Track: 30 MAY 2126042</td>\n      <td>126042</td>\n      <td>{\"x\": 398834.1743000001, \"y\": 3988251.39489999...</td>\n      <td>Current Track: 30 MAY 2.0</td>\n      <td>2023-05-30 17:04:13.000002</td>\n      <td>0 days 00:00:15.000002</td>\n      <td>0</td>\n    </tr>\n    <tr>\n      <th>119345</th>\n      <td>123007</td>\n      <td>2023-05-30 17:04:13.000002</td>\n      <td>2023-05-30 05:04:13 PM</td>\n      <td>2023-05-30 17:04:28.000000</td>\n      <td>2023-05-30 05:04:28 PM</td>\n      <td>14</td>\n      <td>0.233333</td>\n      <td>294.047063</td>\n      <td>6799</td>\n      <td>6164</td>\n      <td>...</td>\n      <td>75.612102</td>\n      <td>40.827174</td>\n      <td>Current Track: 30 MAY 2</td>\n      <td>Current Track: 30 MAY 2126045</td>\n      <td>126045</td>\n      <td>{\"x\": 398816.4205, \"y\": 3987964.0963000003, \"s...</td>\n      <td>Current Track: 30 MAY 2.0</td>\n      <td>2023-05-30 17:04:28.000000</td>\n      <td>0 days 00:00:14.999998</td>\n      <td>0</td>\n    </tr>\n    <tr>\n      <th>119348</th>\n      <td>123010</td>\n      <td>2023-05-30 17:04:28.000000</td>\n      <td>2023-05-30 05:04:28 PM</td>\n      <td>2023-05-30 17:04:43.000000</td>\n      <td>2023-05-30 05:04:43 PM</td>\n      <td>15</td>\n      <td>0.25</td>\n      <td>282.096477</td>\n      <td>6164</td>\n      <td>6165</td>\n      <td>...</td>\n      <td>67.703155</td>\n      <td>36.556694</td>\n      <td>Current Track: 30 MAY 2</td>\n      <td>Current Track: 30 MAY 2126048</td>\n      <td>126048</td>\n      <td>{\"x\": 398812.02660000045, \"y\": 3987670.1625999...</td>\n      <td>Current Track: 30 MAY 2.0</td>\n      <td>2023-05-30 17:04:43.000000</td>\n      <td>0 days 00:00:15</td>\n      <td>0</td>\n    </tr>\n    <tr>\n      <th>119351</th>\n      <td>123013</td>\n      <td>2023-05-30 17:04:43.000000</td>\n      <td>2023-05-30 05:04:43 PM</td>\n      <td>2023-05-30 17:04:58.000000</td>\n      <td>2023-05-30 05:04:58 PM</td>\n      <td>15</td>\n      <td>0.25</td>\n      <td>303.484176</td>\n      <td>6165</td>\n      <td>5228</td>\n      <td>...</td>\n      <td>72.836202</td>\n      <td>39.328312</td>\n      <td>Current Track: 30 MAY 2</td>\n      <td>Current Track: 30 MAY 2126051</td>\n      <td>126051</td>\n      <td>{\"x\": 398819.33550000004, \"y\": 3987388.2380999...</td>\n      <td>Current Track: 30 MAY 2.0</td>\n      <td>2023-05-30 17:04:58.000000</td>\n      <td>0 days 00:00:15</td>\n      <td>0</td>\n    </tr>\n    <tr>\n      <th>119354</th>\n      <td>123016</td>\n      <td>2023-05-30 17:04:58.000000</td>\n      <td>2023-05-30 05:04:58 PM</td>\n      <td>2023-05-30 17:05:13.000000</td>\n      <td>2023-05-30 05:05:13 PM</td>\n      <td>15</td>\n      <td>0.25</td>\n      <td>280.761414</td>\n      <td>5228</td>\n      <td>5229</td>\n      <td>...</td>\n      <td>67.382739</td>\n      <td>36.383684</td>\n      <td>Current Track: 30 MAY 2</td>\n      <td>Current Track: 30 MAY 2126054</td>\n      <td>126054</td>\n      <td>{\"x\": 398832.2775999997, \"y\": 3987085.11319999...</td>\n      <td>Current Track: 30 MAY 2.0</td>\n      <td>NaT</td>\n      <td>NaT</td>\n      <td>0</td>\n    </tr>\n  </tbody>\n</table>\n<p>351462 rows × 22 columns</p>\n</div>"
     },
     "execution_count": 20,
     "metadata": {},
     "output_type": "execute_result"
    }
   ],
   "source": [
    "##Identify a length of time between points that is likely to have occurred because of error, manually readjusting based on the subsequent steps until you consistently stop identifying errors. In our case, this was 16 hours.\n",
    "\n",
    "seq_timedf2 = seq_timedf.copy()\n",
    "seq_timedf2['POI_timedelta'] = seq_timedf2['dtime_2'] - seq_timedf2['dtime']\n",
    "seq_time_filt = seq_timedf2['POI_timedelta'] > '0 days 16:00:00'\n",
    "\n",
    "##Createa field to serve as a filter to identify when this occurs for each recorded point\n",
    "seq_timedf2['POI_timedelta_filt'] = seq_time_filt\n",
    "seq_timedf2['POI_timedelta_filt'] = seq_timedf2['POI_timedelta_filt'].astype(int)\n",
    "seq_timedf2['POI_timedelta_filt'] = seq_timedf2.groupby('GID')['POI_timedelta_filt'].cumsum()\n",
    "seq_timedf2['GID_2'] = seq_timedf2['GID'].astype(str)+'.'+seq_timedf2['POI_timedelta_filt'].astype(str)\n",
    "seq_timedf2"
   ],
   "metadata": {
    "collapsed": false,
    "ExecuteTime": {
     "end_time": "2024-06-09T21:24:01.044685500Z",
     "start_time": "2024-06-09T21:24:00.009370200Z"
    }
   }
  },
  {
   "cell_type": "code",
   "execution_count": 21,
   "outputs": [
    {
     "data": {
      "text/plain": "           FID                      dtime               d_start_s  \\\n34407    36425 2023-05-24 07:57:32.000000  2023-05-24 07:57:32 AM   \n16102    16530 2023-05-23 15:09:04.000000  2023-05-23 03:09:04 PM   \n25033    25836 2023-05-23 18:40:22.000000  2023-05-23 06:40:22 PM   \n1661      1672 2023-05-23 10:47:21.000000  2023-05-23 10:47:21 AM   \n80439    83858 2023-05-28 17:38:28.000000  2023-05-28 05:38:28 PM   \n75584    78874 2023-05-28 15:01:17.000000  2023-05-28 03:01:17 PM   \n132517  136283 2023-06-03 16:40:42.000000  2023-06-03 04:40:42 PM   \n186663  192997 2023-06-08 16:12:11.000002  2023-06-08 04:12:11 PM   \n261136  268081 2023-06-14 16:41:37.000000  2023-06-14 04:41:37 PM   \n247477  253936 2023-06-14 12:00:20.000002  2023-06-14 12:00:20 PM   \n252990  259571 2023-06-14 13:29:08.000000  2023-06-14 01:29:08 PM   \n259735  266614 2023-06-14 15:56:04.000000  2023-06-14 03:56:04 PM   \n251298  257849 2023-06-14 13:00:49.000000  2023-06-14 01:00:49 PM   \n248871  255370 2023-06-14 12:21:27.000000  2023-06-14 12:21:27 PM   \n247521  253981 2023-06-14 12:00:59.000000  2023-06-14 12:00:59 PM   \n265129  272133 2023-06-14 19:07:18.000000  2023-06-14 07:07:18 PM   \n257257  263984 2023-06-14 14:55:21.000000  2023-06-14 02:55:21 PM   \n258001  264775 2023-06-14 15:12:53.000002  2023-06-14 03:12:53 PM   \n264788  271785 2023-06-14 18:52:15.000000  2023-06-14 06:52:15 PM   \n234397  240815 2023-06-10 10:28:00.000000  2023-06-10 10:28:00 AM   \n340473  348611 2023-06-22 14:38:49.000000  2023-06-22 02:38:49 PM   \n343202  351587 2023-06-22 17:02:09.000000  2023-06-22 05:02:09 PM   \n\n                            d_end                 d_end_s  dt_sec    dt_min  \\\n34407  2023-05-24 07:57:47.000000  2023-05-24 07:57:47 AM      15      0.25   \n16102  2023-05-23 15:09:19.000000  2023-05-23 03:09:19 PM      15      0.25   \n25033  2023-05-23 18:40:40.000000  2023-05-23 06:40:40 PM      18       0.3   \n1661   2023-05-23 10:47:36.000000  2023-05-23 10:47:36 AM      15      0.25   \n80439  2023-05-28 17:38:39.000000  2023-05-28 05:38:39 PM      11  0.183333   \n75584  2023-05-28 15:01:32.000000  2023-05-28 03:01:32 PM      15      0.25   \n132517 2023-06-03 16:40:57.000000  2023-06-03 04:40:57 PM      15      0.25   \n186663 2023-06-08 16:12:26.000000  2023-06-08 04:12:26 PM      14  0.233333   \n261136 2023-06-14 16:41:52.000000  2023-06-14 04:41:52 PM      15      0.25   \n247477 2023-06-14 12:00:35.000000  2023-06-14 12:00:35 PM      14  0.233333   \n252990 2023-06-14 13:29:23.000000  2023-06-14 01:29:23 PM      15      0.25   \n259735 2023-06-14 15:56:19.000002  2023-06-14 03:56:19 PM      15      0.25   \n251298 2023-06-14 13:01:04.000002  2023-06-14 01:01:04 PM      15      0.25   \n248871 2023-06-14 12:21:42.000000  2023-06-14 12:21:42 PM      15      0.25   \n247521 2023-06-14 12:01:14.000000  2023-06-14 12:01:14 PM      15      0.25   \n265129 2023-06-14 19:07:33.000000  2023-06-14 07:07:33 PM      15      0.25   \n257257 2023-06-14 14:55:36.000000  2023-06-14 02:55:36 PM      15      0.25   \n258001 2023-06-14 15:13:08.000000  2023-06-14 03:13:08 PM      14  0.233333   \n264788 2023-06-14 18:52:30.000000  2023-06-14 06:52:30 PM      15      0.25   \n234397 2023-06-10 10:28:15.000000  2023-06-10 10:28:15 AM      15      0.25   \n340473 2023-06-22 14:39:04.000000  2023-06-22 02:39:04 PM      15      0.25   \n343202 2023-06-22 17:02:24.000000  2023-06-22 05:02:24 PM      15      0.25   \n\n        distance_m  oid_start  oid_end  ...  speed_kph  speed_knt  \\\n34407     0.175203     127008   127009  ...   0.042049   0.022704   \n16102   275.858711      97025    97026  ...  66.206091  35.748346   \n25033     9.733768     137761   137011  ...   1.946754    1.05116   \n1661     34.165912     281975   281976  ...   8.199819   4.427538   \n80439   187.457698      97124    97125  ...  61.349792  33.126161   \n75584   309.265574      97409    97129  ...  74.223738   40.07752   \n132517   291.62944      97497    97142  ...  69.991066  37.792065   \n186663  307.911854      97631    97160  ...  79.177334  42.752241   \n261136   58.405264     317919   317920  ...  14.017263   7.568699   \n247477  317.228095       5345     5346  ...  81.572939  44.045761   \n252990  296.601156       5347     5348  ...  71.184277  38.436346   \n259735  223.705958      97750    97751  ...   53.68943  28.989906   \n251298  335.436255       5358     5359  ...  80.504701  43.468961   \n248871  330.212309       5360     5361  ...  79.250954  42.791993   \n247521  395.358395       6325     5366  ...  94.886015  51.234231   \n265129  415.773667       6334     5376  ...   99.78568  53.879832   \n257257   166.92508     317545   317546  ...  40.062019   21.63171   \n258001   97.632066     318559   317551  ...  25.105388  13.555794   \n264788  341.577967       6341     5383  ...  81.978712  44.264861   \n234397  100.487204     318569   317952  ...  24.116929   13.02207   \n340473  279.989201       5545     5546  ...  67.197408  36.283614   \n343202  295.932619       5558     5559  ...  71.023829  38.349711   \n\n                            GID                           ID_2 ORIG_FID  \\\n34407                    010812                    01081236451    36451   \n16102                    015012                    01501216544    16544   \n25033                    015512                    01551225861    25861   \n1661                     016712                     0167121672     1672   \n80439                    055522                    05552285196    85196   \n75584                    059512                    05951279254    79254   \n132517                   091112                   091112139328   139328   \n186663                   131712                   131712196082   196082   \n261136                   170912                   170912271221   271221   \n247477                   171712                   171712257049   257049   \n252990                   172012                   172012262693   262693   \n259735                   172112                   172112269747   269747   \n251298                   172312                   172312260969   260969   \n248871                   172412                   172412258485   258485   \n247521                   175112                   175112257095   257095   \n265129                   175812                   175812275278   275278   \n257257                   176312                   176312267114   267114   \n258001                   177012                   177012267905   267905   \n264788                   179812                   179812274929   274929   \n234397                   179912                   179912243912   243912   \n340473                   231712                   231712351811   351811   \n343202  Current Track: 22 JUN 2  Current Track: 22 JUN 2354789   354789   \n\n                                                    SHAPE  \\\n34407   {\"x\": 399288.4274000004, \"y\": 3990139.48399999...   \n16102   {\"x\": 398945.14630000014, \"y\": 3985072.8684, \"...   \n25033   {\"x\": 399509.0744000003, \"y\": 3990058.9836, \"s...   \n1661    {\"x\": 412952.9735000003, \"y\": 3980319.8103, \"s...   \n80439   {\"x\": 398940.4781999998, \"y\": 3985005.9911, \"s...   \n75584   {\"x\": 398957.8125, \"y\": 3985174.9508999996, \"s...   \n132517  {\"x\": 398966.62600000016, \"y\": 3985243.603, \"s...   \n186663  {\"x\": 398967.5290000001, \"y\": 3985121.78160000...   \n261136  {\"x\": 425279.1261, \"y\": 3988629.2709, \"spatial...   \n247477  {\"x\": 398821.19770000037, \"y\": 3987343.3882, \"...   \n252990  {\"x\": 398830.63910000026, \"y\": 3987189.3598999...   \n259735  {\"x\": 399040.13239999954, \"y\": 3986145.2567999...   \n251298  {\"x\": 398827.0114000002, \"y\": 3987350.37879999...   \n248871  {\"x\": 398824.4606999997, \"y\": 3987263.4385, \"s...   \n247521  {\"x\": 398819.60199999996, \"y\": 3987410.7004000...   \n265129  {\"x\": 398820.8487, \"y\": 3987497.218699999, \"sp...   \n257257  {\"x\": 425110.96640000027, \"y\": 3988611.1237000...   \n258001  {\"x\": 425306.42789999954, \"y\": 3988675.7784, \"...   \n264788  {\"x\": 398820.1917000003, \"y\": 3987400.26060000...   \n234397  {\"x\": 425303.6741000004, \"y\": 3988660.10720000...   \n340473  {\"x\": 398830.30319999997, \"y\": 3987132.0380000...   \n343202  {\"x\": 398822.0549999997, \"y\": 3987316.84940000...   \n\n                            GID_2                    dtime_2  \\\n34407                    010812.1 2023-05-25 08:02:54.000000   \n16102                    015012.1 2023-05-24 11:42:19.000002   \n25033                    015512.1 2023-05-24 12:19:30.000000   \n1661                     016712.1 2023-05-24 10:43:06.000000   \n80439                    055522.1 2023-05-29 17:40:10.000002   \n75584                    059512.1 2023-05-29 17:40:17.000000   \n132517                   091112.1 2023-06-04 11:06:01.000000   \n186663                   131712.1 2023-06-09 12:22:46.000000   \n261136                   170912.1 2023-06-15 13:04:53.000000   \n247477                   171712.1 2023-06-15 14:32:19.000000   \n252990                   172012.1 2023-06-15 14:32:24.000000   \n259735                   172112.1 2023-06-15 14:32:19.000000   \n251298                   172312.1 2023-06-15 14:32:20.000000   \n248871                   172412.1 2023-06-15 06:50:37.000000   \n247521                   175112.1 2023-06-15 14:32:23.000000   \n265129                   175812.1 2023-06-15 14:32:18.000000   \n257257                   176312.1 2023-06-15 13:04:51.000000   \n258001                   177012.1 2023-06-15 13:04:53.000000   \n264788                   179812.1 2023-06-15 14:32:17.000000   \n234397                   179912.1 2023-06-14 09:19:38.000000   \n340473                   231712.1 2023-06-23 11:28:49.000000   \n343202  Current Track: 22 JUN 2.1 2023-06-24 11:16:53.000000   \n\n                POI_timedelta POI_timedelta_filt  \n34407         1 days 00:05:22                  1  \n16102  0 days 20:33:15.000002                  1  \n25033         0 days 17:39:08                  1  \n1661          0 days 23:55:45                  1  \n80439  1 days 00:01:42.000002                  1  \n75584         1 days 02:39:00                  1  \n132517        0 days 18:25:19                  1  \n186663 0 days 20:10:34.999998                  1  \n261136        0 days 20:23:16                  1  \n247477 1 days 02:31:58.999998                  1  \n252990        1 days 01:03:16                  1  \n259735        0 days 22:36:15                  1  \n251298        1 days 01:31:31                  1  \n248871        0 days 18:29:10                  1  \n247521        1 days 02:31:24                  1  \n265129        0 days 19:25:00                  1  \n257257        0 days 22:09:30                  1  \n258001 0 days 21:51:59.999998                  1  \n264788        0 days 19:40:02                  1  \n234397        3 days 22:51:38                  1  \n340473        0 days 20:50:00                  1  \n343202        1 days 18:14:44                  1  \n\n[22 rows x 22 columns]",
      "text/html": "<div>\n<style scoped>\n    .dataframe tbody tr th:only-of-type {\n        vertical-align: middle;\n    }\n\n    .dataframe tbody tr th {\n        vertical-align: top;\n    }\n\n    .dataframe thead th {\n        text-align: right;\n    }\n</style>\n<table border=\"1\" class=\"dataframe\">\n  <thead>\n    <tr style=\"text-align: right;\">\n      <th></th>\n      <th>FID</th>\n      <th>dtime</th>\n      <th>d_start_s</th>\n      <th>d_end</th>\n      <th>d_end_s</th>\n      <th>dt_sec</th>\n      <th>dt_min</th>\n      <th>distance_m</th>\n      <th>oid_start</th>\n      <th>oid_end</th>\n      <th>...</th>\n      <th>speed_kph</th>\n      <th>speed_knt</th>\n      <th>GID</th>\n      <th>ID_2</th>\n      <th>ORIG_FID</th>\n      <th>SHAPE</th>\n      <th>GID_2</th>\n      <th>dtime_2</th>\n      <th>POI_timedelta</th>\n      <th>POI_timedelta_filt</th>\n    </tr>\n  </thead>\n  <tbody>\n    <tr>\n      <th>34407</th>\n      <td>36425</td>\n      <td>2023-05-24 07:57:32.000000</td>\n      <td>2023-05-24 07:57:32 AM</td>\n      <td>2023-05-24 07:57:47.000000</td>\n      <td>2023-05-24 07:57:47 AM</td>\n      <td>15</td>\n      <td>0.25</td>\n      <td>0.175203</td>\n      <td>127008</td>\n      <td>127009</td>\n      <td>...</td>\n      <td>0.042049</td>\n      <td>0.022704</td>\n      <td>010812</td>\n      <td>01081236451</td>\n      <td>36451</td>\n      <td>{\"x\": 399288.4274000004, \"y\": 3990139.48399999...</td>\n      <td>010812.1</td>\n      <td>2023-05-25 08:02:54.000000</td>\n      <td>1 days 00:05:22</td>\n      <td>1</td>\n    </tr>\n    <tr>\n      <th>16102</th>\n      <td>16530</td>\n      <td>2023-05-23 15:09:04.000000</td>\n      <td>2023-05-23 03:09:04 PM</td>\n      <td>2023-05-23 15:09:19.000000</td>\n      <td>2023-05-23 03:09:19 PM</td>\n      <td>15</td>\n      <td>0.25</td>\n      <td>275.858711</td>\n      <td>97025</td>\n      <td>97026</td>\n      <td>...</td>\n      <td>66.206091</td>\n      <td>35.748346</td>\n      <td>015012</td>\n      <td>01501216544</td>\n      <td>16544</td>\n      <td>{\"x\": 398945.14630000014, \"y\": 3985072.8684, \"...</td>\n      <td>015012.1</td>\n      <td>2023-05-24 11:42:19.000002</td>\n      <td>0 days 20:33:15.000002</td>\n      <td>1</td>\n    </tr>\n    <tr>\n      <th>25033</th>\n      <td>25836</td>\n      <td>2023-05-23 18:40:22.000000</td>\n      <td>2023-05-23 06:40:22 PM</td>\n      <td>2023-05-23 18:40:40.000000</td>\n      <td>2023-05-23 06:40:40 PM</td>\n      <td>18</td>\n      <td>0.3</td>\n      <td>9.733768</td>\n      <td>137761</td>\n      <td>137011</td>\n      <td>...</td>\n      <td>1.946754</td>\n      <td>1.05116</td>\n      <td>015512</td>\n      <td>01551225861</td>\n      <td>25861</td>\n      <td>{\"x\": 399509.0744000003, \"y\": 3990058.9836, \"s...</td>\n      <td>015512.1</td>\n      <td>2023-05-24 12:19:30.000000</td>\n      <td>0 days 17:39:08</td>\n      <td>1</td>\n    </tr>\n    <tr>\n      <th>1661</th>\n      <td>1672</td>\n      <td>2023-05-23 10:47:21.000000</td>\n      <td>2023-05-23 10:47:21 AM</td>\n      <td>2023-05-23 10:47:36.000000</td>\n      <td>2023-05-23 10:47:36 AM</td>\n      <td>15</td>\n      <td>0.25</td>\n      <td>34.165912</td>\n      <td>281975</td>\n      <td>281976</td>\n      <td>...</td>\n      <td>8.199819</td>\n      <td>4.427538</td>\n      <td>016712</td>\n      <td>0167121672</td>\n      <td>1672</td>\n      <td>{\"x\": 412952.9735000003, \"y\": 3980319.8103, \"s...</td>\n      <td>016712.1</td>\n      <td>2023-05-24 10:43:06.000000</td>\n      <td>0 days 23:55:45</td>\n      <td>1</td>\n    </tr>\n    <tr>\n      <th>80439</th>\n      <td>83858</td>\n      <td>2023-05-28 17:38:28.000000</td>\n      <td>2023-05-28 05:38:28 PM</td>\n      <td>2023-05-28 17:38:39.000000</td>\n      <td>2023-05-28 05:38:39 PM</td>\n      <td>11</td>\n      <td>0.183333</td>\n      <td>187.457698</td>\n      <td>97124</td>\n      <td>97125</td>\n      <td>...</td>\n      <td>61.349792</td>\n      <td>33.126161</td>\n      <td>055522</td>\n      <td>05552285196</td>\n      <td>85196</td>\n      <td>{\"x\": 398940.4781999998, \"y\": 3985005.9911, \"s...</td>\n      <td>055522.1</td>\n      <td>2023-05-29 17:40:10.000002</td>\n      <td>1 days 00:01:42.000002</td>\n      <td>1</td>\n    </tr>\n    <tr>\n      <th>75584</th>\n      <td>78874</td>\n      <td>2023-05-28 15:01:17.000000</td>\n      <td>2023-05-28 03:01:17 PM</td>\n      <td>2023-05-28 15:01:32.000000</td>\n      <td>2023-05-28 03:01:32 PM</td>\n      <td>15</td>\n      <td>0.25</td>\n      <td>309.265574</td>\n      <td>97409</td>\n      <td>97129</td>\n      <td>...</td>\n      <td>74.223738</td>\n      <td>40.07752</td>\n      <td>059512</td>\n      <td>05951279254</td>\n      <td>79254</td>\n      <td>{\"x\": 398957.8125, \"y\": 3985174.9508999996, \"s...</td>\n      <td>059512.1</td>\n      <td>2023-05-29 17:40:17.000000</td>\n      <td>1 days 02:39:00</td>\n      <td>1</td>\n    </tr>\n    <tr>\n      <th>132517</th>\n      <td>136283</td>\n      <td>2023-06-03 16:40:42.000000</td>\n      <td>2023-06-03 04:40:42 PM</td>\n      <td>2023-06-03 16:40:57.000000</td>\n      <td>2023-06-03 04:40:57 PM</td>\n      <td>15</td>\n      <td>0.25</td>\n      <td>291.62944</td>\n      <td>97497</td>\n      <td>97142</td>\n      <td>...</td>\n      <td>69.991066</td>\n      <td>37.792065</td>\n      <td>091112</td>\n      <td>091112139328</td>\n      <td>139328</td>\n      <td>{\"x\": 398966.62600000016, \"y\": 3985243.603, \"s...</td>\n      <td>091112.1</td>\n      <td>2023-06-04 11:06:01.000000</td>\n      <td>0 days 18:25:19</td>\n      <td>1</td>\n    </tr>\n    <tr>\n      <th>186663</th>\n      <td>192997</td>\n      <td>2023-06-08 16:12:11.000002</td>\n      <td>2023-06-08 04:12:11 PM</td>\n      <td>2023-06-08 16:12:26.000000</td>\n      <td>2023-06-08 04:12:26 PM</td>\n      <td>14</td>\n      <td>0.233333</td>\n      <td>307.911854</td>\n      <td>97631</td>\n      <td>97160</td>\n      <td>...</td>\n      <td>79.177334</td>\n      <td>42.752241</td>\n      <td>131712</td>\n      <td>131712196082</td>\n      <td>196082</td>\n      <td>{\"x\": 398967.5290000001, \"y\": 3985121.78160000...</td>\n      <td>131712.1</td>\n      <td>2023-06-09 12:22:46.000000</td>\n      <td>0 days 20:10:34.999998</td>\n      <td>1</td>\n    </tr>\n    <tr>\n      <th>261136</th>\n      <td>268081</td>\n      <td>2023-06-14 16:41:37.000000</td>\n      <td>2023-06-14 04:41:37 PM</td>\n      <td>2023-06-14 16:41:52.000000</td>\n      <td>2023-06-14 04:41:52 PM</td>\n      <td>15</td>\n      <td>0.25</td>\n      <td>58.405264</td>\n      <td>317919</td>\n      <td>317920</td>\n      <td>...</td>\n      <td>14.017263</td>\n      <td>7.568699</td>\n      <td>170912</td>\n      <td>170912271221</td>\n      <td>271221</td>\n      <td>{\"x\": 425279.1261, \"y\": 3988629.2709, \"spatial...</td>\n      <td>170912.1</td>\n      <td>2023-06-15 13:04:53.000000</td>\n      <td>0 days 20:23:16</td>\n      <td>1</td>\n    </tr>\n    <tr>\n      <th>247477</th>\n      <td>253936</td>\n      <td>2023-06-14 12:00:20.000002</td>\n      <td>2023-06-14 12:00:20 PM</td>\n      <td>2023-06-14 12:00:35.000000</td>\n      <td>2023-06-14 12:00:35 PM</td>\n      <td>14</td>\n      <td>0.233333</td>\n      <td>317.228095</td>\n      <td>5345</td>\n      <td>5346</td>\n      <td>...</td>\n      <td>81.572939</td>\n      <td>44.045761</td>\n      <td>171712</td>\n      <td>171712257049</td>\n      <td>257049</td>\n      <td>{\"x\": 398821.19770000037, \"y\": 3987343.3882, \"...</td>\n      <td>171712.1</td>\n      <td>2023-06-15 14:32:19.000000</td>\n      <td>1 days 02:31:58.999998</td>\n      <td>1</td>\n    </tr>\n    <tr>\n      <th>252990</th>\n      <td>259571</td>\n      <td>2023-06-14 13:29:08.000000</td>\n      <td>2023-06-14 01:29:08 PM</td>\n      <td>2023-06-14 13:29:23.000000</td>\n      <td>2023-06-14 01:29:23 PM</td>\n      <td>15</td>\n      <td>0.25</td>\n      <td>296.601156</td>\n      <td>5347</td>\n      <td>5348</td>\n      <td>...</td>\n      <td>71.184277</td>\n      <td>38.436346</td>\n      <td>172012</td>\n      <td>172012262693</td>\n      <td>262693</td>\n      <td>{\"x\": 398830.63910000026, \"y\": 3987189.3598999...</td>\n      <td>172012.1</td>\n      <td>2023-06-15 14:32:24.000000</td>\n      <td>1 days 01:03:16</td>\n      <td>1</td>\n    </tr>\n    <tr>\n      <th>259735</th>\n      <td>266614</td>\n      <td>2023-06-14 15:56:04.000000</td>\n      <td>2023-06-14 03:56:04 PM</td>\n      <td>2023-06-14 15:56:19.000002</td>\n      <td>2023-06-14 03:56:19 PM</td>\n      <td>15</td>\n      <td>0.25</td>\n      <td>223.705958</td>\n      <td>97750</td>\n      <td>97751</td>\n      <td>...</td>\n      <td>53.68943</td>\n      <td>28.989906</td>\n      <td>172112</td>\n      <td>172112269747</td>\n      <td>269747</td>\n      <td>{\"x\": 399040.13239999954, \"y\": 3986145.2567999...</td>\n      <td>172112.1</td>\n      <td>2023-06-15 14:32:19.000000</td>\n      <td>0 days 22:36:15</td>\n      <td>1</td>\n    </tr>\n    <tr>\n      <th>251298</th>\n      <td>257849</td>\n      <td>2023-06-14 13:00:49.000000</td>\n      <td>2023-06-14 01:00:49 PM</td>\n      <td>2023-06-14 13:01:04.000002</td>\n      <td>2023-06-14 01:01:04 PM</td>\n      <td>15</td>\n      <td>0.25</td>\n      <td>335.436255</td>\n      <td>5358</td>\n      <td>5359</td>\n      <td>...</td>\n      <td>80.504701</td>\n      <td>43.468961</td>\n      <td>172312</td>\n      <td>172312260969</td>\n      <td>260969</td>\n      <td>{\"x\": 398827.0114000002, \"y\": 3987350.37879999...</td>\n      <td>172312.1</td>\n      <td>2023-06-15 14:32:20.000000</td>\n      <td>1 days 01:31:31</td>\n      <td>1</td>\n    </tr>\n    <tr>\n      <th>248871</th>\n      <td>255370</td>\n      <td>2023-06-14 12:21:27.000000</td>\n      <td>2023-06-14 12:21:27 PM</td>\n      <td>2023-06-14 12:21:42.000000</td>\n      <td>2023-06-14 12:21:42 PM</td>\n      <td>15</td>\n      <td>0.25</td>\n      <td>330.212309</td>\n      <td>5360</td>\n      <td>5361</td>\n      <td>...</td>\n      <td>79.250954</td>\n      <td>42.791993</td>\n      <td>172412</td>\n      <td>172412258485</td>\n      <td>258485</td>\n      <td>{\"x\": 398824.4606999997, \"y\": 3987263.4385, \"s...</td>\n      <td>172412.1</td>\n      <td>2023-06-15 06:50:37.000000</td>\n      <td>0 days 18:29:10</td>\n      <td>1</td>\n    </tr>\n    <tr>\n      <th>247521</th>\n      <td>253981</td>\n      <td>2023-06-14 12:00:59.000000</td>\n      <td>2023-06-14 12:00:59 PM</td>\n      <td>2023-06-14 12:01:14.000000</td>\n      <td>2023-06-14 12:01:14 PM</td>\n      <td>15</td>\n      <td>0.25</td>\n      <td>395.358395</td>\n      <td>6325</td>\n      <td>5366</td>\n      <td>...</td>\n      <td>94.886015</td>\n      <td>51.234231</td>\n      <td>175112</td>\n      <td>175112257095</td>\n      <td>257095</td>\n      <td>{\"x\": 398819.60199999996, \"y\": 3987410.7004000...</td>\n      <td>175112.1</td>\n      <td>2023-06-15 14:32:23.000000</td>\n      <td>1 days 02:31:24</td>\n      <td>1</td>\n    </tr>\n    <tr>\n      <th>265129</th>\n      <td>272133</td>\n      <td>2023-06-14 19:07:18.000000</td>\n      <td>2023-06-14 07:07:18 PM</td>\n      <td>2023-06-14 19:07:33.000000</td>\n      <td>2023-06-14 07:07:33 PM</td>\n      <td>15</td>\n      <td>0.25</td>\n      <td>415.773667</td>\n      <td>6334</td>\n      <td>5376</td>\n      <td>...</td>\n      <td>99.78568</td>\n      <td>53.879832</td>\n      <td>175812</td>\n      <td>175812275278</td>\n      <td>275278</td>\n      <td>{\"x\": 398820.8487, \"y\": 3987497.218699999, \"sp...</td>\n      <td>175812.1</td>\n      <td>2023-06-15 14:32:18.000000</td>\n      <td>0 days 19:25:00</td>\n      <td>1</td>\n    </tr>\n    <tr>\n      <th>257257</th>\n      <td>263984</td>\n      <td>2023-06-14 14:55:21.000000</td>\n      <td>2023-06-14 02:55:21 PM</td>\n      <td>2023-06-14 14:55:36.000000</td>\n      <td>2023-06-14 02:55:36 PM</td>\n      <td>15</td>\n      <td>0.25</td>\n      <td>166.92508</td>\n      <td>317545</td>\n      <td>317546</td>\n      <td>...</td>\n      <td>40.062019</td>\n      <td>21.63171</td>\n      <td>176312</td>\n      <td>176312267114</td>\n      <td>267114</td>\n      <td>{\"x\": 425110.96640000027, \"y\": 3988611.1237000...</td>\n      <td>176312.1</td>\n      <td>2023-06-15 13:04:51.000000</td>\n      <td>0 days 22:09:30</td>\n      <td>1</td>\n    </tr>\n    <tr>\n      <th>258001</th>\n      <td>264775</td>\n      <td>2023-06-14 15:12:53.000002</td>\n      <td>2023-06-14 03:12:53 PM</td>\n      <td>2023-06-14 15:13:08.000000</td>\n      <td>2023-06-14 03:13:08 PM</td>\n      <td>14</td>\n      <td>0.233333</td>\n      <td>97.632066</td>\n      <td>318559</td>\n      <td>317551</td>\n      <td>...</td>\n      <td>25.105388</td>\n      <td>13.555794</td>\n      <td>177012</td>\n      <td>177012267905</td>\n      <td>267905</td>\n      <td>{\"x\": 425306.42789999954, \"y\": 3988675.7784, \"...</td>\n      <td>177012.1</td>\n      <td>2023-06-15 13:04:53.000000</td>\n      <td>0 days 21:51:59.999998</td>\n      <td>1</td>\n    </tr>\n    <tr>\n      <th>264788</th>\n      <td>271785</td>\n      <td>2023-06-14 18:52:15.000000</td>\n      <td>2023-06-14 06:52:15 PM</td>\n      <td>2023-06-14 18:52:30.000000</td>\n      <td>2023-06-14 06:52:30 PM</td>\n      <td>15</td>\n      <td>0.25</td>\n      <td>341.577967</td>\n      <td>6341</td>\n      <td>5383</td>\n      <td>...</td>\n      <td>81.978712</td>\n      <td>44.264861</td>\n      <td>179812</td>\n      <td>179812274929</td>\n      <td>274929</td>\n      <td>{\"x\": 398820.1917000003, \"y\": 3987400.26060000...</td>\n      <td>179812.1</td>\n      <td>2023-06-15 14:32:17.000000</td>\n      <td>0 days 19:40:02</td>\n      <td>1</td>\n    </tr>\n    <tr>\n      <th>234397</th>\n      <td>240815</td>\n      <td>2023-06-10 10:28:00.000000</td>\n      <td>2023-06-10 10:28:00 AM</td>\n      <td>2023-06-10 10:28:15.000000</td>\n      <td>2023-06-10 10:28:15 AM</td>\n      <td>15</td>\n      <td>0.25</td>\n      <td>100.487204</td>\n      <td>318569</td>\n      <td>317952</td>\n      <td>...</td>\n      <td>24.116929</td>\n      <td>13.02207</td>\n      <td>179912</td>\n      <td>179912243912</td>\n      <td>243912</td>\n      <td>{\"x\": 425303.6741000004, \"y\": 3988660.10720000...</td>\n      <td>179912.1</td>\n      <td>2023-06-14 09:19:38.000000</td>\n      <td>3 days 22:51:38</td>\n      <td>1</td>\n    </tr>\n    <tr>\n      <th>340473</th>\n      <td>348611</td>\n      <td>2023-06-22 14:38:49.000000</td>\n      <td>2023-06-22 02:38:49 PM</td>\n      <td>2023-06-22 14:39:04.000000</td>\n      <td>2023-06-22 02:39:04 PM</td>\n      <td>15</td>\n      <td>0.25</td>\n      <td>279.989201</td>\n      <td>5545</td>\n      <td>5546</td>\n      <td>...</td>\n      <td>67.197408</td>\n      <td>36.283614</td>\n      <td>231712</td>\n      <td>231712351811</td>\n      <td>351811</td>\n      <td>{\"x\": 398830.30319999997, \"y\": 3987132.0380000...</td>\n      <td>231712.1</td>\n      <td>2023-06-23 11:28:49.000000</td>\n      <td>0 days 20:50:00</td>\n      <td>1</td>\n    </tr>\n    <tr>\n      <th>343202</th>\n      <td>351587</td>\n      <td>2023-06-22 17:02:09.000000</td>\n      <td>2023-06-22 05:02:09 PM</td>\n      <td>2023-06-22 17:02:24.000000</td>\n      <td>2023-06-22 05:02:24 PM</td>\n      <td>15</td>\n      <td>0.25</td>\n      <td>295.932619</td>\n      <td>5558</td>\n      <td>5559</td>\n      <td>...</td>\n      <td>71.023829</td>\n      <td>38.349711</td>\n      <td>Current Track: 22 JUN 2</td>\n      <td>Current Track: 22 JUN 2354789</td>\n      <td>354789</td>\n      <td>{\"x\": 398822.0549999997, \"y\": 3987316.84940000...</td>\n      <td>Current Track: 22 JUN 2.1</td>\n      <td>2023-06-24 11:16:53.000000</td>\n      <td>1 days 18:14:44</td>\n      <td>1</td>\n    </tr>\n  </tbody>\n</table>\n<p>22 rows × 22 columns</p>\n</div>"
     },
     "execution_count": 21,
     "metadata": {},
     "output_type": "execute_result"
    }
   ],
   "source": [
    "##Create dataframe containing filter for time delta for manual evaluation\n",
    "\n",
    "seq_time_filt2 = seq_time_filt==True\n",
    "df10 = seq_timedf2.copy()\n",
    "df10 = pd.DataFrame(df10.loc[seq_time_filt2])\n",
    "df10"
   ],
   "metadata": {
    "collapsed": false,
    "ExecuteTime": {
     "end_time": "2024-06-09T21:24:01.246346700Z",
     "start_time": "2024-06-09T21:24:01.048066600Z"
    }
   }
  },
  {
   "cell_type": "markdown",
   "source": [
    "Determine errant points and tracks based off of time and place that need to be deleted. Make your determination based on your best judgement due to (i) length of time from preceding points and (ii) visual examination of the points in ArcGIS. You can do this by looking the point field for seemingly errant points in ArcGIs and confirming if they indicate a spatial pattern that may result from error. For example, in our case, if points occurred near cabin or GPS device drop-off location/far away from preceding points in time and space.\n",
    "\n",
    "To conduct the manual examination, follow the code blocks below for each participant ID that was identified above as being susceptible to error. Record the entire tracks and individual points that caused issues below. Depending on your comfort with Python, you can follow the code below to delete these tracks, or, if you prefer, you can delete them by hand in ArcGIS."
   ],
   "metadata": {
    "collapsed": false
   }
  },
  {
   "cell_type": "code",
   "execution_count": 22,
   "outputs": [],
   "source": [
    "##Identify tracks with errors. This deeper dive may sometimes help you identify errors from other steps in your process. For example, technicians may save errant tracks or mislabel them. These tracks may entirely be the results of error entirely and warrant removal, whereas other times they simply were mislabeled. Below are mislabeled tracks for deletion with justification based on visual examination:\n",
    "\n",
    "##Current Track: 22 Jun is 239812 and researcher error and should be deleted\n",
    "##Current Track: 05 Jun is 111212 and researcher error and should be deleted\n",
    "\n",
    "##Below are acceptable mislabeled tracks:\n",
    "##Current Track: 28 May 2 is 059712\n",
    "##Current Track: May 30 2 is 079812\n",
    "##Current Track: 10 Jun 2 is 152212\n",
    "##Current Track: 16 Jun 2 is 192212"
   ],
   "metadata": {
    "collapsed": false,
    "ExecuteTime": {
     "end_time": "2024-06-09T21:24:01.266772Z",
     "start_time": "2024-06-09T21:24:01.247782100Z"
    }
   }
  },
  {
   "cell_type": "code",
   "execution_count": 23,
   "outputs": [],
   "source": [
    "##Identify points with errors.\n",
    "\n",
    "##Points with issues final point at Main entrance\n",
    "GID_last_points = [172012, 172112, 175812, 172412]\n",
    "\n",
    "##Points with issues at final two points at Main entrance\n",
    "GID_two_last_points =[179812]\n",
    "\n",
    "##Points with issues at final three points at Main Entrance\n",
    "GID_three_last_points = [171712, 172312]\n",
    "\n",
    "##Points with issues at final four points at Main Entrance\n",
    "GID_four_last_points = [175112]\n",
    "\n",
    "\n",
    "##Questionable points:\n",
    "##179912 has a series of points three days after the rest that are drive from GPD dropbox up desert view (don't end at cabins)\n",
    "##059512 has a series of points from main entrance that lead to the cabin about a day from all other points\n",
    "##055522 has a series of points from main entrance that lead to the cabin about a day from all other points\n",
    "##231712 much of the device error around GPS dropbox\n",
    "\n",
    "##Odd behaviors, but data seems worth retaining:\n",
    "##010812 has lapses and stays in a cabin for a long time but doesn't seem like researcher error\n",
    "##016712 appears to have camped outside the park and returned\n",
    "##176312 appears to have camped outside the park and returned\n",
    "##015012 appears to have camped outside the park and returned\n",
    "##170912 appears to have camped outside the park and returned\n",
    "##131712 appears to have camped outside the park and returned\n",
    "##091112 appears to have camped outside the park and returned\n",
    "##015512 odd lag/error with normal behavior before and after (perhaps device turned off while in campground)\n",
    "##177012 appears to have camped outside the park and returned\n",
    "odd_data = [\"010812\", \"016712\", \"176312\", \"015012\", \"170912\", \"131712\", \"091112\", \"015512\",\"177012\"]\n",
    "\n",
    "##Note on when cleaning stopped: Inspection ended at timedelta of 16:35 because . Therefore, all GIDs with time delta greater than that were inspected in this dataset."
   ],
   "metadata": {
    "collapsed": false,
    "ExecuteTime": {
     "end_time": "2024-06-09T21:24:01.314069400Z",
     "start_time": "2024-06-09T21:24:01.265702500Z"
    }
   }
  },
  {
   "cell_type": "code",
   "execution_count": 24,
   "outputs": [
    {
     "data": {
      "text/plain": "           FID                      dtime               d_start_s  \\\n245818  252263 2023-06-14 11:37:38.000000  2023-06-14 11:37:38 AM   \n245836  252281 2023-06-14 11:37:53.000000  2023-06-14 11:37:53 AM   \n245854  252299 2023-06-14 11:38:08.000000  2023-06-14 11:38:08 AM   \n245872  252317 2023-06-14 11:38:23.000000  2023-06-14 11:38:23 AM   \n245890  252335 2023-06-14 11:38:38.000000  2023-06-14 11:38:38 AM   \n...        ...                        ...                     ...   \n274137  281172 2023-06-15 14:29:23.000000  2023-06-15 02:29:23 PM   \n274139  281174 2023-06-15 14:29:38.000002  2023-06-15 02:29:38 PM   \n274141  281176 2023-06-15 14:29:53.000000  2023-06-15 02:29:53 PM   \n274148  281183 2023-06-15 14:32:23.000000  2023-06-15 02:32:23 PM   \n274155  281190 2023-06-15 14:32:38.000002  2023-06-15 02:32:38 PM   \n\n                            d_end                 d_end_s  dt_sec    dt_min  \\\n245818 2023-06-14 11:37:53.000000  2023-06-14 11:37:53 AM      15      0.25   \n245836 2023-06-14 11:38:08.000000  2023-06-14 11:38:08 AM      15      0.25   \n245854 2023-06-14 11:38:23.000000  2023-06-14 11:38:23 AM      15      0.25   \n245872 2023-06-14 11:38:38.000000  2023-06-14 11:38:38 AM      15      0.25   \n245890 2023-06-14 11:38:53.000000  2023-06-14 11:38:53 AM      15      0.25   \n...                           ...                     ...     ...       ...   \n274137 2023-06-15 14:29:38.000002  2023-06-15 02:29:38 PM      15      0.25   \n274139 2023-06-15 14:29:53.000000  2023-06-15 02:29:53 PM      14  0.233333   \n274141 2023-06-15 14:30:08.000000  2023-06-15 02:30:08 PM      15      0.25   \n274148 2023-06-15 14:32:38.000002  2023-06-15 02:32:38 PM      15      0.25   \n274155 2023-06-15 14:32:53.000000  2023-06-15 02:32:53 PM      14  0.233333   \n\n        distance_m  oid_start  oid_end  speed_mps  speed_mph  speed_kph  \\\n245818  109.994881     318557   318558   7.332992  16.403463  26.398771   \n245836  145.989589     318558   319428   9.732639   21.77133  35.037501   \n245854  123.005572     319428   324120   8.200371  18.343739  29.521337   \n245872     32.6954     324120   325474   2.179693   4.875843   7.846896   \n245890   40.222481     325474   333662   2.681499   5.998352   9.653395   \n...            ...        ...      ...        ...        ...        ...   \n274137  331.555486       6338     6339  22.103699  49.444649  79.573317   \n274139  348.520783       6339     5381  24.894342  55.687149   89.61963   \n274141  330.365918       5381     5382  22.024395  49.267249   79.28782   \n274148  300.496389      97807    97808  20.033093  44.812826  72.119133   \n274155  319.915373      97808    97809  22.851098  51.116535  82.263953   \n\n        speed_knt     GID          ID_2  ORIG_FID  \\\n245818  14.254163  177012  177012255376    255376   \n245836  18.918693  177012  177012255394    255394   \n245854   15.94021  177012  177012255412    255412   \n245872   4.236975  177012  177012255430    255430   \n245890   5.212404  177012  177012255448    255448   \n...           ...     ...           ...       ...   \n274137  42.966054  177012  177012284325    284325   \n274139  48.390617  177012  177012284327    284327   \n274141  42.811899  177012  177012284329    284329   \n274148  38.941127  177012  177012284337    284337   \n274155  44.418879  177012  177012284344    284344   \n\n                                                    SHAPE  \n245818  {\"x\": 425325.73220000044, \"y\": 3988545.7146000...  \n245836  {\"x\": 425301.44600000046, \"y\": 3988652.9574999...  \n245854  {\"x\": 425388.2432000004, \"y\": 3988770.28219999...  \n245872  {\"x\": 425467.7326999996, \"y\": 3988864.0999, \"s...  \n245890  {\"x\": 425497.8269999996, \"y\": 3988876.8519, \"s...  \n...                                                   ...  \n274137  {\"x\": 398812.6365, \"y\": 3987783.3194999993, \"s...  \n274139  {\"x\": 398817.8108999999, \"y\": 3987451.89519999...  \n274141  {\"x\": 398831.4801000003, \"y\": 3987103.73809999...  \n274148  {\"x\": 399007.3848000001, \"y\": 3986329.22419999...  \n274155  {\"x\": 399041.8229, \"y\": 3986030.7907, \"spatial...  \n\n[1205 rows x 18 columns]",
      "text/html": "<div>\n<style scoped>\n    .dataframe tbody tr th:only-of-type {\n        vertical-align: middle;\n    }\n\n    .dataframe tbody tr th {\n        vertical-align: top;\n    }\n\n    .dataframe thead th {\n        text-align: right;\n    }\n</style>\n<table border=\"1\" class=\"dataframe\">\n  <thead>\n    <tr style=\"text-align: right;\">\n      <th></th>\n      <th>FID</th>\n      <th>dtime</th>\n      <th>d_start_s</th>\n      <th>d_end</th>\n      <th>d_end_s</th>\n      <th>dt_sec</th>\n      <th>dt_min</th>\n      <th>distance_m</th>\n      <th>oid_start</th>\n      <th>oid_end</th>\n      <th>speed_mps</th>\n      <th>speed_mph</th>\n      <th>speed_kph</th>\n      <th>speed_knt</th>\n      <th>GID</th>\n      <th>ID_2</th>\n      <th>ORIG_FID</th>\n      <th>SHAPE</th>\n    </tr>\n  </thead>\n  <tbody>\n    <tr>\n      <th>245818</th>\n      <td>252263</td>\n      <td>2023-06-14 11:37:38.000000</td>\n      <td>2023-06-14 11:37:38 AM</td>\n      <td>2023-06-14 11:37:53.000000</td>\n      <td>2023-06-14 11:37:53 AM</td>\n      <td>15</td>\n      <td>0.25</td>\n      <td>109.994881</td>\n      <td>318557</td>\n      <td>318558</td>\n      <td>7.332992</td>\n      <td>16.403463</td>\n      <td>26.398771</td>\n      <td>14.254163</td>\n      <td>177012</td>\n      <td>177012255376</td>\n      <td>255376</td>\n      <td>{\"x\": 425325.73220000044, \"y\": 3988545.7146000...</td>\n    </tr>\n    <tr>\n      <th>245836</th>\n      <td>252281</td>\n      <td>2023-06-14 11:37:53.000000</td>\n      <td>2023-06-14 11:37:53 AM</td>\n      <td>2023-06-14 11:38:08.000000</td>\n      <td>2023-06-14 11:38:08 AM</td>\n      <td>15</td>\n      <td>0.25</td>\n      <td>145.989589</td>\n      <td>318558</td>\n      <td>319428</td>\n      <td>9.732639</td>\n      <td>21.77133</td>\n      <td>35.037501</td>\n      <td>18.918693</td>\n      <td>177012</td>\n      <td>177012255394</td>\n      <td>255394</td>\n      <td>{\"x\": 425301.44600000046, \"y\": 3988652.9574999...</td>\n    </tr>\n    <tr>\n      <th>245854</th>\n      <td>252299</td>\n      <td>2023-06-14 11:38:08.000000</td>\n      <td>2023-06-14 11:38:08 AM</td>\n      <td>2023-06-14 11:38:23.000000</td>\n      <td>2023-06-14 11:38:23 AM</td>\n      <td>15</td>\n      <td>0.25</td>\n      <td>123.005572</td>\n      <td>319428</td>\n      <td>324120</td>\n      <td>8.200371</td>\n      <td>18.343739</td>\n      <td>29.521337</td>\n      <td>15.94021</td>\n      <td>177012</td>\n      <td>177012255412</td>\n      <td>255412</td>\n      <td>{\"x\": 425388.2432000004, \"y\": 3988770.28219999...</td>\n    </tr>\n    <tr>\n      <th>245872</th>\n      <td>252317</td>\n      <td>2023-06-14 11:38:23.000000</td>\n      <td>2023-06-14 11:38:23 AM</td>\n      <td>2023-06-14 11:38:38.000000</td>\n      <td>2023-06-14 11:38:38 AM</td>\n      <td>15</td>\n      <td>0.25</td>\n      <td>32.6954</td>\n      <td>324120</td>\n      <td>325474</td>\n      <td>2.179693</td>\n      <td>4.875843</td>\n      <td>7.846896</td>\n      <td>4.236975</td>\n      <td>177012</td>\n      <td>177012255430</td>\n      <td>255430</td>\n      <td>{\"x\": 425467.7326999996, \"y\": 3988864.0999, \"s...</td>\n    </tr>\n    <tr>\n      <th>245890</th>\n      <td>252335</td>\n      <td>2023-06-14 11:38:38.000000</td>\n      <td>2023-06-14 11:38:38 AM</td>\n      <td>2023-06-14 11:38:53.000000</td>\n      <td>2023-06-14 11:38:53 AM</td>\n      <td>15</td>\n      <td>0.25</td>\n      <td>40.222481</td>\n      <td>325474</td>\n      <td>333662</td>\n      <td>2.681499</td>\n      <td>5.998352</td>\n      <td>9.653395</td>\n      <td>5.212404</td>\n      <td>177012</td>\n      <td>177012255448</td>\n      <td>255448</td>\n      <td>{\"x\": 425497.8269999996, \"y\": 3988876.8519, \"s...</td>\n    </tr>\n    <tr>\n      <th>...</th>\n      <td>...</td>\n      <td>...</td>\n      <td>...</td>\n      <td>...</td>\n      <td>...</td>\n      <td>...</td>\n      <td>...</td>\n      <td>...</td>\n      <td>...</td>\n      <td>...</td>\n      <td>...</td>\n      <td>...</td>\n      <td>...</td>\n      <td>...</td>\n      <td>...</td>\n      <td>...</td>\n      <td>...</td>\n      <td>...</td>\n    </tr>\n    <tr>\n      <th>274137</th>\n      <td>281172</td>\n      <td>2023-06-15 14:29:23.000000</td>\n      <td>2023-06-15 02:29:23 PM</td>\n      <td>2023-06-15 14:29:38.000002</td>\n      <td>2023-06-15 02:29:38 PM</td>\n      <td>15</td>\n      <td>0.25</td>\n      <td>331.555486</td>\n      <td>6338</td>\n      <td>6339</td>\n      <td>22.103699</td>\n      <td>49.444649</td>\n      <td>79.573317</td>\n      <td>42.966054</td>\n      <td>177012</td>\n      <td>177012284325</td>\n      <td>284325</td>\n      <td>{\"x\": 398812.6365, \"y\": 3987783.3194999993, \"s...</td>\n    </tr>\n    <tr>\n      <th>274139</th>\n      <td>281174</td>\n      <td>2023-06-15 14:29:38.000002</td>\n      <td>2023-06-15 02:29:38 PM</td>\n      <td>2023-06-15 14:29:53.000000</td>\n      <td>2023-06-15 02:29:53 PM</td>\n      <td>14</td>\n      <td>0.233333</td>\n      <td>348.520783</td>\n      <td>6339</td>\n      <td>5381</td>\n      <td>24.894342</td>\n      <td>55.687149</td>\n      <td>89.61963</td>\n      <td>48.390617</td>\n      <td>177012</td>\n      <td>177012284327</td>\n      <td>284327</td>\n      <td>{\"x\": 398817.8108999999, \"y\": 3987451.89519999...</td>\n    </tr>\n    <tr>\n      <th>274141</th>\n      <td>281176</td>\n      <td>2023-06-15 14:29:53.000000</td>\n      <td>2023-06-15 02:29:53 PM</td>\n      <td>2023-06-15 14:30:08.000000</td>\n      <td>2023-06-15 02:30:08 PM</td>\n      <td>15</td>\n      <td>0.25</td>\n      <td>330.365918</td>\n      <td>5381</td>\n      <td>5382</td>\n      <td>22.024395</td>\n      <td>49.267249</td>\n      <td>79.28782</td>\n      <td>42.811899</td>\n      <td>177012</td>\n      <td>177012284329</td>\n      <td>284329</td>\n      <td>{\"x\": 398831.4801000003, \"y\": 3987103.73809999...</td>\n    </tr>\n    <tr>\n      <th>274148</th>\n      <td>281183</td>\n      <td>2023-06-15 14:32:23.000000</td>\n      <td>2023-06-15 02:32:23 PM</td>\n      <td>2023-06-15 14:32:38.000002</td>\n      <td>2023-06-15 02:32:38 PM</td>\n      <td>15</td>\n      <td>0.25</td>\n      <td>300.496389</td>\n      <td>97807</td>\n      <td>97808</td>\n      <td>20.033093</td>\n      <td>44.812826</td>\n      <td>72.119133</td>\n      <td>38.941127</td>\n      <td>177012</td>\n      <td>177012284337</td>\n      <td>284337</td>\n      <td>{\"x\": 399007.3848000001, \"y\": 3986329.22419999...</td>\n    </tr>\n    <tr>\n      <th>274155</th>\n      <td>281190</td>\n      <td>2023-06-15 14:32:38.000002</td>\n      <td>2023-06-15 02:32:38 PM</td>\n      <td>2023-06-15 14:32:53.000000</td>\n      <td>2023-06-15 02:32:53 PM</td>\n      <td>14</td>\n      <td>0.233333</td>\n      <td>319.915373</td>\n      <td>97808</td>\n      <td>97809</td>\n      <td>22.851098</td>\n      <td>51.116535</td>\n      <td>82.263953</td>\n      <td>44.418879</td>\n      <td>177012</td>\n      <td>177012284344</td>\n      <td>284344</td>\n      <td>{\"x\": 399041.8229, \"y\": 3986030.7907, \"spatial...</td>\n    </tr>\n  </tbody>\n</table>\n<p>1205 rows × 18 columns</p>\n</div>"
     },
     "execution_count": 24,
     "metadata": {},
     "output_type": "execute_result"
    }
   ],
   "source": [
    "###Method for searching for errors in GID. Use the code below to create a dataframe listing all points from participant identifications flagged with having potential error individually. Open ArcGIs and use the \"Search by Attribute Function\" to highlight all points from a participant identification. Visually examine all points to identify a pattern that may explain the apparent error. Determine if the pattern suggests behavior worth retaining (e.g., visitor left the destination but later returned) and record it above for record. If the pattern appears to reveal an error instead (e.g., one or two points appear at the end of the track in a distant location, the device appears to have been dropped off at the dropbox and recorded the researcher driving through the destination), then record it appropriately above.\n",
    "\n",
    "error_GID = \"177012\"\n",
    "seq_timedf10 = df.copy()\n",
    "seq_timedf_10 = seq_timedf10['GID'] == error_GID\n",
    "seq_timedf_10 = pd.DataFrame(seq_timedf10.loc[seq_timedf_10])\n",
    "seq_timedf_10"
   ],
   "metadata": {
    "collapsed": false,
    "ExecuteTime": {
     "end_time": "2024-06-09T21:24:01.497027700Z",
     "start_time": "2024-06-09T21:24:01.290310500Z"
    }
   }
  },
  {
   "cell_type": "code",
   "execution_count": 25,
   "outputs": [
    {
     "data": {
      "text/plain": "179912                     2529\n055522                       33\n059512                       21\n231712                       14\n175112                        4\n171712                        3\n172312                        3\nCurrent Track: 22 JUN 2       3\n179812                        2\n172012                        1\n172112                        1\n172412                        1\n175812                        1\nName: GID, dtype: Int64"
     },
     "execution_count": 25,
     "metadata": {},
     "output_type": "execute_result"
    }
   ],
   "source": [
    "##Create dataframe of all values that come after large time delta with odd data excluded (i.e., data that was not from error, but odd user behavior), which will then inherently only retain data with errors.\n",
    "\n",
    "df11 = seq_timedf2.copy()\n",
    "seq_time_filt3 = df11[\"POI_timedelta_filt\"] == 1\n",
    "df11 = df11.loc[seq_time_filt3]\n",
    "df11 = df11.groupby('GID',group_keys=False).apply(lambda x:x[1:])\n",
    "df11 = df11[~df11[\"GID\"].isin(odd_data)]\n",
    "df11[\"GID\"].value_counts()"
   ],
   "metadata": {
    "collapsed": false,
    "ExecuteTime": {
     "end_time": "2024-06-09T21:24:01.731987800Z",
     "start_time": "2024-06-09T21:24:01.495572Z"
    }
   }
  },
  {
   "cell_type": "code",
   "execution_count": 26,
   "outputs": [
    {
     "data": {
      "text/plain": "           FID                                              SHAPE\n99616   103050  {\"x\": 398931.87959999964, \"y\": 3984743.9547000...\n99619   103053  {\"x\": 398943.8317999998, \"y\": 3984988.8246, \"s...\n99622   103056  {\"x\": 398972.0845999997, \"y\": 3985250.4955, \"s...\n99625   103059  {\"x\": 399010.15780000016, \"y\": 3985485.2457999...\n99628   103062  {\"x\": 399045.32239999995, \"y\": 3985812.1413000...\n...        ...                                                ...\n350224  360549  {\"x\": 399057.4068, \"y\": 3986551.712200001, \"sp...\n350226  360552  {\"x\": 399059.1699000001, \"y\": 3986549.33940000...\n351459  362255  {\"x\": 399043.1338999998, \"y\": 3986555.37260000...\n351460  362256  {\"x\": 399066.91530000046, \"y\": 3986546.2654999...\n351461  362257  {\"x\": 399089.86849999987, \"y\": 3986535.4291999...\n\n[2616 rows x 2 columns]",
      "text/html": "<div>\n<style scoped>\n    .dataframe tbody tr th:only-of-type {\n        vertical-align: middle;\n    }\n\n    .dataframe tbody tr th {\n        vertical-align: top;\n    }\n\n    .dataframe thead th {\n        text-align: right;\n    }\n</style>\n<table border=\"1\" class=\"dataframe\">\n  <thead>\n    <tr style=\"text-align: right;\">\n      <th></th>\n      <th>FID</th>\n      <th>SHAPE</th>\n    </tr>\n  </thead>\n  <tbody>\n    <tr>\n      <th>99616</th>\n      <td>103050</td>\n      <td>{\"x\": 398931.87959999964, \"y\": 3984743.9547000...</td>\n    </tr>\n    <tr>\n      <th>99619</th>\n      <td>103053</td>\n      <td>{\"x\": 398943.8317999998, \"y\": 3984988.8246, \"s...</td>\n    </tr>\n    <tr>\n      <th>99622</th>\n      <td>103056</td>\n      <td>{\"x\": 398972.0845999997, \"y\": 3985250.4955, \"s...</td>\n    </tr>\n    <tr>\n      <th>99625</th>\n      <td>103059</td>\n      <td>{\"x\": 399010.15780000016, \"y\": 3985485.2457999...</td>\n    </tr>\n    <tr>\n      <th>99628</th>\n      <td>103062</td>\n      <td>{\"x\": 399045.32239999995, \"y\": 3985812.1413000...</td>\n    </tr>\n    <tr>\n      <th>...</th>\n      <td>...</td>\n      <td>...</td>\n    </tr>\n    <tr>\n      <th>350224</th>\n      <td>360549</td>\n      <td>{\"x\": 399057.4068, \"y\": 3986551.712200001, \"sp...</td>\n    </tr>\n    <tr>\n      <th>350226</th>\n      <td>360552</td>\n      <td>{\"x\": 399059.1699000001, \"y\": 3986549.33940000...</td>\n    </tr>\n    <tr>\n      <th>351459</th>\n      <td>362255</td>\n      <td>{\"x\": 399043.1338999998, \"y\": 3986555.37260000...</td>\n    </tr>\n    <tr>\n      <th>351460</th>\n      <td>362256</td>\n      <td>{\"x\": 399066.91530000046, \"y\": 3986546.2654999...</td>\n    </tr>\n    <tr>\n      <th>351461</th>\n      <td>362257</td>\n      <td>{\"x\": 399089.86849999987, \"y\": 3986535.4291999...</td>\n    </tr>\n  </tbody>\n</table>\n<p>2616 rows × 2 columns</p>\n</div>"
     },
     "execution_count": 26,
     "metadata": {},
     "output_type": "execute_result"
    }
   ],
   "source": [
    "##Create a dataframe of points that should be deleted.\n",
    "\n",
    "Delete_Points = pd.DataFrame(df11[['FID','SHAPE']])\n",
    "Delete_Points"
   ],
   "metadata": {
    "collapsed": false,
    "ExecuteTime": {
     "end_time": "2024-06-09T21:24:01.734473900Z",
     "start_time": "2024-06-09T21:24:01.731987800Z"
    }
   }
  },
  {
   "cell_type": "code",
   "execution_count": 27,
   "outputs": [
    {
     "data": {
      "text/plain": "           FID                      dtime               d_start_s  \\\n178006  184126 2023-06-06 21:15:10.000002  2023-06-06 09:15:10 PM   \n178007  184127 2023-06-06 21:15:25.000000  2023-06-06 09:15:25 PM   \n178008  184128 2023-06-06 21:15:40.000000  2023-06-06 09:15:40 PM   \n178009  184129 2023-06-06 21:15:55.000000  2023-06-06 09:15:55 PM   \n178010  184130 2023-06-06 21:16:10.000000  2023-06-06 09:16:10 PM   \n...        ...                        ...                     ...   \n343197  351582 2023-06-22 17:01:54.000000  2023-06-22 05:01:54 PM   \n343202  351587 2023-06-22 17:02:09.000000  2023-06-22 05:02:09 PM   \n351459  362255 2023-06-24 11:16:53.000000  2023-06-24 11:16:53 AM   \n351460  362256 2023-06-24 11:17:08.000000  2023-06-24 11:17:08 AM   \n351461  362257 2023-06-24 11:17:23.000000  2023-06-24 11:17:23 AM   \n\n                     d_end                 d_end_s  dt_sec    dt_min  \\\n178006 2023-06-06 21:15:25  2023-06-06 09:15:25 PM      14  0.233333   \n178007 2023-06-06 21:15:40  2023-06-06 09:15:40 PM      15      0.25   \n178008 2023-06-06 21:15:55  2023-06-06 09:15:55 PM      15      0.25   \n178009 2023-06-06 21:16:10  2023-06-06 09:16:10 PM      15      0.25   \n178010 2023-06-06 21:16:25  2023-06-06 09:16:25 PM      15      0.25   \n...                    ...                     ...     ...       ...   \n343197 2023-06-22 17:02:09  2023-06-22 05:02:09 PM      15      0.25   \n343202 2023-06-22 17:02:24  2023-06-22 05:02:24 PM      15      0.25   \n351459 2023-06-24 11:17:08  2023-06-24 11:17:08 AM      15      0.25   \n351460 2023-06-24 11:17:23  2023-06-24 11:17:23 AM      15      0.25   \n351461 2023-06-24 11:17:38  2023-06-24 11:17:38 AM      15      0.25   \n\n        distance_m  oid_start  oid_end  speed_mps  speed_mph  speed_kph  \\\n178006  184.983593     317869   317358  13.213114  29.556943   47.56721   \n178007  267.285187     317358   317359  17.819012  39.860062  64.148445   \n178008   277.03749     317359   316874  18.469166  41.314416  66.488998   \n178009  169.947093     316874   316519  11.329806  25.344097  40.787302   \n178010  192.130733     316519   312443  12.808716  28.652328  46.111376   \n...            ...        ...      ...        ...        ...        ...   \n343197  304.700704       6438     5558   20.31338  45.439813  73.128169   \n343202  295.932619       5558     5559  19.728841  44.132234  71.023829   \n351459   25.472541      97015    97978   1.698169   3.798703    6.11341   \n351460   25.389538      97978    97979   1.692636   3.786325   6.093489   \n351461   24.108982      97979    97980   1.607265   3.595356   5.786156   \n\n        speed_knt                      GID                           ID_2  \\\n178006  25.684179  Current Track: 05 JUN 2  Current Track: 05 JUN 2187196   \n178007  34.637309  Current Track: 05 JUN 2  Current Track: 05 JUN 2187197   \n178008  35.901104  Current Track: 05 JUN 2  Current Track: 05 JUN 2187198   \n178009  22.023331  Current Track: 05 JUN 2  Current Track: 05 JUN 2187199   \n178010  24.898094  Current Track: 05 JUN 2  Current Track: 05 JUN 2187200   \n...           ...                      ...                            ...   \n343197  39.485961  Current Track: 22 JUN 2  Current Track: 22 JUN 2354784   \n343202  38.349711  Current Track: 22 JUN 2  Current Track: 22 JUN 2354789   \n351459    3.30097  Current Track: 22 JUN 2  Current Track: 22 JUN 2365466   \n351460   3.290213  Current Track: 22 JUN 2  Current Track: 22 JUN 2365467   \n351461   3.124267  Current Track: 22 JUN 2  Current Track: 22 JUN 2365468   \n\n        ORIG_FID                                              SHAPE  \n178006    187196  {\"x\": 425304.7335000001, \"y\": 3988429.78250000...  \n178007    187197  {\"x\": 425268.85309999995, \"y\": 3988611.1905000...  \n178008    187198  {\"x\": 425005.6963999998, \"y\": 3988564.90179999...  \n178009    187199  {\"x\": 424842.26159999985, \"y\": 3988341.3215999...  \n178010    187200  {\"x\": 424672.69489999954, \"y\": 3988351.8133000...  \n...          ...                                                ...  \n343197    354784  {\"x\": 398813.0422, \"y\": 3987621.3333, \"spatial...  \n343202    354789  {\"x\": 398822.0549999997, \"y\": 3987316.84940000...  \n351459    365466  {\"x\": 399043.1338999998, \"y\": 3986555.37260000...  \n351460    365467  {\"x\": 399066.91530000046, \"y\": 3986546.2654999...  \n351461    365468  {\"x\": 399089.86849999987, \"y\": 3986535.4291999...  \n\n[585 rows x 18 columns]",
      "text/html": "<div>\n<style scoped>\n    .dataframe tbody tr th:only-of-type {\n        vertical-align: middle;\n    }\n\n    .dataframe tbody tr th {\n        vertical-align: top;\n    }\n\n    .dataframe thead th {\n        text-align: right;\n    }\n</style>\n<table border=\"1\" class=\"dataframe\">\n  <thead>\n    <tr style=\"text-align: right;\">\n      <th></th>\n      <th>FID</th>\n      <th>dtime</th>\n      <th>d_start_s</th>\n      <th>d_end</th>\n      <th>d_end_s</th>\n      <th>dt_sec</th>\n      <th>dt_min</th>\n      <th>distance_m</th>\n      <th>oid_start</th>\n      <th>oid_end</th>\n      <th>speed_mps</th>\n      <th>speed_mph</th>\n      <th>speed_kph</th>\n      <th>speed_knt</th>\n      <th>GID</th>\n      <th>ID_2</th>\n      <th>ORIG_FID</th>\n      <th>SHAPE</th>\n    </tr>\n  </thead>\n  <tbody>\n    <tr>\n      <th>178006</th>\n      <td>184126</td>\n      <td>2023-06-06 21:15:10.000002</td>\n      <td>2023-06-06 09:15:10 PM</td>\n      <td>2023-06-06 21:15:25</td>\n      <td>2023-06-06 09:15:25 PM</td>\n      <td>14</td>\n      <td>0.233333</td>\n      <td>184.983593</td>\n      <td>317869</td>\n      <td>317358</td>\n      <td>13.213114</td>\n      <td>29.556943</td>\n      <td>47.56721</td>\n      <td>25.684179</td>\n      <td>Current Track: 05 JUN 2</td>\n      <td>Current Track: 05 JUN 2187196</td>\n      <td>187196</td>\n      <td>{\"x\": 425304.7335000001, \"y\": 3988429.78250000...</td>\n    </tr>\n    <tr>\n      <th>178007</th>\n      <td>184127</td>\n      <td>2023-06-06 21:15:25.000000</td>\n      <td>2023-06-06 09:15:25 PM</td>\n      <td>2023-06-06 21:15:40</td>\n      <td>2023-06-06 09:15:40 PM</td>\n      <td>15</td>\n      <td>0.25</td>\n      <td>267.285187</td>\n      <td>317358</td>\n      <td>317359</td>\n      <td>17.819012</td>\n      <td>39.860062</td>\n      <td>64.148445</td>\n      <td>34.637309</td>\n      <td>Current Track: 05 JUN 2</td>\n      <td>Current Track: 05 JUN 2187197</td>\n      <td>187197</td>\n      <td>{\"x\": 425268.85309999995, \"y\": 3988611.1905000...</td>\n    </tr>\n    <tr>\n      <th>178008</th>\n      <td>184128</td>\n      <td>2023-06-06 21:15:40.000000</td>\n      <td>2023-06-06 09:15:40 PM</td>\n      <td>2023-06-06 21:15:55</td>\n      <td>2023-06-06 09:15:55 PM</td>\n      <td>15</td>\n      <td>0.25</td>\n      <td>277.03749</td>\n      <td>317359</td>\n      <td>316874</td>\n      <td>18.469166</td>\n      <td>41.314416</td>\n      <td>66.488998</td>\n      <td>35.901104</td>\n      <td>Current Track: 05 JUN 2</td>\n      <td>Current Track: 05 JUN 2187198</td>\n      <td>187198</td>\n      <td>{\"x\": 425005.6963999998, \"y\": 3988564.90179999...</td>\n    </tr>\n    <tr>\n      <th>178009</th>\n      <td>184129</td>\n      <td>2023-06-06 21:15:55.000000</td>\n      <td>2023-06-06 09:15:55 PM</td>\n      <td>2023-06-06 21:16:10</td>\n      <td>2023-06-06 09:16:10 PM</td>\n      <td>15</td>\n      <td>0.25</td>\n      <td>169.947093</td>\n      <td>316874</td>\n      <td>316519</td>\n      <td>11.329806</td>\n      <td>25.344097</td>\n      <td>40.787302</td>\n      <td>22.023331</td>\n      <td>Current Track: 05 JUN 2</td>\n      <td>Current Track: 05 JUN 2187199</td>\n      <td>187199</td>\n      <td>{\"x\": 424842.26159999985, \"y\": 3988341.3215999...</td>\n    </tr>\n    <tr>\n      <th>178010</th>\n      <td>184130</td>\n      <td>2023-06-06 21:16:10.000000</td>\n      <td>2023-06-06 09:16:10 PM</td>\n      <td>2023-06-06 21:16:25</td>\n      <td>2023-06-06 09:16:25 PM</td>\n      <td>15</td>\n      <td>0.25</td>\n      <td>192.130733</td>\n      <td>316519</td>\n      <td>312443</td>\n      <td>12.808716</td>\n      <td>28.652328</td>\n      <td>46.111376</td>\n      <td>24.898094</td>\n      <td>Current Track: 05 JUN 2</td>\n      <td>Current Track: 05 JUN 2187200</td>\n      <td>187200</td>\n      <td>{\"x\": 424672.69489999954, \"y\": 3988351.8133000...</td>\n    </tr>\n    <tr>\n      <th>...</th>\n      <td>...</td>\n      <td>...</td>\n      <td>...</td>\n      <td>...</td>\n      <td>...</td>\n      <td>...</td>\n      <td>...</td>\n      <td>...</td>\n      <td>...</td>\n      <td>...</td>\n      <td>...</td>\n      <td>...</td>\n      <td>...</td>\n      <td>...</td>\n      <td>...</td>\n      <td>...</td>\n      <td>...</td>\n      <td>...</td>\n    </tr>\n    <tr>\n      <th>343197</th>\n      <td>351582</td>\n      <td>2023-06-22 17:01:54.000000</td>\n      <td>2023-06-22 05:01:54 PM</td>\n      <td>2023-06-22 17:02:09</td>\n      <td>2023-06-22 05:02:09 PM</td>\n      <td>15</td>\n      <td>0.25</td>\n      <td>304.700704</td>\n      <td>6438</td>\n      <td>5558</td>\n      <td>20.31338</td>\n      <td>45.439813</td>\n      <td>73.128169</td>\n      <td>39.485961</td>\n      <td>Current Track: 22 JUN 2</td>\n      <td>Current Track: 22 JUN 2354784</td>\n      <td>354784</td>\n      <td>{\"x\": 398813.0422, \"y\": 3987621.3333, \"spatial...</td>\n    </tr>\n    <tr>\n      <th>343202</th>\n      <td>351587</td>\n      <td>2023-06-22 17:02:09.000000</td>\n      <td>2023-06-22 05:02:09 PM</td>\n      <td>2023-06-22 17:02:24</td>\n      <td>2023-06-22 05:02:24 PM</td>\n      <td>15</td>\n      <td>0.25</td>\n      <td>295.932619</td>\n      <td>5558</td>\n      <td>5559</td>\n      <td>19.728841</td>\n      <td>44.132234</td>\n      <td>71.023829</td>\n      <td>38.349711</td>\n      <td>Current Track: 22 JUN 2</td>\n      <td>Current Track: 22 JUN 2354789</td>\n      <td>354789</td>\n      <td>{\"x\": 398822.0549999997, \"y\": 3987316.84940000...</td>\n    </tr>\n    <tr>\n      <th>351459</th>\n      <td>362255</td>\n      <td>2023-06-24 11:16:53.000000</td>\n      <td>2023-06-24 11:16:53 AM</td>\n      <td>2023-06-24 11:17:08</td>\n      <td>2023-06-24 11:17:08 AM</td>\n      <td>15</td>\n      <td>0.25</td>\n      <td>25.472541</td>\n      <td>97015</td>\n      <td>97978</td>\n      <td>1.698169</td>\n      <td>3.798703</td>\n      <td>6.11341</td>\n      <td>3.30097</td>\n      <td>Current Track: 22 JUN 2</td>\n      <td>Current Track: 22 JUN 2365466</td>\n      <td>365466</td>\n      <td>{\"x\": 399043.1338999998, \"y\": 3986555.37260000...</td>\n    </tr>\n    <tr>\n      <th>351460</th>\n      <td>362256</td>\n      <td>2023-06-24 11:17:08.000000</td>\n      <td>2023-06-24 11:17:08 AM</td>\n      <td>2023-06-24 11:17:23</td>\n      <td>2023-06-24 11:17:23 AM</td>\n      <td>15</td>\n      <td>0.25</td>\n      <td>25.389538</td>\n      <td>97978</td>\n      <td>97979</td>\n      <td>1.692636</td>\n      <td>3.786325</td>\n      <td>6.093489</td>\n      <td>3.290213</td>\n      <td>Current Track: 22 JUN 2</td>\n      <td>Current Track: 22 JUN 2365467</td>\n      <td>365467</td>\n      <td>{\"x\": 399066.91530000046, \"y\": 3986546.2654999...</td>\n    </tr>\n    <tr>\n      <th>351461</th>\n      <td>362257</td>\n      <td>2023-06-24 11:17:23.000000</td>\n      <td>2023-06-24 11:17:23 AM</td>\n      <td>2023-06-24 11:17:38</td>\n      <td>2023-06-24 11:17:38 AM</td>\n      <td>15</td>\n      <td>0.25</td>\n      <td>24.108982</td>\n      <td>97979</td>\n      <td>97980</td>\n      <td>1.607265</td>\n      <td>3.595356</td>\n      <td>5.786156</td>\n      <td>3.124267</td>\n      <td>Current Track: 22 JUN 2</td>\n      <td>Current Track: 22 JUN 2365468</td>\n      <td>365468</td>\n      <td>{\"x\": 399089.86849999987, \"y\": 3986535.4291999...</td>\n    </tr>\n  </tbody>\n</table>\n<p>585 rows × 18 columns</p>\n</div>"
     },
     "execution_count": 27,
     "metadata": {},
     "output_type": "execute_result"
    }
   ],
   "source": [
    "##Create a dataframe of GIDs that need to be deleted (i.e., full participant tracks)\n",
    "\n",
    "Bad_GID = df.copy()\n",
    "Bad_GIDs = [\"Current Track: 22 JUN 2\",\"Current Track: 05 JUN 2\"]\n",
    "Bad_GID2 = pd.DataFrame(Bad_GID[Bad_GID[\"GID\"].isin(Bad_GIDs)])\n",
    "Bad_GID2"
   ],
   "metadata": {
    "collapsed": false,
    "ExecuteTime": {
     "end_time": "2024-06-09T21:24:01.932152500Z",
     "start_time": "2024-06-09T21:24:01.737063800Z"
    }
   }
  },
  {
   "cell_type": "code",
   "execution_count": 28,
   "outputs": [
    {
     "data": {
      "text/plain": "           FID                                              SHAPE\n178006  184126  {\"x\": 425304.7335000001, \"y\": 3988429.78250000...\n178007  184127  {\"x\": 425268.85309999995, \"y\": 3988611.1905000...\n178008  184128  {\"x\": 425005.6963999998, \"y\": 3988564.90179999...\n178009  184129  {\"x\": 424842.26159999985, \"y\": 3988341.3215999...\n178010  184130  {\"x\": 424672.69489999954, \"y\": 3988351.8133000...\n...        ...                                                ...\n343197  351582  {\"x\": 398813.0422, \"y\": 3987621.3333, \"spatial...\n343202  351587  {\"x\": 398822.0549999997, \"y\": 3987316.84940000...\n351459  362255  {\"x\": 399043.1338999998, \"y\": 3986555.37260000...\n351460  362256  {\"x\": 399066.91530000046, \"y\": 3986546.2654999...\n351461  362257  {\"x\": 399089.86849999987, \"y\": 3986535.4291999...\n\n[585 rows x 2 columns]",
      "text/html": "<div>\n<style scoped>\n    .dataframe tbody tr th:only-of-type {\n        vertical-align: middle;\n    }\n\n    .dataframe tbody tr th {\n        vertical-align: top;\n    }\n\n    .dataframe thead th {\n        text-align: right;\n    }\n</style>\n<table border=\"1\" class=\"dataframe\">\n  <thead>\n    <tr style=\"text-align: right;\">\n      <th></th>\n      <th>FID</th>\n      <th>SHAPE</th>\n    </tr>\n  </thead>\n  <tbody>\n    <tr>\n      <th>178006</th>\n      <td>184126</td>\n      <td>{\"x\": 425304.7335000001, \"y\": 3988429.78250000...</td>\n    </tr>\n    <tr>\n      <th>178007</th>\n      <td>184127</td>\n      <td>{\"x\": 425268.85309999995, \"y\": 3988611.1905000...</td>\n    </tr>\n    <tr>\n      <th>178008</th>\n      <td>184128</td>\n      <td>{\"x\": 425005.6963999998, \"y\": 3988564.90179999...</td>\n    </tr>\n    <tr>\n      <th>178009</th>\n      <td>184129</td>\n      <td>{\"x\": 424842.26159999985, \"y\": 3988341.3215999...</td>\n    </tr>\n    <tr>\n      <th>178010</th>\n      <td>184130</td>\n      <td>{\"x\": 424672.69489999954, \"y\": 3988351.8133000...</td>\n    </tr>\n    <tr>\n      <th>...</th>\n      <td>...</td>\n      <td>...</td>\n    </tr>\n    <tr>\n      <th>343197</th>\n      <td>351582</td>\n      <td>{\"x\": 398813.0422, \"y\": 3987621.3333, \"spatial...</td>\n    </tr>\n    <tr>\n      <th>343202</th>\n      <td>351587</td>\n      <td>{\"x\": 398822.0549999997, \"y\": 3987316.84940000...</td>\n    </tr>\n    <tr>\n      <th>351459</th>\n      <td>362255</td>\n      <td>{\"x\": 399043.1338999998, \"y\": 3986555.37260000...</td>\n    </tr>\n    <tr>\n      <th>351460</th>\n      <td>362256</td>\n      <td>{\"x\": 399066.91530000046, \"y\": 3986546.2654999...</td>\n    </tr>\n    <tr>\n      <th>351461</th>\n      <td>362257</td>\n      <td>{\"x\": 399089.86849999987, \"y\": 3986535.4291999...</td>\n    </tr>\n  </tbody>\n</table>\n<p>585 rows × 2 columns</p>\n</div>"
     },
     "execution_count": 28,
     "metadata": {},
     "output_type": "execute_result"
    }
   ],
   "source": [
    "##Simplify the dataframe\n",
    "\n",
    "Bad_GID3 = pd.DataFrame(Bad_GID2[['FID','SHAPE']])\n",
    "Bad_GID3"
   ],
   "metadata": {
    "collapsed": false,
    "ExecuteTime": {
     "end_time": "2024-06-09T21:24:01.954800300Z",
     "start_time": "2024-06-09T21:24:01.936600Z"
    }
   }
  },
  {
   "cell_type": "code",
   "execution_count": 29,
   "outputs": [],
   "source": [
    "##Concatentate dataframes with points/tracks that must be deleted from points layer\n",
    "\n",
    "Delete_Points2 = pd.concat([Delete_Points, Bad_GID3])"
   ],
   "metadata": {
    "collapsed": false,
    "ExecuteTime": {
     "end_time": "2024-06-09T21:24:02.003693300Z",
     "start_time": "2024-06-09T21:24:01.949958300Z"
    }
   }
  },
  {
   "cell_type": "code",
   "execution_count": 30,
   "outputs": [
    {
     "data": {
      "text/plain": "'C:\\\\Users\\\\colby\\\\OneDrive - The Pennsylvania State University\\\\Documents\\\\ArcGIS\\\\Projects\\\\TTRA_Presentation\\\\TTRA_Presentation.gdb\\\\delete_points'"
     },
     "execution_count": 30,
     "metadata": {},
     "output_type": "execute_result"
    }
   ],
   "source": [
    "##Import of dataframe to ArcGIS geodatabase\n",
    "\n",
    "Delete_Points2.spatial.to_featureclass(location=os.path.join(target_gdb, \"delete_points\"))"
   ],
   "metadata": {
    "collapsed": false,
    "ExecuteTime": {
     "end_time": "2024-06-09T21:24:03.237474700Z",
     "start_time": "2024-06-09T21:24:01.965242700Z"
    }
   }
  },
  {
   "cell_type": "code",
   "execution_count": 31,
   "outputs": [
    {
     "data": {
      "text/plain": "<Result 'processed_points_Layer2'>",
      "text/html": "<div class='gpresult'><h2>Messages</h2><div id='messages' data-messages='[\"Start Time: Sunday, June 9, 2024 5:24:05 PM\",\"Succeeded at Sunday, June 9, 2024 5:24:05 PM (Elapsed Time: 0.26 seconds)\"]' data-show='true'><div id = 'default' /></div></div>"
     },
     "execution_count": 31,
     "metadata": {},
     "output_type": "execute_result"
    }
   ],
   "source": [
    "##Select the overlapping points between the original shapefile and the shapefile with the points to delete\n",
    "\n",
    "in_layer = \"processed_points\"\n",
    "overlap_type = \"INTERSECT\"\n",
    "select_features = \"delete_points\"\n",
    "\n",
    "Error_Selection = arcpy.management.SelectLayerByLocation(in_layer, overlap_type, select_features,selection_type = \"NEW_SELECTION\")\n",
    "\n",
    "##Delete the points\n",
    "\n",
    "arcpy.management.DeleteFeatures(Error_Selection)"
   ],
   "metadata": {
    "collapsed": false,
    "ExecuteTime": {
     "end_time": "2024-06-09T21:24:05.621557100Z",
     "start_time": "2024-06-09T21:24:03.240704500Z"
    }
   }
  },
  {
   "cell_type": "code",
   "execution_count": 32,
   "outputs": [
    {
     "data": {
      "text/plain": "   OBJECTID                    d_start               d_start_s  \\\n0         1 2023-05-23 09:20:06.000002  2023-05-23 09:20:06 AM   \n1         2 2023-05-23 09:20:21.000000  2023-05-23 09:20:21 AM   \n2         3 2023-05-23 09:20:36.000000  2023-05-23 09:20:36 AM   \n3         4 2023-05-23 09:20:51.000000  2023-05-23 09:20:51 AM   \n4         5 2023-05-23 09:21:06.000000  2023-05-23 09:21:06 AM   \n\n                d_end                 d_end_s  dt_sec    dt_min  distance_m  \\\n0 2023-05-23 09:20:21  2023-05-23 09:20:21 AM      14  0.233333  148.485239   \n1 2023-05-23 09:20:36  2023-05-23 09:20:36 AM      15      0.25  167.024317   \n2 2023-05-23 09:20:51  2023-05-23 09:20:51 AM      15      0.25  206.065967   \n3 2023-05-23 09:21:06  2023-05-23 09:21:06 AM      15      0.25  226.657126   \n4 2023-05-23 09:21:21  2023-05-23 09:21:21 AM      15      0.25   172.77394   \n\n   oid_start  oid_end  speed_mps  speed_mph  speed_kph  speed_knt group_id  \\\n0     318087   317083  10.606089  23.725184  38.181919  20.616539   016712   \n1     317083   317084  11.134954  24.908225  40.085836   21.64457   016712   \n2     317084   317085  13.737731   30.73048  49.455832  26.703951   016712   \n3     317085   316774  15.110475  33.801226   54.39771  29.372346   016712   \n4     316774   316275  11.518263  25.765663  41.465746   22.38966   016712   \n\n      ID_2  ORIG_FID                                              SHAPE  \n0  0167121         1  {\"x\": 425325.01520000026, \"y\": 3988489.8688999...  \n1  0167122         2  {\"x\": 425258.99170000013, \"y\": 3988622.8131000...  \n2  0167123         3  {\"x\": 425092.5296, \"y\": 3988609.8121000007, \"s...  \n3  0167124         4  {\"x\": 424924.0088999998, \"y\": 3988491.33899999...  \n4  0167125         5  {\"x\": 424796.6535, \"y\": 3988303.9354, \"spatial...  ",
      "text/html": "<div>\n<style scoped>\n    .dataframe tbody tr th:only-of-type {\n        vertical-align: middle;\n    }\n\n    .dataframe tbody tr th {\n        vertical-align: top;\n    }\n\n    .dataframe thead th {\n        text-align: right;\n    }\n</style>\n<table border=\"1\" class=\"dataframe\">\n  <thead>\n    <tr style=\"text-align: right;\">\n      <th></th>\n      <th>OBJECTID</th>\n      <th>d_start</th>\n      <th>d_start_s</th>\n      <th>d_end</th>\n      <th>d_end_s</th>\n      <th>dt_sec</th>\n      <th>dt_min</th>\n      <th>distance_m</th>\n      <th>oid_start</th>\n      <th>oid_end</th>\n      <th>speed_mps</th>\n      <th>speed_mph</th>\n      <th>speed_kph</th>\n      <th>speed_knt</th>\n      <th>group_id</th>\n      <th>ID_2</th>\n      <th>ORIG_FID</th>\n      <th>SHAPE</th>\n    </tr>\n  </thead>\n  <tbody>\n    <tr>\n      <th>0</th>\n      <td>1</td>\n      <td>2023-05-23 09:20:06.000002</td>\n      <td>2023-05-23 09:20:06 AM</td>\n      <td>2023-05-23 09:20:21</td>\n      <td>2023-05-23 09:20:21 AM</td>\n      <td>14</td>\n      <td>0.233333</td>\n      <td>148.485239</td>\n      <td>318087</td>\n      <td>317083</td>\n      <td>10.606089</td>\n      <td>23.725184</td>\n      <td>38.181919</td>\n      <td>20.616539</td>\n      <td>016712</td>\n      <td>0167121</td>\n      <td>1</td>\n      <td>{\"x\": 425325.01520000026, \"y\": 3988489.8688999...</td>\n    </tr>\n    <tr>\n      <th>1</th>\n      <td>2</td>\n      <td>2023-05-23 09:20:21.000000</td>\n      <td>2023-05-23 09:20:21 AM</td>\n      <td>2023-05-23 09:20:36</td>\n      <td>2023-05-23 09:20:36 AM</td>\n      <td>15</td>\n      <td>0.25</td>\n      <td>167.024317</td>\n      <td>317083</td>\n      <td>317084</td>\n      <td>11.134954</td>\n      <td>24.908225</td>\n      <td>40.085836</td>\n      <td>21.64457</td>\n      <td>016712</td>\n      <td>0167122</td>\n      <td>2</td>\n      <td>{\"x\": 425258.99170000013, \"y\": 3988622.8131000...</td>\n    </tr>\n    <tr>\n      <th>2</th>\n      <td>3</td>\n      <td>2023-05-23 09:20:36.000000</td>\n      <td>2023-05-23 09:20:36 AM</td>\n      <td>2023-05-23 09:20:51</td>\n      <td>2023-05-23 09:20:51 AM</td>\n      <td>15</td>\n      <td>0.25</td>\n      <td>206.065967</td>\n      <td>317084</td>\n      <td>317085</td>\n      <td>13.737731</td>\n      <td>30.73048</td>\n      <td>49.455832</td>\n      <td>26.703951</td>\n      <td>016712</td>\n      <td>0167123</td>\n      <td>3</td>\n      <td>{\"x\": 425092.5296, \"y\": 3988609.8121000007, \"s...</td>\n    </tr>\n    <tr>\n      <th>3</th>\n      <td>4</td>\n      <td>2023-05-23 09:20:51.000000</td>\n      <td>2023-05-23 09:20:51 AM</td>\n      <td>2023-05-23 09:21:06</td>\n      <td>2023-05-23 09:21:06 AM</td>\n      <td>15</td>\n      <td>0.25</td>\n      <td>226.657126</td>\n      <td>317085</td>\n      <td>316774</td>\n      <td>15.110475</td>\n      <td>33.801226</td>\n      <td>54.39771</td>\n      <td>29.372346</td>\n      <td>016712</td>\n      <td>0167124</td>\n      <td>4</td>\n      <td>{\"x\": 424924.0088999998, \"y\": 3988491.33899999...</td>\n    </tr>\n    <tr>\n      <th>4</th>\n      <td>5</td>\n      <td>2023-05-23 09:21:06.000000</td>\n      <td>2023-05-23 09:21:06 AM</td>\n      <td>2023-05-23 09:21:21</td>\n      <td>2023-05-23 09:21:21 AM</td>\n      <td>15</td>\n      <td>0.25</td>\n      <td>172.77394</td>\n      <td>316774</td>\n      <td>316275</td>\n      <td>11.518263</td>\n      <td>25.765663</td>\n      <td>41.465746</td>\n      <td>22.38966</td>\n      <td>016712</td>\n      <td>0167125</td>\n      <td>5</td>\n      <td>{\"x\": 424796.6535, \"y\": 3988303.9354, \"spatial...</td>\n    </tr>\n  </tbody>\n</table>\n</div>"
     },
     "execution_count": 32,
     "metadata": {},
     "output_type": "execute_result"
    }
   ],
   "source": [
    "##With the data downloaded, do some final house cleaning by examining descriptive attributes\n",
    "\n",
    "processed_points_3 = pd.DataFrame.spatial.from_featureclass(os.path.join(target_gdb, \"processed_points\"))\n",
    "processed_points_3.head()"
   ],
   "metadata": {
    "collapsed": false,
    "ExecuteTime": {
     "end_time": "2024-06-09T21:24:12.777384900Z",
     "start_time": "2024-06-09T21:24:05.623721Z"
    }
   }
  },
  {
   "cell_type": "code",
   "execution_count": 33,
   "outputs": [],
   "source": [
    "##Update fields as needed to proper labeling scheme\n",
    "\n",
    "processed_points_3.loc[processed_points_3[\"group_id\"] == \"Current Track: 28 MAY 2\", \"group_id\"] = \"059712\"\n",
    "processed_points_3.loc[processed_points_3[\"group_id\"] == \"Current Track: 10 JUN 2\", \"group_id\"] = \"152212\"\n",
    "processed_points_3.loc[processed_points_3[\"group_id\"] == \"Current Track: 30 MAY 2\", \"group_id\"] = \"079812\"\n",
    "processed_points_3.loc[processed_points_3[\"group_id\"] == \"Current Track: 16 JUN 2\", \"group_id\"] = \"192212\""
   ],
   "metadata": {
    "collapsed": false,
    "ExecuteTime": {
     "end_time": "2024-06-09T21:24:12.914591400Z",
     "start_time": "2024-06-09T21:24:12.780145200Z"
    }
   }
  },
  {
   "cell_type": "code",
   "execution_count": 34,
   "outputs": [
    {
     "data": {
      "text/plain": "                                min                 max            trip_length\ngroup_id                                                                      \n155012   2023-06-10 10:50:45.000000 2023-06-10 10:51:30        0 days 00:00:45\n095612   2023-06-03 16:11:31.000000 2023-06-03 16:19:01        0 days 00:07:30\n191912   2023-06-16 16:36:35.000000 2023-06-16 17:04:10        0 days 00:27:35\n029812   2023-05-26 11:05:32.000000 2023-05-26 11:38:47        0 days 00:33:15\n175012   2023-06-14 11:07:58.000000 2023-06-14 11:54:13        0 days 00:46:15\n...                             ...                 ...                    ...\n027212   2023-05-26 09:35:16.000000 2023-05-28 02:54:16        1 days 17:19:00\n215112   2023-06-20 12:54:41.000000 2023-06-22 06:38:18        1 days 17:43:37\n052412   2023-05-28 16:59:01.000002 2023-05-30 11:19:51 1 days 18:20:49.999998\n136312   2023-06-08 17:23:34.000000 2023-06-10 11:45:07        1 days 18:21:33\n010812   2023-05-23 09:45:35.000000 2023-05-25 08:04:54        1 days 22:19:19\n\n[224 rows x 3 columns]",
      "text/html": "<div>\n<style scoped>\n    .dataframe tbody tr th:only-of-type {\n        vertical-align: middle;\n    }\n\n    .dataframe tbody tr th {\n        vertical-align: top;\n    }\n\n    .dataframe thead th {\n        text-align: right;\n    }\n</style>\n<table border=\"1\" class=\"dataframe\">\n  <thead>\n    <tr style=\"text-align: right;\">\n      <th></th>\n      <th>min</th>\n      <th>max</th>\n      <th>trip_length</th>\n    </tr>\n    <tr>\n      <th>group_id</th>\n      <th></th>\n      <th></th>\n      <th></th>\n    </tr>\n  </thead>\n  <tbody>\n    <tr>\n      <th>155012</th>\n      <td>2023-06-10 10:50:45.000000</td>\n      <td>2023-06-10 10:51:30</td>\n      <td>0 days 00:00:45</td>\n    </tr>\n    <tr>\n      <th>095612</th>\n      <td>2023-06-03 16:11:31.000000</td>\n      <td>2023-06-03 16:19:01</td>\n      <td>0 days 00:07:30</td>\n    </tr>\n    <tr>\n      <th>191912</th>\n      <td>2023-06-16 16:36:35.000000</td>\n      <td>2023-06-16 17:04:10</td>\n      <td>0 days 00:27:35</td>\n    </tr>\n    <tr>\n      <th>029812</th>\n      <td>2023-05-26 11:05:32.000000</td>\n      <td>2023-05-26 11:38:47</td>\n      <td>0 days 00:33:15</td>\n    </tr>\n    <tr>\n      <th>175012</th>\n      <td>2023-06-14 11:07:58.000000</td>\n      <td>2023-06-14 11:54:13</td>\n      <td>0 days 00:46:15</td>\n    </tr>\n    <tr>\n      <th>...</th>\n      <td>...</td>\n      <td>...</td>\n      <td>...</td>\n    </tr>\n    <tr>\n      <th>027212</th>\n      <td>2023-05-26 09:35:16.000000</td>\n      <td>2023-05-28 02:54:16</td>\n      <td>1 days 17:19:00</td>\n    </tr>\n    <tr>\n      <th>215112</th>\n      <td>2023-06-20 12:54:41.000000</td>\n      <td>2023-06-22 06:38:18</td>\n      <td>1 days 17:43:37</td>\n    </tr>\n    <tr>\n      <th>052412</th>\n      <td>2023-05-28 16:59:01.000002</td>\n      <td>2023-05-30 11:19:51</td>\n      <td>1 days 18:20:49.999998</td>\n    </tr>\n    <tr>\n      <th>136312</th>\n      <td>2023-06-08 17:23:34.000000</td>\n      <td>2023-06-10 11:45:07</td>\n      <td>1 days 18:21:33</td>\n    </tr>\n    <tr>\n      <th>010812</th>\n      <td>2023-05-23 09:45:35.000000</td>\n      <td>2023-05-25 08:04:54</td>\n      <td>1 days 22:19:19</td>\n    </tr>\n  </tbody>\n</table>\n<p>224 rows × 3 columns</p>\n</div>"
     },
     "execution_count": 34,
     "metadata": {},
     "output_type": "execute_result"
    }
   ],
   "source": [
    "##Check trip length for consistency (both minimumum and maximum.\n",
    "\n",
    "trip_length = processed_points_3.groupby('group_id')['d_start'].agg(['min', 'max'])\n",
    "\n",
    "# Compute the difference in days between max and min 'd_start'\n",
    "trip_length['trip_length'] = (trip_length['max'] - trip_length['min'])\n",
    "\n",
    "trip_length.sort_values(by='trip_length')"
   ],
   "metadata": {
    "collapsed": false,
    "ExecuteTime": {
     "end_time": "2024-06-09T21:24:12.992227700Z",
     "start_time": "2024-06-09T21:24:12.915937300Z"
    }
   }
  },
  {
   "cell_type": "code",
   "execution_count": 35,
   "outputs": [],
   "source": [
    "# Delete illogically long or short trips after examining them in ArcGIS Pro\n",
    "processed_points_3 = processed_points_3[~processed_points_3['group_id'].isin(['155012', '095612'])]"
   ],
   "metadata": {
    "collapsed": false,
    "ExecuteTime": {
     "end_time": "2024-06-09T21:24:13.147925700Z",
     "start_time": "2024-06-09T21:24:12.994719900Z"
    }
   }
  },
  {
   "cell_type": "code",
   "execution_count": 36,
   "outputs": [
    {
     "name": "stdout",
     "output_type": "stream",
     "text": [
      "unique GIDs:222\n",
      "# of waypoints:348229\n"
     ]
    }
   ],
   "source": [
    "##Check sample size and number of total observations\n",
    "\n",
    "uniqGID = processed_points_3['group_id'].nunique()\n",
    "print(\"unique GIDs:\" + str(uniqGID))\n",
    "waypoints = processed_points_3.shape[0]\n",
    "print(\"# of waypoints:\" + str(waypoints))"
   ],
   "metadata": {
    "collapsed": false,
    "ExecuteTime": {
     "end_time": "2024-06-09T21:24:13.192607800Z",
     "start_time": "2024-06-09T21:24:13.149926800Z"
    }
   }
  },
  {
   "cell_type": "code",
   "execution_count": 37,
   "outputs": [
    {
     "data": {
      "text/plain": "'C:\\\\Users\\\\colby\\\\OneDrive - The Pennsylvania State University\\\\Documents\\\\ArcGIS\\\\Projects\\\\TTRA_Presentation\\\\TTRA_Presentation.gdb\\\\cleaned_points'"
     },
     "execution_count": 37,
     "metadata": {},
     "output_type": "execute_result"
    }
   ],
   "source": [
    "processed_points_3.spatial.to_featureclass(location=os.path.join(target_gdb, \"cleaned_points\"))"
   ],
   "metadata": {
    "collapsed": false,
    "ExecuteTime": {
     "end_time": "2024-06-09T21:24:39.896771600Z",
     "start_time": "2024-06-09T21:24:13.200957100Z"
    }
   }
  },
  {
   "cell_type": "code",
   "execution_count": 38,
   "outputs": [],
   "source": [
    "##Delete obvious erroneous points manually (delete key in ArcGIS):\n",
    "# 61 points around GPS device dropbox location outside the buffer range were manually deleted\n",
    "\n",
    "# COMMENT:Below are possible errors missed after performing the above steps (There were fewer than 100 errors that I identified, which is great for dataset of 350,000+):\n",
    "#   1. 11 points appear in a cluster in the canyon far off trail with no apparent lead up on Bright Angel Trailhead near Powell Point. These may be deleted, but again, that may be better to leave to the individual researcher based on their needs/analysis.\n",
    "#   2. 6 Points next to Navajo overlook that seem excessively far into the canyon even accounting for error by the same device. These may be deleted, but again, that may be better to leave to the individual researcher based on their needs/analysis."
   ],
   "metadata": {
    "collapsed": false,
    "ExecuteTime": {
     "end_time": "2024-06-09T21:24:39.912105100Z",
     "start_time": "2024-06-09T21:24:39.891897600Z"
    }
   }
  }
 ],
 "metadata": {
  "kernelspec": {
   "display_name": "Python 3",
   "language": "python",
   "name": "python3"
  },
  "language_info": {
   "codemirror_mode": {
    "name": "ipython",
    "version": 2
   },
   "file_extension": ".py",
   "mimetype": "text/x-python",
   "name": "python",
   "nbconvert_exporter": "python",
   "pygments_lexer": "ipython2",
   "version": "2.7.6"
  }
 },
 "nbformat": 4,
 "nbformat_minor": 0
}
